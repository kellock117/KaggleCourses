{
 "cells": [
  {
   "cell_type": "markdown",
   "id": "e996d5ab",
   "metadata": {
    "papermill": {
     "duration": 0.029666,
     "end_time": "2022-03-14T12:02:51.179227",
     "exception": false,
     "start_time": "2022-03-14T12:02:51.149561",
     "status": "completed"
    },
    "tags": []
   },
   "source": [
    "**This notebook is an exercise in the [Python](https://www.kaggle.com/learn/python) course.  You can reference the tutorial at [this link](https://www.kaggle.com/colinmorris/hello-python).**\n",
    "\n",
    "---\n"
   ]
  },
  {
   "cell_type": "markdown",
   "id": "64931ab7",
   "metadata": {
    "papermill": {
     "duration": 0.027272,
     "end_time": "2022-03-14T12:02:51.233286",
     "exception": false,
     "start_time": "2022-03-14T12:02:51.206014",
     "status": "completed"
    },
    "tags": []
   },
   "source": [
    "Welcome to your first set of Python coding problems.  If this is your first time using Kaggle Notebooks, welcome! \n",
    "\n",
    "Notebooks are composed of blocks (called \"cells\") of text and code. Each of these is editable, though you'll mainly be editing the code cells to answer some questions.\n",
    "\n",
    "To get started, try running the code cell below (by pressing the ► button, or clicking on the cell and pressing ctrl+enter on your keyboard)."
   ]
  },
  {
   "cell_type": "code",
   "execution_count": 1,
   "id": "b34dae92",
   "metadata": {
    "execution": {
     "iopub.execute_input": "2022-03-14T12:02:51.291917Z",
     "iopub.status.busy": "2022-03-14T12:02:51.290658Z",
     "iopub.status.idle": "2022-03-14T12:02:51.301759Z",
     "shell.execute_reply": "2022-03-14T12:02:51.300760Z",
     "shell.execute_reply.started": "2022-03-14T11:55:30.276803Z"
    },
    "papermill": {
     "duration": 0.041817,
     "end_time": "2022-03-14T12:02:51.301974",
     "exception": false,
     "start_time": "2022-03-14T12:02:51.260157",
     "status": "completed"
    },
    "tags": []
   },
   "outputs": [
    {
     "name": "stdout",
     "output_type": "stream",
     "text": [
      "You've successfully run some Python code\n",
      "Congratulations!\n"
     ]
    }
   ],
   "source": [
    "print(\"You've successfully run some Python code\")\n",
    "print(\"Congratulations!\")"
   ]
  },
  {
   "cell_type": "markdown",
   "id": "c641ba58",
   "metadata": {
    "papermill": {
     "duration": 0.026277,
     "end_time": "2022-03-14T12:02:51.356323",
     "exception": false,
     "start_time": "2022-03-14T12:02:51.330046",
     "status": "completed"
    },
    "tags": []
   },
   "source": [
    "Try adding another line of code in the cell above and re-running it. \n",
    "\n",
    "Now let's get a little fancier:  Add a new code cell by clicking on an existing code cell, hitting the escape key, and then hitting the `a` or `b` key.  The `a` key will add a cell above the current cell, and `b` adds a cell below.\n",
    "\n",
    "Great! Now you know how to use Notebooks.\n",
    "\n",
    "Each hands-on exercise starts by setting up our feedback and code checking mechanism. Run the code cell below to do that. Then you'll be ready to move on to question 0."
   ]
  },
  {
   "cell_type": "code",
   "execution_count": 2,
   "id": "9b2d416d",
   "metadata": {
    "_kg_hide-input": true,
    "_kg_hide-output": true,
    "execution": {
     "iopub.execute_input": "2022-03-14T12:02:51.415343Z",
     "iopub.status.busy": "2022-03-14T12:02:51.414359Z",
     "iopub.status.idle": "2022-03-14T12:02:51.459164Z",
     "shell.execute_reply": "2022-03-14T12:02:51.460255Z",
     "shell.execute_reply.started": "2022-03-14T11:55:34.198478Z"
    },
    "papermill": {
     "duration": 0.077086,
     "end_time": "2022-03-14T12:02:51.460635",
     "exception": false,
     "start_time": "2022-03-14T12:02:51.383549",
     "status": "completed"
    },
    "tags": []
   },
   "outputs": [
    {
     "name": "stdout",
     "output_type": "stream",
     "text": [
      "Setup complete! You're ready to start question 0.\n"
     ]
    }
   ],
   "source": [
    "from learntools.core import binder; binder.bind(globals())\n",
    "from learntools.python.ex1 import *\n",
    "print(\"Setup complete! You're ready to start question 0.\")"
   ]
  },
  {
   "cell_type": "code",
   "execution_count": null,
   "id": "55a879ef",
   "metadata": {
    "papermill": {
     "duration": 0.026647,
     "end_time": "2022-03-14T12:02:51.515780",
     "exception": false,
     "start_time": "2022-03-14T12:02:51.489133",
     "status": "completed"
    },
    "tags": []
   },
   "outputs": [],
   "source": []
  },
  {
   "cell_type": "markdown",
   "id": "4bf2500a",
   "metadata": {
    "papermill": {
     "duration": 0.026131,
     "end_time": "2022-03-14T12:02:51.568353",
     "exception": false,
     "start_time": "2022-03-14T12:02:51.542222",
     "status": "completed"
    },
    "tags": []
   },
   "source": [
    "# 0.\n",
    "\n",
    "*This is a silly question intended as an introduction to the format we use for hands-on exercises throughout all Kaggle courses.*\n",
    "\n",
    "**What is your favorite color? **\n",
    "\n",
    "To complete this question, create a variable called `color` in the cell below with an appropriate value. The function call `q0.check()` (which we've already provided in the cell below) will check your answer."
   ]
  },
  {
   "cell_type": "code",
   "execution_count": 3,
   "id": "3977d4da",
   "metadata": {
    "execution": {
     "iopub.execute_input": "2022-03-14T12:02:51.631208Z",
     "iopub.status.busy": "2022-03-14T12:02:51.626252Z",
     "iopub.status.idle": "2022-03-14T12:02:51.635856Z",
     "shell.execute_reply": "2022-03-14T12:02:51.636350Z",
     "shell.execute_reply.started": "2022-03-14T11:55:38.556728Z"
    },
    "papermill": {
     "duration": 0.041764,
     "end_time": "2022-03-14T12:02:51.636515",
     "exception": false,
     "start_time": "2022-03-14T12:02:51.594751",
     "status": "completed"
    },
    "tags": []
   },
   "outputs": [
    {
     "data": {
      "application/javascript": [
       "parent.postMessage({\"jupyterEvent\": \"custom.exercise_interaction\", \"data\": {\"outcomeType\": 4, \"interactionType\": 1, \"questionType\": 2, \"questionId\": \"0_ExerciseFormatTutorial\", \"learnToolsVersion\": \"0.3.4\", \"valueTowardsCompletion\": 0.0, \"failureMessage\": \"\", \"exceptionClass\": \"\", \"trace\": \"\"}}, \"*\")"
      ],
      "text/plain": [
       "<IPython.core.display.Javascript object>"
      ]
     },
     "metadata": {},
     "output_type": "display_data"
    },
    {
     "data": {
      "text/markdown": [
       "<span style=\"color:#ccaa33\">Check:</span> When you've updated the starter code, `check()` will tell you whether your code is correct. Remember, you must create the following variable: `color`"
      ],
      "text/plain": [
       "Check: When you've updated the starter code, `check()` will tell you whether your code is correct. Remember, you must create the following variable: `color`"
      ]
     },
     "metadata": {},
     "output_type": "display_data"
    }
   ],
   "source": [
    "# create a variable called color with an appropriate value on the line below\n",
    "# (Remember, strings in Python must be enclosed in 'single' or \"double\" quotes)\n",
    "____\n",
    "\n",
    "# Check your answer\n",
    "q0.check()"
   ]
  },
  {
   "cell_type": "markdown",
   "id": "ad9a7681",
   "metadata": {
    "papermill": {
     "duration": 0.027993,
     "end_time": "2022-03-14T12:02:51.692086",
     "exception": false,
     "start_time": "2022-03-14T12:02:51.664093",
     "status": "completed"
    },
    "tags": []
   },
   "source": [
    "Didn't get the right answer? How do you not even know your own favorite color?!\n",
    "\n",
    "Delete the `#` in the line below to make one of the lines run. You can choose between getting a hint or the full answer by choosing which line to remove the `#` from. \n",
    "\n",
    "Removing the `#` is called uncommenting, because it changes that line from a \"comment\" which Python doesn't run to code, which Python does run."
   ]
  },
  {
   "cell_type": "code",
   "execution_count": 4,
   "id": "1e34513c",
   "metadata": {
    "execution": {
     "iopub.execute_input": "2022-03-14T12:02:51.754592Z",
     "iopub.status.busy": "2022-03-14T12:02:51.753616Z",
     "iopub.status.idle": "2022-03-14T12:02:51.755812Z",
     "shell.execute_reply": "2022-03-14T12:02:51.756284Z"
    },
    "papermill": {
     "duration": 0.035294,
     "end_time": "2022-03-14T12:02:51.756462",
     "exception": false,
     "start_time": "2022-03-14T12:02:51.721168",
     "status": "completed"
    },
    "tags": []
   },
   "outputs": [],
   "source": [
    "#q0.hint()\n",
    "#q0.solution()"
   ]
  },
  {
   "cell_type": "markdown",
   "id": "b21c1229",
   "metadata": {
    "papermill": {
     "duration": 0.02792,
     "end_time": "2022-03-14T12:02:51.812714",
     "exception": false,
     "start_time": "2022-03-14T12:02:51.784794",
     "status": "completed"
    },
    "tags": []
   },
   "source": [
    "The upcoming questions work the same way. The only thing that will change are the question numbers. For the next question, you'll call `q1.check()`, `q1.hint()`, `q1.solution()`, for question 2, you'll call `q2.check()`, and so on."
   ]
  },
  {
   "cell_type": "markdown",
   "id": "dd98edd8",
   "metadata": {
    "papermill": {
     "duration": 0.028022,
     "end_time": "2022-03-14T12:02:51.868787",
     "exception": false,
     "start_time": "2022-03-14T12:02:51.840765",
     "status": "completed"
    },
    "tags": []
   },
   "source": [
    "<hr/>\n",
    "\n",
    "# 1.\n",
    "\n",
    "Complete the code below. In case it's helpful, here is the table of available arithmetic operations:\n",
    "\n",
    "\n",
    "\n",
    "| Operator     | Name           | Description                                            |\n",
    "|--------------|----------------|--------------------------------------------------------|\n",
    "| ``a + b``    | Addition       | Sum of ``a`` and ``b``                                 |\n",
    "| ``a - b``    | Subtraction    | Difference of ``a`` and ``b``                          |\n",
    "| ``a * b``    | Multiplication | Product of ``a`` and ``b``                             |\n",
    "| ``a / b``    | True division  | Quotient of ``a`` and ``b``                            |\n",
    "| ``a // b``   | Floor division | Quotient of ``a`` and ``b``, removing fractional parts |\n",
    "| ``a % b``    | Modulus        | Integer remainder after division of ``a`` by ``b``     |\n",
    "| ``a ** b``   | Exponentiation | ``a`` raised to the power of ``b``                     |\n",
    "| ``-a``       | Negation       | The negative of ``a``                                  |\n",
    "\n",
    "<span style=\"display:none\"></span>\n"
   ]
  },
  {
   "cell_type": "code",
   "execution_count": 5,
   "id": "20d10c8f",
   "metadata": {
    "execution": {
     "iopub.execute_input": "2022-03-14T12:02:51.931826Z",
     "iopub.status.busy": "2022-03-14T12:02:51.928159Z",
     "iopub.status.idle": "2022-03-14T12:02:51.935930Z",
     "shell.execute_reply": "2022-03-14T12:02:51.936529Z",
     "shell.execute_reply.started": "2022-03-14T11:11:35.052473Z"
    },
    "papermill": {
     "duration": 0.03953,
     "end_time": "2022-03-14T12:02:51.936744",
     "exception": false,
     "start_time": "2022-03-14T12:02:51.897214",
     "status": "completed"
    },
    "tags": []
   },
   "outputs": [
    {
     "data": {
      "application/javascript": [
       "parent.postMessage({\"jupyterEvent\": \"custom.exercise_interaction\", \"data\": {\"outcomeType\": 1, \"valueTowardsCompletion\": 0.25, \"interactionType\": 1, \"questionType\": 1, \"questionId\": \"1_CircleArea\", \"learnToolsVersion\": \"0.3.4\", \"failureMessage\": \"\", \"exceptionClass\": \"\", \"trace\": \"\"}}, \"*\")"
      ],
      "text/plain": [
       "<IPython.core.display.Javascript object>"
      ]
     },
     "metadata": {},
     "output_type": "display_data"
    },
    {
     "data": {
      "text/markdown": [
       "<span style=\"color:#33cc33\">Correct</span>"
      ],
      "text/plain": [
       "Correct"
      ]
     },
     "metadata": {},
     "output_type": "display_data"
    }
   ],
   "source": [
    "pi = 3.14159 # approximate\n",
    "diameter = 3\n",
    "\n",
    "# Create a variable called 'radius' equal to half the diameter\n",
    "____\n",
    "radius = diameter / 2\n",
    "\n",
    "# Create a variable called 'area', using the formula for the area of a circle: pi times the radius squared\n",
    "____\n",
    "area = radius ** 2 * pi\n",
    "\n",
    "# Check your answer\n",
    "q1.check()"
   ]
  },
  {
   "cell_type": "code",
   "execution_count": 6,
   "id": "c8215c7f",
   "metadata": {
    "execution": {
     "iopub.execute_input": "2022-03-14T12:02:52.001024Z",
     "iopub.status.busy": "2022-03-14T12:02:52.000289Z",
     "iopub.status.idle": "2022-03-14T12:02:52.003089Z",
     "shell.execute_reply": "2022-03-14T12:02:52.003750Z"
    },
    "papermill": {
     "duration": 0.036743,
     "end_time": "2022-03-14T12:02:52.004004",
     "exception": false,
     "start_time": "2022-03-14T12:02:51.967261",
     "status": "completed"
    },
    "tags": []
   },
   "outputs": [],
   "source": [
    "# Uncomment and run the lines below if you need help.\n",
    "#q1.hint()\n",
    "#q1.solution()"
   ]
  },
  {
   "cell_type": "markdown",
   "id": "b18e3bef",
   "metadata": {
    "papermill": {
     "duration": 0.02943,
     "end_time": "2022-03-14T12:02:52.065410",
     "exception": false,
     "start_time": "2022-03-14T12:02:52.035980",
     "status": "completed"
    },
    "tags": []
   },
   "source": [
    "<hr/>\n",
    "\n",
    "# 2.\n",
    "\n",
    "Add code to the following cell to swap variables `a` and `b` (so that `a` refers to the object previously referred to by `b` and vice versa)."
   ]
  },
  {
   "cell_type": "code",
   "execution_count": 7,
   "id": "93dcfacb",
   "metadata": {
    "execution": {
     "iopub.execute_input": "2022-03-14T12:02:52.129549Z",
     "iopub.status.busy": "2022-03-14T12:02:52.128838Z",
     "iopub.status.idle": "2022-03-14T12:02:52.135870Z",
     "shell.execute_reply": "2022-03-14T12:02:52.136419Z",
     "shell.execute_reply.started": "2022-03-14T11:55:45.326280Z"
    },
    "papermill": {
     "duration": 0.04102,
     "end_time": "2022-03-14T12:02:52.136604",
     "exception": false,
     "start_time": "2022-03-14T12:02:52.095584",
     "status": "completed"
    },
    "tags": []
   },
   "outputs": [
    {
     "data": {
      "application/javascript": [
       "parent.postMessage({\"jupyterEvent\": \"custom.exercise_interaction\", \"data\": {\"outcomeType\": 1, \"valueTowardsCompletion\": 0.25, \"interactionType\": 1, \"questionType\": 2, \"questionId\": \"2_VariableSwap\", \"learnToolsVersion\": \"0.3.4\", \"failureMessage\": \"\", \"exceptionClass\": \"\", \"trace\": \"\"}}, \"*\")"
      ],
      "text/plain": [
       "<IPython.core.display.Javascript object>"
      ]
     },
     "metadata": {},
     "output_type": "display_data"
    },
    {
     "data": {
      "text/markdown": [
       "<span style=\"color:#33cc33\">Correct:</span> \n",
       "\n",
       "The most straightforward solution is to use a third variable to temporarily store one of the old values. e.g.:\n",
       "\n",
       "    tmp = a\n",
       "    a = b\n",
       "    b = tmp\n",
       "\n",
       "If you've read lots of Python code, you might have seen the following trick to swap two variables in one line:\n",
       "\n",
       "    a, b = b, a\n",
       "\n",
       "We'll demystify this bit of Python magic later when we talk about *tuples*."
      ],
      "text/plain": [
       "Correct: \n",
       "\n",
       "The most straightforward solution is to use a third variable to temporarily store one of the old values. e.g.:\n",
       "\n",
       "    tmp = a\n",
       "    a = b\n",
       "    b = tmp\n",
       "\n",
       "If you've read lots of Python code, you might have seen the following trick to swap two variables in one line:\n",
       "\n",
       "    a, b = b, a\n",
       "\n",
       "We'll demystify this bit of Python magic later when we talk about *tuples*."
      ]
     },
     "metadata": {},
     "output_type": "display_data"
    }
   ],
   "source": [
    "########### Setup code - don't touch this part ######################\n",
    "# If you're curious, these are examples of lists. We'll talk about \n",
    "# them in depth a few lessons from now. For now, just know that they're\n",
    "# yet another type of Python object, like int or float.\n",
    "a = [1, 2, 3]\n",
    "b = [3, 2, 1]\n",
    "q2.store_original_ids()\n",
    "######################################################################\n",
    "\n",
    "# Your code goes here. Swap the values to which a and b refer.\n",
    "# If you get stuck, you can always uncomment one or both of the lines in\n",
    "# the next cell for a hint, or to peek at the solution.\n",
    "temp = a\n",
    "a = b\n",
    "b = temp\n",
    "\n",
    "#easier way\n",
    "# a, b = b, a \n",
    "\n",
    "######################################################################\n",
    "\n",
    "# Check your answer\n",
    "q2.check()"
   ]
  },
  {
   "cell_type": "code",
   "execution_count": 8,
   "id": "c86965f0",
   "metadata": {
    "execution": {
     "iopub.execute_input": "2022-03-14T12:02:52.201500Z",
     "iopub.status.busy": "2022-03-14T12:02:52.199620Z",
     "iopub.status.idle": "2022-03-14T12:02:52.203706Z",
     "shell.execute_reply": "2022-03-14T12:02:52.204237Z",
     "shell.execute_reply.started": "2022-03-14T11:22:00.231576Z"
    },
    "papermill": {
     "duration": 0.037575,
     "end_time": "2022-03-14T12:02:52.204445",
     "exception": false,
     "start_time": "2022-03-14T12:02:52.166870",
     "status": "completed"
    },
    "tags": []
   },
   "outputs": [],
   "source": [
    "#q2.hint()"
   ]
  },
  {
   "cell_type": "code",
   "execution_count": 9,
   "id": "e46fbc91",
   "metadata": {
    "execution": {
     "iopub.execute_input": "2022-03-14T12:02:52.269325Z",
     "iopub.status.busy": "2022-03-14T12:02:52.268356Z",
     "iopub.status.idle": "2022-03-14T12:02:52.271980Z",
     "shell.execute_reply": "2022-03-14T12:02:52.272634Z"
    },
    "papermill": {
     "duration": 0.038321,
     "end_time": "2022-03-14T12:02:52.272843",
     "exception": false,
     "start_time": "2022-03-14T12:02:52.234522",
     "status": "completed"
    },
    "tags": []
   },
   "outputs": [],
   "source": [
    "#q2.solution()"
   ]
  },
  {
   "cell_type": "markdown",
   "id": "62fe604c",
   "metadata": {
    "papermill": {
     "duration": 0.031904,
     "end_time": "2022-03-14T12:02:52.336193",
     "exception": false,
     "start_time": "2022-03-14T12:02:52.304289",
     "status": "completed"
    },
    "tags": []
   },
   "source": [
    "<hr/>\n",
    "\n",
    "# 3a.\n",
    "\n",
    "Add parentheses to the following expression so that it evaluates to 1."
   ]
  },
  {
   "cell_type": "code",
   "execution_count": 10,
   "id": "f5840cef",
   "metadata": {
    "execution": {
     "iopub.execute_input": "2022-03-14T12:02:52.404937Z",
     "iopub.status.busy": "2022-03-14T12:02:52.403918Z",
     "iopub.status.idle": "2022-03-14T12:02:52.410487Z",
     "shell.execute_reply": "2022-03-14T12:02:52.411164Z",
     "shell.execute_reply.started": "2022-03-14T11:22:37.941628Z"
    },
    "papermill": {
     "duration": 0.043139,
     "end_time": "2022-03-14T12:02:52.411371",
     "exception": false,
     "start_time": "2022-03-14T12:02:52.368232",
     "status": "completed"
    },
    "tags": []
   },
   "outputs": [
    {
     "data": {
      "text/plain": [
       "1"
      ]
     },
     "execution_count": 10,
     "metadata": {},
     "output_type": "execute_result"
    }
   ],
   "source": [
    "(5 - 3) // 2"
   ]
  },
  {
   "cell_type": "code",
   "execution_count": 11,
   "id": "62d4da29",
   "metadata": {
    "execution": {
     "iopub.execute_input": "2022-03-14T12:02:52.483919Z",
     "iopub.status.busy": "2022-03-14T12:02:52.482391Z",
     "iopub.status.idle": "2022-03-14T12:02:52.486627Z",
     "shell.execute_reply": "2022-03-14T12:02:52.485956Z"
    },
    "papermill": {
     "duration": 0.04176,
     "end_time": "2022-03-14T12:02:52.486805",
     "exception": false,
     "start_time": "2022-03-14T12:02:52.445045",
     "status": "completed"
    },
    "tags": []
   },
   "outputs": [],
   "source": [
    "#q3.a.hint()"
   ]
  },
  {
   "cell_type": "code",
   "execution_count": 12,
   "id": "306964ef",
   "metadata": {
    "execution": {
     "iopub.execute_input": "2022-03-14T12:02:52.555989Z",
     "iopub.status.busy": "2022-03-14T12:02:52.555018Z",
     "iopub.status.idle": "2022-03-14T12:02:52.562607Z",
     "shell.execute_reply": "2022-03-14T12:02:52.563246Z"
    },
    "papermill": {
     "duration": 0.043604,
     "end_time": "2022-03-14T12:02:52.563448",
     "exception": false,
     "start_time": "2022-03-14T12:02:52.519844",
     "status": "completed"
    },
    "tags": []
   },
   "outputs": [
    {
     "data": {
      "application/javascript": [
       "parent.postMessage({\"jupyterEvent\": \"custom.exercise_interaction\", \"data\": {\"interactionType\": 3, \"questionType\": 4, \"questionId\": \"3.1_ArithmeticParensEasy\", \"learnToolsVersion\": \"0.3.4\", \"valueTowardsCompletion\": 0.0, \"failureMessage\": \"\", \"exceptionClass\": \"\", \"trace\": \"\", \"outcomeType\": 4}}, \"*\")"
      ],
      "text/plain": [
       "<IPython.core.display.Javascript object>"
      ]
     },
     "metadata": {},
     "output_type": "display_data"
    },
    {
     "data": {
      "text/markdown": [
       "<span style=\"color:#33cc99\">Solution:</span> \n",
       "```python\n",
       "(5 - 3) // 2\n",
       "```"
      ],
      "text/plain": [
       "Solution: \n",
       "```python\n",
       "(5 - 3) // 2\n",
       "```"
      ]
     },
     "metadata": {},
     "output_type": "display_data"
    }
   ],
   "source": [
    "# Check your answer (Run this code cell to receive credit!)\n",
    "q3.a.solution()"
   ]
  },
  {
   "cell_type": "markdown",
   "id": "8ceb7504",
   "metadata": {
    "papermill": {
     "duration": 0.033111,
     "end_time": "2022-03-14T12:02:52.629888",
     "exception": false,
     "start_time": "2022-03-14T12:02:52.596777",
     "status": "completed"
    },
    "tags": []
   },
   "source": [
    "# 3b.  <span title=\"A bit spicy\" style=\"color: darkgreen \">🌶️</span>\n",
    "\n",
    "<small>Questions, like this one, marked a spicy pepper are a bit harder.</small>\n",
    "\n",
    "Add parentheses to the following expression so that it evaluates to 0."
   ]
  },
  {
   "cell_type": "code",
   "execution_count": 13,
   "id": "9bcd6c9e",
   "metadata": {
    "execution": {
     "iopub.execute_input": "2022-03-14T12:02:52.701599Z",
     "iopub.status.busy": "2022-03-14T12:02:52.700708Z",
     "iopub.status.idle": "2022-03-14T12:02:52.704363Z",
     "shell.execute_reply": "2022-03-14T12:02:52.703736Z",
     "shell.execute_reply.started": "2022-03-14T11:23:47.171605Z"
    },
    "papermill": {
     "duration": 0.04264,
     "end_time": "2022-03-14T12:02:52.704520",
     "exception": false,
     "start_time": "2022-03-14T12:02:52.661880",
     "status": "completed"
    },
    "tags": []
   },
   "outputs": [
    {
     "data": {
      "text/plain": [
       "0"
      ]
     },
     "execution_count": 13,
     "metadata": {},
     "output_type": "execute_result"
    }
   ],
   "source": [
    "(8 - 3) * (2 - (1 + 1))"
   ]
  },
  {
   "cell_type": "code",
   "execution_count": 14,
   "id": "d892aad3",
   "metadata": {
    "execution": {
     "iopub.execute_input": "2022-03-14T12:02:52.780699Z",
     "iopub.status.busy": "2022-03-14T12:02:52.779795Z",
     "iopub.status.idle": "2022-03-14T12:02:52.781454Z",
     "shell.execute_reply": "2022-03-14T12:02:52.781936Z"
    },
    "papermill": {
     "duration": 0.04212,
     "end_time": "2022-03-14T12:02:52.782115",
     "exception": false,
     "start_time": "2022-03-14T12:02:52.739995",
     "status": "completed"
    },
    "tags": []
   },
   "outputs": [],
   "source": [
    "#q3.b.hint()"
   ]
  },
  {
   "cell_type": "code",
   "execution_count": 15,
   "id": "26a90695",
   "metadata": {
    "execution": {
     "iopub.execute_input": "2022-03-14T12:02:52.858550Z",
     "iopub.status.busy": "2022-03-14T12:02:52.857852Z",
     "iopub.status.idle": "2022-03-14T12:02:52.863180Z",
     "shell.execute_reply": "2022-03-14T12:02:52.863805Z",
     "shell.execute_reply.started": "2022-03-14T11:23:57.951275Z"
    },
    "papermill": {
     "duration": 0.043434,
     "end_time": "2022-03-14T12:02:52.863986",
     "exception": false,
     "start_time": "2022-03-14T12:02:52.820552",
     "status": "completed"
    },
    "tags": []
   },
   "outputs": [
    {
     "data": {
      "application/javascript": [
       "parent.postMessage({\"jupyterEvent\": \"custom.exercise_interaction\", \"data\": {\"interactionType\": 3, \"questionType\": 4, \"questionId\": \"3.2_ArithmeticParensHard\", \"learnToolsVersion\": \"0.3.4\", \"valueTowardsCompletion\": 0.0, \"failureMessage\": \"\", \"exceptionClass\": \"\", \"trace\": \"\", \"outcomeType\": 4}}, \"*\")"
      ],
      "text/plain": [
       "<IPython.core.display.Javascript object>"
      ]
     },
     "metadata": {},
     "output_type": "display_data"
    },
    {
     "data": {
      "text/markdown": [
       "<span style=\"color:#33cc99\">Solution:</span> `(8 - 3) * (2 - (1 + 1))` is one solution. There may be others."
      ],
      "text/plain": [
       "Solution: `(8 - 3) * (2 - (1 + 1))` is one solution. There may be others."
      ]
     },
     "metadata": {},
     "output_type": "display_data"
    }
   ],
   "source": [
    "# Check your answer (Run this code cell to receive credit!)\n",
    "q3.b.solution()"
   ]
  },
  {
   "cell_type": "markdown",
   "id": "276dbbae",
   "metadata": {
    "papermill": {
     "duration": 0.033998,
     "end_time": "2022-03-14T12:02:52.933970",
     "exception": false,
     "start_time": "2022-03-14T12:02:52.899972",
     "status": "completed"
    },
    "tags": []
   },
   "source": [
    "<hr/>\n",
    "\n",
    "# 4. \n",
    "Alice, Bob and Carol have agreed to pool their Halloween candy and split it evenly among themselves.\n",
    "For the sake of their friendship, any candies left over will be smashed. For example, if they collectively\n",
    "bring home 91 candies, they'll take 30 each and smash 1.\n",
    "\n",
    "Write an arithmetic expression below to calculate how many candies they must smash for a given haul."
   ]
  },
  {
   "cell_type": "code",
   "execution_count": 16,
   "id": "b31893c6",
   "metadata": {
    "execution": {
     "iopub.execute_input": "2022-03-14T12:02:53.009553Z",
     "iopub.status.busy": "2022-03-14T12:02:53.008773Z",
     "iopub.status.idle": "2022-03-14T12:02:53.016576Z",
     "shell.execute_reply": "2022-03-14T12:02:53.017193Z",
     "shell.execute_reply.started": "2022-03-14T11:55:48.498894Z"
    },
    "papermill": {
     "duration": 0.048272,
     "end_time": "2022-03-14T12:02:53.017407",
     "exception": false,
     "start_time": "2022-03-14T12:02:52.969135",
     "status": "completed"
    },
    "tags": []
   },
   "outputs": [
    {
     "data": {
      "application/javascript": [
       "parent.postMessage({\"jupyterEvent\": \"custom.exercise_interaction\", \"data\": {\"outcomeType\": 1, \"valueTowardsCompletion\": 0.25, \"interactionType\": 1, \"questionType\": 1, \"questionId\": \"4_CandySplitting\", \"learnToolsVersion\": \"0.3.4\", \"failureMessage\": \"\", \"exceptionClass\": \"\", \"trace\": \"\"}}, \"*\")"
      ],
      "text/plain": [
       "<IPython.core.display.Javascript object>"
      ]
     },
     "metadata": {},
     "output_type": "display_data"
    },
    {
     "data": {
      "text/markdown": [
       "<span style=\"color:#33cc33\">Correct</span>"
      ],
      "text/plain": [
       "Correct"
      ]
     },
     "metadata": {},
     "output_type": "display_data"
    }
   ],
   "source": [
    "# Variables representing the number of candies collected by alice, bob, and carol\n",
    "alice_candies = 121\n",
    "bob_candies = 77\n",
    "carol_candies = 109\n",
    "\n",
    "# Your code goes here! Replace the right-hand side of this assignment with an expression\n",
    "# involving alice_candies, bob_candies, and carol_candies\n",
    "to_smash = -1\n",
    "to_smash = (alice_candies + bob_candies + carol_candies) % 3\n",
    "\n",
    "# Check your answer\n",
    "q4.check()"
   ]
  },
  {
   "cell_type": "code",
   "execution_count": 17,
   "id": "292ad690",
   "metadata": {
    "execution": {
     "iopub.execute_input": "2022-03-14T12:02:53.095196Z",
     "iopub.status.busy": "2022-03-14T12:02:53.094170Z",
     "iopub.status.idle": "2022-03-14T12:02:53.097588Z",
     "shell.execute_reply": "2022-03-14T12:02:53.098257Z"
    },
    "papermill": {
     "duration": 0.045249,
     "end_time": "2022-03-14T12:02:53.098471",
     "exception": false,
     "start_time": "2022-03-14T12:02:53.053222",
     "status": "completed"
    },
    "tags": []
   },
   "outputs": [],
   "source": [
    "#q4.hint()\n",
    "#q4.solution()"
   ]
  },
  {
   "cell_type": "markdown",
   "id": "2a151ff7",
   "metadata": {
    "papermill": {
     "duration": 0.038571,
     "end_time": "2022-03-14T12:02:53.175641",
     "exception": false,
     "start_time": "2022-03-14T12:02:53.137070",
     "status": "completed"
    },
    "tags": []
   },
   "source": [
    "# Keep Going\n",
    "\n",
    "Next up, you'll **[learn to write new functions and understand functions others write](https://www.kaggle.com/colinmorris/functions-and-getting-help)**. This will make you at least 10 times more productive as a Python programmer. "
   ]
  },
  {
   "cell_type": "markdown",
   "id": "486c0fa6",
   "metadata": {
    "papermill": {
     "duration": 0.037329,
     "end_time": "2022-03-14T12:02:53.251197",
     "exception": false,
     "start_time": "2022-03-14T12:02:53.213868",
     "status": "completed"
    },
    "tags": []
   },
   "source": [
    "---\n",
    "\n",
    "\n",
    "\n",
    "\n",
    "*Have questions or comments? Visit the [course discussion forum](https://www.kaggle.com/learn/python/discussion) to chat with other learners.*"
   ]
  }
 ],
 "metadata": {
  "kernelspec": {
   "display_name": "Python 3",
   "language": "python",
   "name": "python3"
  },
  "language_info": {
   "codemirror_mode": {
    "name": "ipython",
    "version": 3
   },
   "file_extension": ".py",
   "mimetype": "text/x-python",
   "name": "python",
   "nbconvert_exporter": "python",
   "pygments_lexer": "ipython3",
   "version": "3.7.12"
  },
  "papermill": {
   "default_parameters": {},
   "duration": 13.013245,
   "end_time": "2022-03-14T12:02:53.898285",
   "environment_variables": {},
   "exception": null,
   "input_path": "__notebook__.ipynb",
   "output_path": "__notebook__.ipynb",
   "parameters": {},
   "start_time": "2022-03-14T12:02:40.885040",
   "version": "2.3.3"
  }
 },
 "nbformat": 4,
 "nbformat_minor": 5
}
