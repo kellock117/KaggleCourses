{
 "cells": [
  {
   "cell_type": "markdown",
   "id": "62fa6814",
   "metadata": {
    "papermill": {
     "duration": 0.016755,
     "end_time": "2022-03-16T01:53:35.723172",
     "exception": false,
     "start_time": "2022-03-16T01:53:35.706417",
     "status": "completed"
    },
    "tags": []
   },
   "source": [
    "**This notebook is an exercise in the [Introduction to Machine Learning](https://www.kaggle.com/learn/intro-to-machine-learning) course.  You can reference the tutorial at [this link](https://www.kaggle.com/dansbecker/model-validation).**\n",
    "\n",
    "---\n"
   ]
  },
  {
   "cell_type": "markdown",
   "id": "a543c2df",
   "metadata": {
    "papermill": {
     "duration": 0.015267,
     "end_time": "2022-03-16T01:53:35.753827",
     "exception": false,
     "start_time": "2022-03-16T01:53:35.738560",
     "status": "completed"
    },
    "tags": []
   },
   "source": [
    "## Recap\n",
    "You've built a model. In this exercise you will test how good your model is.\n",
    "\n",
    "Run the cell below to set up your coding environment where the previous exercise left off."
   ]
  },
  {
   "cell_type": "code",
   "execution_count": 1,
   "id": "794fc36c",
   "metadata": {
    "execution": {
     "iopub.execute_input": "2022-03-16T01:53:35.794997Z",
     "iopub.status.busy": "2022-03-16T01:53:35.794330Z",
     "iopub.status.idle": "2022-03-16T01:53:37.102098Z",
     "shell.execute_reply": "2022-03-16T01:53:37.101420Z",
     "shell.execute_reply.started": "2022-03-15T12:50:22.202342Z"
    },
    "papermill": {
     "duration": 1.332914,
     "end_time": "2022-03-16T01:53:37.102279",
     "exception": false,
     "start_time": "2022-03-16T01:53:35.769365",
     "status": "completed"
    },
    "tags": []
   },
   "outputs": [
    {
     "name": "stdout",
     "output_type": "stream",
     "text": [
      "First in-sample predictions: [208500. 181500. 223500. 140000. 250000.]\n",
      "Actual target values for those homes: [208500, 181500, 223500, 140000, 250000]\n",
      "Setup Complete\n"
     ]
    }
   ],
   "source": [
    "# Code you have previously used to load data\n",
    "import pandas as pd\n",
    "from sklearn.tree import DecisionTreeRegressor\n",
    "\n",
    "# Path of the file to read\n",
    "iowa_file_path = '../input/home-data-for-ml-course/train.csv'\n",
    "\n",
    "home_data = pd.read_csv(iowa_file_path)\n",
    "y = home_data.SalePrice\n",
    "feature_columns = ['LotArea', 'YearBuilt', '1stFlrSF', '2ndFlrSF', 'FullBath', 'BedroomAbvGr', 'TotRmsAbvGrd']\n",
    "X = home_data[feature_columns]\n",
    "\n",
    "# Specify Model\n",
    "iowa_model = DecisionTreeRegressor()\n",
    "# Fit Model\n",
    "iowa_model.fit(X, y)\n",
    "\n",
    "print(\"First in-sample predictions:\", iowa_model.predict(X.head()))\n",
    "print(\"Actual target values for those homes:\", y.head().tolist())\n",
    "\n",
    "# Set up code checking\n",
    "from learntools.core import binder\n",
    "binder.bind(globals())\n",
    "from learntools.machine_learning.ex4 import *\n",
    "print(\"Setup Complete\")"
   ]
  },
  {
   "cell_type": "markdown",
   "id": "0b1c82a0",
   "metadata": {
    "papermill": {
     "duration": 0.015776,
     "end_time": "2022-03-16T01:53:37.134698",
     "exception": false,
     "start_time": "2022-03-16T01:53:37.118922",
     "status": "completed"
    },
    "tags": []
   },
   "source": [
    "# Exercises\n",
    "\n",
    "## Step 1: Split Your Data\n",
    "Use the `train_test_split` function to split up your data.\n",
    "\n",
    "Give it the argument `random_state=1` so the `check` functions know what to expect when verifying your code.\n",
    "\n",
    "Recall, your features are loaded in the DataFrame **X** and your target is loaded in **y**.\n"
   ]
  },
  {
   "cell_type": "code",
   "execution_count": 2,
   "id": "50e44c17",
   "metadata": {
    "execution": {
     "iopub.execute_input": "2022-03-16T01:53:37.172924Z",
     "iopub.status.busy": "2022-03-16T01:53:37.172293Z",
     "iopub.status.idle": "2022-03-16T01:53:37.182978Z",
     "shell.execute_reply": "2022-03-16T01:53:37.182432Z",
     "shell.execute_reply.started": "2022-03-15T12:51:47.306247Z"
    },
    "papermill": {
     "duration": 0.032328,
     "end_time": "2022-03-16T01:53:37.183123",
     "exception": false,
     "start_time": "2022-03-16T01:53:37.150795",
     "status": "completed"
    },
    "tags": []
   },
   "outputs": [
    {
     "data": {
      "application/javascript": [
       "parent.postMessage({\"jupyterEvent\": \"custom.exercise_interaction\", \"data\": {\"outcomeType\": 1, \"valueTowardsCompletion\": 0.25, \"interactionType\": 1, \"questionType\": 2, \"questionId\": \"1_SplitData\", \"learnToolsVersion\": \"0.3.4\", \"failureMessage\": \"\", \"exceptionClass\": \"\", \"trace\": \"\"}}, \"*\")"
      ],
      "text/plain": [
       "<IPython.core.display.Javascript object>"
      ]
     },
     "metadata": {},
     "output_type": "display_data"
    },
    {
     "data": {
      "text/markdown": [
       "<span style=\"color:#33cc33\">Correct</span>"
      ],
      "text/plain": [
       "Correct"
      ]
     },
     "metadata": {},
     "output_type": "display_data"
    }
   ],
   "source": [
    "# Import the train_test_split function and uncomment\n",
    "from sklearn.model_selection import train_test_split\n",
    "\n",
    "# fill in and uncomment\n",
    "train_X, val_X, train_y, val_y = train_test_split(X, y, random_state = 1)\n",
    "\n",
    "# Check your answer\n",
    "step_1.check()"
   ]
  },
  {
   "cell_type": "code",
   "execution_count": 3,
   "id": "baf9ddf6",
   "metadata": {
    "execution": {
     "iopub.execute_input": "2022-03-16T01:53:37.221779Z",
     "iopub.status.busy": "2022-03-16T01:53:37.220822Z",
     "iopub.status.idle": "2022-03-16T01:53:37.224005Z",
     "shell.execute_reply": "2022-03-16T01:53:37.224569Z"
    },
    "papermill": {
     "duration": 0.024199,
     "end_time": "2022-03-16T01:53:37.224748",
     "exception": false,
     "start_time": "2022-03-16T01:53:37.200549",
     "status": "completed"
    },
    "tags": []
   },
   "outputs": [],
   "source": [
    "# The lines below will show you a hint or the solution.\n",
    "# step_1.hint() \n",
    "# step_1.solution()\n"
   ]
  },
  {
   "cell_type": "markdown",
   "id": "25fe47c7",
   "metadata": {
    "papermill": {
     "duration": 0.016841,
     "end_time": "2022-03-16T01:53:37.259300",
     "exception": false,
     "start_time": "2022-03-16T01:53:37.242459",
     "status": "completed"
    },
    "tags": []
   },
   "source": [
    "## Step 2: Specify and Fit the Model\n",
    "\n",
    "Create a `DecisionTreeRegressor` model and fit it to the relevant data.\n",
    "Set `random_state` to 1 again when creating the model."
   ]
  },
  {
   "cell_type": "code",
   "execution_count": 4,
   "id": "d7e886c1",
   "metadata": {
    "execution": {
     "iopub.execute_input": "2022-03-16T01:53:37.302353Z",
     "iopub.status.busy": "2022-03-16T01:53:37.301683Z",
     "iopub.status.idle": "2022-03-16T01:53:37.320849Z",
     "shell.execute_reply": "2022-03-16T01:53:37.321450Z",
     "shell.execute_reply.started": "2022-03-15T12:53:36.557832Z"
    },
    "papermill": {
     "duration": 0.044554,
     "end_time": "2022-03-16T01:53:37.321638",
     "exception": false,
     "start_time": "2022-03-16T01:53:37.277084",
     "status": "completed"
    },
    "tags": []
   },
   "outputs": [
    {
     "name": "stdout",
     "output_type": "stream",
     "text": [
      "[186500. 184000. 130000.  92000. 164500. 220000. 335000. 144152. 215000.\n",
      " 262000.]\n",
      "[186500. 184000. 130000.  92000. 164500. 220000. 335000. 144152. 215000.\n",
      " 262000.]\n"
     ]
    },
    {
     "data": {
      "application/javascript": [
       "parent.postMessage({\"jupyterEvent\": \"custom.exercise_interaction\", \"data\": {\"outcomeType\": 1, \"valueTowardsCompletion\": 0.25, \"interactionType\": 1, \"questionType\": 2, \"questionId\": \"2_FitModelWithTrain\", \"learnToolsVersion\": \"0.3.4\", \"failureMessage\": \"\", \"exceptionClass\": \"\", \"trace\": \"\"}}, \"*\")"
      ],
      "text/plain": [
       "<IPython.core.display.Javascript object>"
      ]
     },
     "metadata": {},
     "output_type": "display_data"
    },
    {
     "data": {
      "text/markdown": [
       "<span style=\"color:#33cc33\">Correct</span>"
      ],
      "text/plain": [
       "Correct"
      ]
     },
     "metadata": {},
     "output_type": "display_data"
    }
   ],
   "source": [
    "# You imported DecisionTreeRegressor in your last exercise\n",
    "# and that code has been copied to the setup code above. So, no need to\n",
    "# import it again\n",
    "\n",
    "# Specify the model\n",
    "iowa_model = DecisionTreeRegressor(random_state = 1)\n",
    "\n",
    "# Fit iowa_model with the training data.\n",
    "iowa_model.fit(train_X, train_y)\n",
    "\n",
    "# Check your answer\n",
    "step_2.check()"
   ]
  },
  {
   "cell_type": "code",
   "execution_count": 5,
   "id": "1d337bae",
   "metadata": {
    "execution": {
     "iopub.execute_input": "2022-03-16T01:53:37.365004Z",
     "iopub.status.busy": "2022-03-16T01:53:37.364206Z",
     "iopub.status.idle": "2022-03-16T01:53:37.367100Z",
     "shell.execute_reply": "2022-03-16T01:53:37.366576Z"
    },
    "papermill": {
     "duration": 0.026082,
     "end_time": "2022-03-16T01:53:37.367238",
     "exception": false,
     "start_time": "2022-03-16T01:53:37.341156",
     "status": "completed"
    },
    "tags": []
   },
   "outputs": [],
   "source": [
    "# step_2.hint()\n",
    "# step_2.solution()"
   ]
  },
  {
   "cell_type": "markdown",
   "id": "c21f48d8",
   "metadata": {
    "papermill": {
     "duration": 0.018472,
     "end_time": "2022-03-16T01:53:37.405314",
     "exception": false,
     "start_time": "2022-03-16T01:53:37.386842",
     "status": "completed"
    },
    "tags": []
   },
   "source": [
    "## Step 3: Make Predictions with Validation data\n"
   ]
  },
  {
   "cell_type": "code",
   "execution_count": 6,
   "id": "e37b5e6f",
   "metadata": {
    "execution": {
     "iopub.execute_input": "2022-03-16T01:53:37.450090Z",
     "iopub.status.busy": "2022-03-16T01:53:37.449000Z",
     "iopub.status.idle": "2022-03-16T01:53:37.456341Z",
     "shell.execute_reply": "2022-03-16T01:53:37.456832Z",
     "shell.execute_reply.started": "2022-03-15T12:59:12.577053Z"
    },
    "papermill": {
     "duration": 0.032712,
     "end_time": "2022-03-16T01:53:37.457006",
     "exception": false,
     "start_time": "2022-03-16T01:53:37.424294",
     "status": "completed"
    },
    "tags": []
   },
   "outputs": [
    {
     "data": {
      "application/javascript": [
       "parent.postMessage({\"jupyterEvent\": \"custom.exercise_interaction\", \"data\": {\"outcomeType\": 1, \"valueTowardsCompletion\": 0.25, \"interactionType\": 1, \"questionType\": 2, \"questionId\": \"3_ValPreds\", \"learnToolsVersion\": \"0.3.4\", \"failureMessage\": \"\", \"exceptionClass\": \"\", \"trace\": \"\"}}, \"*\")"
      ],
      "text/plain": [
       "<IPython.core.display.Javascript object>"
      ]
     },
     "metadata": {},
     "output_type": "display_data"
    },
    {
     "data": {
      "text/markdown": [
       "<span style=\"color:#33cc33\">Correct</span>"
      ],
      "text/plain": [
       "Correct"
      ]
     },
     "metadata": {},
     "output_type": "display_data"
    }
   ],
   "source": [
    "# Predict with all validation observations\n",
    "val_predictions = iowa_model.predict(val_X)\n",
    "\n",
    "# Check your answer\n",
    "step_3.check()"
   ]
  },
  {
   "cell_type": "code",
   "execution_count": 7,
   "id": "c3d4ccb7",
   "metadata": {
    "execution": {
     "iopub.execute_input": "2022-03-16T01:53:37.501185Z",
     "iopub.status.busy": "2022-03-16T01:53:37.500310Z",
     "iopub.status.idle": "2022-03-16T01:53:37.503193Z",
     "shell.execute_reply": "2022-03-16T01:53:37.503667Z"
    },
    "papermill": {
     "duration": 0.026637,
     "end_time": "2022-03-16T01:53:37.503821",
     "exception": false,
     "start_time": "2022-03-16T01:53:37.477184",
     "status": "completed"
    },
    "tags": []
   },
   "outputs": [],
   "source": [
    "# step_3.hint()\n",
    "# step_3.solution()"
   ]
  },
  {
   "cell_type": "markdown",
   "id": "446ca22f",
   "metadata": {
    "papermill": {
     "duration": 0.020287,
     "end_time": "2022-03-16T01:53:37.546050",
     "exception": false,
     "start_time": "2022-03-16T01:53:37.525763",
     "status": "completed"
    },
    "tags": []
   },
   "source": [
    "Inspect your predictions and actual values from validation data."
   ]
  },
  {
   "cell_type": "code",
   "execution_count": 8,
   "id": "2c7b658c",
   "metadata": {
    "execution": {
     "iopub.execute_input": "2022-03-16T01:53:37.592644Z",
     "iopub.status.busy": "2022-03-16T01:53:37.589788Z",
     "iopub.status.idle": "2022-03-16T01:53:37.595412Z",
     "shell.execute_reply": "2022-03-16T01:53:37.595872Z",
     "shell.execute_reply.started": "2022-03-15T12:59:49.293371Z"
    },
    "papermill": {
     "duration": 0.029583,
     "end_time": "2022-03-16T01:53:37.596050",
     "exception": false,
     "start_time": "2022-03-16T01:53:37.566467",
     "status": "completed"
    },
    "tags": []
   },
   "outputs": [
    {
     "name": "stdout",
     "output_type": "stream",
     "text": [
      "[186500. 184000. 130000.  92000. 164500. 220000. 335000.]\n",
      "258     231500\n",
      "267     179500\n",
      "288     122000\n",
      "649      84500\n",
      "1233    142000\n",
      "Name: SalePrice, dtype: int64\n"
     ]
    }
   ],
   "source": [
    "# print the top few validation predictions\n",
    "print(val_predictions[:7])\n",
    "# print the top few actual prices from validation data\n",
    "print(val_y.head())"
   ]
  },
  {
   "cell_type": "markdown",
   "id": "d6367275",
   "metadata": {
    "papermill": {
     "duration": 0.020579,
     "end_time": "2022-03-16T01:53:37.637471",
     "exception": false,
     "start_time": "2022-03-16T01:53:37.616892",
     "status": "completed"
    },
    "tags": []
   },
   "source": [
    "What do you notice that is different from what you saw with in-sample predictions (which are printed after the top code cell in this page).\n",
    "\n",
    "Do you remember why validation predictions differ from in-sample (or training) predictions? This is an important idea from the last lesson.\n",
    "\n",
    "## Step 4: Calculate the Mean Absolute Error in Validation Data\n"
   ]
  },
  {
   "cell_type": "code",
   "execution_count": 9,
   "id": "d740c72e",
   "metadata": {
    "execution": {
     "iopub.execute_input": "2022-03-16T01:53:37.682989Z",
     "iopub.status.busy": "2022-03-16T01:53:37.682394Z",
     "iopub.status.idle": "2022-03-16T01:53:37.690767Z",
     "shell.execute_reply": "2022-03-16T01:53:37.691367Z",
     "shell.execute_reply.started": "2022-03-15T13:00:30.768266Z"
    },
    "papermill": {
     "duration": 0.032989,
     "end_time": "2022-03-16T01:53:37.691533",
     "exception": false,
     "start_time": "2022-03-16T01:53:37.658544",
     "status": "completed"
    },
    "tags": []
   },
   "outputs": [
    {
     "name": "stdout",
     "output_type": "stream",
     "text": [
      "29652.931506849316\n"
     ]
    },
    {
     "data": {
      "application/javascript": [
       "parent.postMessage({\"jupyterEvent\": \"custom.exercise_interaction\", \"data\": {\"outcomeType\": 1, \"valueTowardsCompletion\": 0.25, \"interactionType\": 1, \"questionType\": 1, \"questionId\": \"4_MAE\", \"learnToolsVersion\": \"0.3.4\", \"failureMessage\": \"\", \"exceptionClass\": \"\", \"trace\": \"\"}}, \"*\")"
      ],
      "text/plain": [
       "<IPython.core.display.Javascript object>"
      ]
     },
     "metadata": {},
     "output_type": "display_data"
    },
    {
     "data": {
      "text/markdown": [
       "<span style=\"color:#33cc33\">Correct</span>"
      ],
      "text/plain": [
       "Correct"
      ]
     },
     "metadata": {},
     "output_type": "display_data"
    }
   ],
   "source": [
    "from sklearn.metrics import mean_absolute_error\n",
    "val_mae = mean_absolute_error(val_predictions, val_y)\n",
    "\n",
    "# uncomment following line to see the validation_mae\n",
    "print(val_mae)\n",
    "\n",
    "# Check your answer\n",
    "step_4.check()"
   ]
  },
  {
   "cell_type": "code",
   "execution_count": 10,
   "id": "46e93fb7",
   "metadata": {
    "execution": {
     "iopub.execute_input": "2022-03-16T01:53:37.739640Z",
     "iopub.status.busy": "2022-03-16T01:53:37.738902Z",
     "iopub.status.idle": "2022-03-16T01:53:37.741436Z",
     "shell.execute_reply": "2022-03-16T01:53:37.741932Z"
    },
    "papermill": {
     "duration": 0.027952,
     "end_time": "2022-03-16T01:53:37.742150",
     "exception": false,
     "start_time": "2022-03-16T01:53:37.714198",
     "status": "completed"
    },
    "tags": []
   },
   "outputs": [],
   "source": [
    "# step_4.hint()\n",
    "# step_4.solution()"
   ]
  },
  {
   "cell_type": "markdown",
   "id": "903ed475",
   "metadata": {
    "papermill": {
     "duration": 0.022272,
     "end_time": "2022-03-16T01:53:37.786487",
     "exception": false,
     "start_time": "2022-03-16T01:53:37.764215",
     "status": "completed"
    },
    "tags": []
   },
   "source": [
    "Is that MAE good?  There isn't a general rule for what values are good that applies across applications. But you'll see how to use (and improve) this number in the next step.\n",
    "\n",
    "# Keep Going\n",
    "\n",
    "You are ready for **[Underfitting and Overfitting](https://www.kaggle.com/dansbecker/underfitting-and-overfitting).**\n"
   ]
  },
  {
   "cell_type": "markdown",
   "id": "c0df9bd8",
   "metadata": {
    "papermill": {
     "duration": 0.022292,
     "end_time": "2022-03-16T01:53:37.831722",
     "exception": false,
     "start_time": "2022-03-16T01:53:37.809430",
     "status": "completed"
    },
    "tags": []
   },
   "source": [
    "---\n",
    "\n",
    "\n",
    "\n",
    "\n",
    "*Have questions or comments? Visit the [course discussion forum](https://www.kaggle.com/learn/intro-to-machine-learning/discussion) to chat with other learners.*"
   ]
  }
 ],
 "metadata": {
  "kernelspec": {
   "display_name": "Python 3",
   "language": "python",
   "name": "python3"
  },
  "language_info": {
   "codemirror_mode": {
    "name": "ipython",
    "version": 3
   },
   "file_extension": ".py",
   "mimetype": "text/x-python",
   "name": "python",
   "nbconvert_exporter": "python",
   "pygments_lexer": "ipython3",
   "version": "3.7.12"
  },
  "papermill": {
   "default_parameters": {},
   "duration": 12.060895,
   "end_time": "2022-03-16T01:53:38.564174",
   "environment_variables": {},
   "exception": null,
   "input_path": "__notebook__.ipynb",
   "output_path": "__notebook__.ipynb",
   "parameters": {},
   "start_time": "2022-03-16T01:53:26.503279",
   "version": "2.3.3"
  }
 },
 "nbformat": 4,
 "nbformat_minor": 5
}
