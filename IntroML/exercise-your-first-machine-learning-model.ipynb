{
 "cells": [
  {
   "cell_type": "markdown",
   "id": "871dcbee",
   "metadata": {
    "papermill": {
     "duration": 0.02007,
     "end_time": "2022-03-15T12:47:50.776968",
     "exception": false,
     "start_time": "2022-03-15T12:47:50.756898",
     "status": "completed"
    },
    "tags": []
   },
   "source": [
    "**This notebook is an exercise in the [Introduction to Machine Learning](https://www.kaggle.com/learn/intro-to-machine-learning) course.  You can reference the tutorial at [this link](https://www.kaggle.com/dansbecker/your-first-machine-learning-model).**\n",
    "\n",
    "---\n"
   ]
  },
  {
   "cell_type": "markdown",
   "id": "2586f926",
   "metadata": {
    "papermill": {
     "duration": 0.018854,
     "end_time": "2022-03-15T12:47:50.814894",
     "exception": false,
     "start_time": "2022-03-15T12:47:50.796040",
     "status": "completed"
    },
    "tags": []
   },
   "source": [
    "## Recap\n",
    "So far, you have loaded your data and reviewed it with the following code. Run this cell to set up your coding environment where the previous step left off."
   ]
  },
  {
   "cell_type": "code",
   "execution_count": 1,
   "id": "b46af630",
   "metadata": {
    "execution": {
     "iopub.execute_input": "2022-03-15T12:47:50.864830Z",
     "iopub.status.busy": "2022-03-15T12:47:50.864191Z",
     "iopub.status.idle": "2022-03-15T12:47:52.233682Z",
     "shell.execute_reply": "2022-03-15T12:47:52.234389Z",
     "shell.execute_reply.started": "2022-03-15T12:32:49.749388Z"
    },
    "papermill": {
     "duration": 1.400178,
     "end_time": "2022-03-15T12:47:52.234753",
     "exception": false,
     "start_time": "2022-03-15T12:47:50.834575",
     "status": "completed"
    },
    "tags": []
   },
   "outputs": [
    {
     "name": "stdout",
     "output_type": "stream",
     "text": [
      "Setup Complete\n"
     ]
    }
   ],
   "source": [
    "# Code you have previously used to load data\n",
    "import pandas as pd\n",
    "\n",
    "# Path of the file to read\n",
    "iowa_file_path = '../input/home-data-for-ml-course/train.csv'\n",
    "\n",
    "home_data = pd.read_csv(iowa_file_path)\n",
    "\n",
    "# Set up code checking\n",
    "from learntools.core import binder\n",
    "binder.bind(globals())\n",
    "from learntools.machine_learning.ex3 import *\n",
    "\n",
    "print(\"Setup Complete\")"
   ]
  },
  {
   "cell_type": "markdown",
   "id": "820affee",
   "metadata": {
    "papermill": {
     "duration": 0.01886,
     "end_time": "2022-03-15T12:47:52.274362",
     "exception": false,
     "start_time": "2022-03-15T12:47:52.255502",
     "status": "completed"
    },
    "tags": []
   },
   "source": [
    "# Exercises\n",
    "\n",
    "## Step 1: Specify Prediction Target\n",
    "Select the target variable, which corresponds to the sales price. Save this to a new variable called `y`. You'll need to print a list of the columns to find the name of the column you need.\n"
   ]
  },
  {
   "cell_type": "code",
   "execution_count": 2,
   "id": "2e1ac5ab",
   "metadata": {
    "execution": {
     "iopub.execute_input": "2022-03-15T12:47:52.317071Z",
     "iopub.status.busy": "2022-03-15T12:47:52.316363Z",
     "iopub.status.idle": "2022-03-15T12:47:52.323822Z",
     "shell.execute_reply": "2022-03-15T12:47:52.324339Z",
     "shell.execute_reply.started": "2022-03-15T12:33:12.057713Z"
    },
    "papermill": {
     "duration": 0.030933,
     "end_time": "2022-03-15T12:47:52.324537",
     "exception": false,
     "start_time": "2022-03-15T12:47:52.293604",
     "status": "completed"
    },
    "tags": []
   },
   "outputs": [
    {
     "data": {
      "text/plain": [
       "Index(['Id', 'MSSubClass', 'MSZoning', 'LotFrontage', 'LotArea', 'Street',\n",
       "       'Alley', 'LotShape', 'LandContour', 'Utilities', 'LotConfig',\n",
       "       'LandSlope', 'Neighborhood', 'Condition1', 'Condition2', 'BldgType',\n",
       "       'HouseStyle', 'OverallQual', 'OverallCond', 'YearBuilt', 'YearRemodAdd',\n",
       "       'RoofStyle', 'RoofMatl', 'Exterior1st', 'Exterior2nd', 'MasVnrType',\n",
       "       'MasVnrArea', 'ExterQual', 'ExterCond', 'Foundation', 'BsmtQual',\n",
       "       'BsmtCond', 'BsmtExposure', 'BsmtFinType1', 'BsmtFinSF1',\n",
       "       'BsmtFinType2', 'BsmtFinSF2', 'BsmtUnfSF', 'TotalBsmtSF', 'Heating',\n",
       "       'HeatingQC', 'CentralAir', 'Electrical', '1stFlrSF', '2ndFlrSF',\n",
       "       'LowQualFinSF', 'GrLivArea', 'BsmtFullBath', 'BsmtHalfBath', 'FullBath',\n",
       "       'HalfBath', 'BedroomAbvGr', 'KitchenAbvGr', 'KitchenQual',\n",
       "       'TotRmsAbvGrd', 'Functional', 'Fireplaces', 'FireplaceQu', 'GarageType',\n",
       "       'GarageYrBlt', 'GarageFinish', 'GarageCars', 'GarageArea', 'GarageQual',\n",
       "       'GarageCond', 'PavedDrive', 'WoodDeckSF', 'OpenPorchSF',\n",
       "       'EnclosedPorch', '3SsnPorch', 'ScreenPorch', 'PoolArea', 'PoolQC',\n",
       "       'Fence', 'MiscFeature', 'MiscVal', 'MoSold', 'YrSold', 'SaleType',\n",
       "       'SaleCondition', 'SalePrice'],\n",
       "      dtype='object')"
      ]
     },
     "execution_count": 2,
     "metadata": {},
     "output_type": "execute_result"
    }
   ],
   "source": [
    "# print the list of columns in the dataset to find the name of the prediction target\n",
    "home_data.columns"
   ]
  },
  {
   "cell_type": "code",
   "execution_count": 3,
   "id": "039da787",
   "metadata": {
    "execution": {
     "iopub.execute_input": "2022-03-15T12:47:52.367487Z",
     "iopub.status.busy": "2022-03-15T12:47:52.366813Z",
     "iopub.status.idle": "2022-03-15T12:47:52.378822Z",
     "shell.execute_reply": "2022-03-15T12:47:52.379331Z",
     "shell.execute_reply.started": "2022-03-15T12:34:14.258949Z"
    },
    "papermill": {
     "duration": 0.035393,
     "end_time": "2022-03-15T12:47:52.379532",
     "exception": false,
     "start_time": "2022-03-15T12:47:52.344139",
     "status": "completed"
    },
    "tags": []
   },
   "outputs": [
    {
     "data": {
      "application/javascript": [
       "parent.postMessage({\"jupyterEvent\": \"custom.exercise_interaction\", \"data\": {\"outcomeType\": 1, \"valueTowardsCompletion\": 0.25, \"interactionType\": 1, \"questionType\": 2, \"questionId\": \"1_SetTarget\", \"learnToolsVersion\": \"0.3.4\", \"failureMessage\": \"\", \"exceptionClass\": \"\", \"trace\": \"\"}}, \"*\")"
      ],
      "text/plain": [
       "<IPython.core.display.Javascript object>"
      ]
     },
     "metadata": {},
     "output_type": "display_data"
    },
    {
     "data": {
      "text/markdown": [
       "<span style=\"color:#33cc33\">Correct</span>"
      ],
      "text/plain": [
       "Correct"
      ]
     },
     "metadata": {},
     "output_type": "display_data"
    }
   ],
   "source": [
    "y = home_data['SalePrice']\n",
    "\n",
    "# Check your answer\n",
    "step_1.check()"
   ]
  },
  {
   "cell_type": "code",
   "execution_count": 4,
   "id": "9132bcc3",
   "metadata": {
    "collapsed": true,
    "execution": {
     "iopub.execute_input": "2022-03-15T12:47:52.428017Z",
     "iopub.status.busy": "2022-03-15T12:47:52.427342Z",
     "iopub.status.idle": "2022-03-15T12:47:52.430438Z",
     "shell.execute_reply": "2022-03-15T12:47:52.431064Z"
    },
    "jupyter": {
     "outputs_hidden": true
    },
    "papermill": {
     "duration": 0.030251,
     "end_time": "2022-03-15T12:47:52.431261",
     "exception": false,
     "start_time": "2022-03-15T12:47:52.401010",
     "status": "completed"
    },
    "tags": []
   },
   "outputs": [],
   "source": [
    "# The lines below will show you a hint or the solution.\n",
    "# step_1.hint() \n",
    "# step_1.solution()"
   ]
  },
  {
   "cell_type": "markdown",
   "id": "420531fe",
   "metadata": {
    "papermill": {
     "duration": 0.020933,
     "end_time": "2022-03-15T12:47:52.473249",
     "exception": false,
     "start_time": "2022-03-15T12:47:52.452316",
     "status": "completed"
    },
    "tags": []
   },
   "source": [
    "## Step 2: Create X\n",
    "Now you will create a DataFrame called `X` holding the predictive features.\n",
    "\n",
    "Since you want only some columns from the original data, you'll first create a list with the names of the columns you want in `X`.\n",
    "\n",
    "You'll use just the following columns in the list (you can copy and paste the whole list to save some typing, though you'll still need to add quotes):\n",
    "  * LotArea\n",
    "  * YearBuilt\n",
    "  * 1stFlrSF\n",
    "  * 2ndFlrSF\n",
    "  * FullBath\n",
    "  * BedroomAbvGr\n",
    "  * TotRmsAbvGrd\n",
    "\n",
    "After you've created that list of features, use it to create the DataFrame that you'll use to fit the model."
   ]
  },
  {
   "cell_type": "code",
   "execution_count": 5,
   "id": "30b9a199",
   "metadata": {
    "execution": {
     "iopub.execute_input": "2022-03-15T12:47:52.518760Z",
     "iopub.status.busy": "2022-03-15T12:47:52.518098Z",
     "iopub.status.idle": "2022-03-15T12:47:52.532928Z",
     "shell.execute_reply": "2022-03-15T12:47:52.533454Z",
     "shell.execute_reply.started": "2022-03-15T12:36:24.277239Z"
    },
    "papermill": {
     "duration": 0.03943,
     "end_time": "2022-03-15T12:47:52.533653",
     "exception": false,
     "start_time": "2022-03-15T12:47:52.494223",
     "status": "completed"
    },
    "tags": []
   },
   "outputs": [
    {
     "data": {
      "application/javascript": [
       "parent.postMessage({\"jupyterEvent\": \"custom.exercise_interaction\", \"data\": {\"outcomeType\": 1, \"valueTowardsCompletion\": 0.25, \"interactionType\": 1, \"questionType\": 2, \"questionId\": \"2_SelectPredictionData\", \"learnToolsVersion\": \"0.3.4\", \"failureMessage\": \"\", \"exceptionClass\": \"\", \"trace\": \"\"}}, \"*\")"
      ],
      "text/plain": [
       "<IPython.core.display.Javascript object>"
      ]
     },
     "metadata": {},
     "output_type": "display_data"
    },
    {
     "data": {
      "text/markdown": [
       "<span style=\"color:#33cc33\">Correct</span>"
      ],
      "text/plain": [
       "Correct"
      ]
     },
     "metadata": {},
     "output_type": "display_data"
    }
   ],
   "source": [
    "# Create the list of features below\n",
    "feature_names = ['LotArea', 'YearBuilt', '1stFlrSF', '2ndFlrSF', 'FullBath', 'BedroomAbvGr', 'TotRmsAbvGrd']\n",
    "\n",
    "# Select data corresponding to features in feature_names\n",
    "X = home_data[feature_names]\n",
    "\n",
    "# Check your answer\n",
    "step_2.check()"
   ]
  },
  {
   "cell_type": "code",
   "execution_count": 6,
   "id": "ad9e1c1a",
   "metadata": {
    "collapsed": true,
    "execution": {
     "iopub.execute_input": "2022-03-15T12:47:52.582749Z",
     "iopub.status.busy": "2022-03-15T12:47:52.581830Z",
     "iopub.status.idle": "2022-03-15T12:47:52.585050Z",
     "shell.execute_reply": "2022-03-15T12:47:52.585569Z"
    },
    "jupyter": {
     "outputs_hidden": true
    },
    "papermill": {
     "duration": 0.029591,
     "end_time": "2022-03-15T12:47:52.585773",
     "exception": false,
     "start_time": "2022-03-15T12:47:52.556182",
     "status": "completed"
    },
    "tags": []
   },
   "outputs": [],
   "source": [
    "# step_2.hint()\n",
    "# step_2.solution()"
   ]
  },
  {
   "cell_type": "markdown",
   "id": "ad3667be",
   "metadata": {
    "papermill": {
     "duration": 0.024198,
     "end_time": "2022-03-15T12:47:52.633960",
     "exception": false,
     "start_time": "2022-03-15T12:47:52.609762",
     "status": "completed"
    },
    "tags": []
   },
   "source": [
    "## Review Data\n",
    "Before building a model, take a quick look at **X** to verify it looks sensible"
   ]
  },
  {
   "cell_type": "code",
   "execution_count": 7,
   "id": "7928bf20",
   "metadata": {
    "execution": {
     "iopub.execute_input": "2022-03-15T12:47:52.683048Z",
     "iopub.status.busy": "2022-03-15T12:47:52.682062Z",
     "iopub.status.idle": "2022-03-15T12:47:52.719237Z",
     "shell.execute_reply": "2022-03-15T12:47:52.718653Z",
     "shell.execute_reply.started": "2022-03-15T12:37:42.701876Z"
    },
    "papermill": {
     "duration": 0.063108,
     "end_time": "2022-03-15T12:47:52.719405",
     "exception": false,
     "start_time": "2022-03-15T12:47:52.656297",
     "status": "completed"
    },
    "tags": []
   },
   "outputs": [
    {
     "name": "stdout",
     "output_type": "stream",
     "text": [
      "             LotArea    YearBuilt     1stFlrSF     2ndFlrSF     FullBath  \\\n",
      "count    1460.000000  1460.000000  1460.000000  1460.000000  1460.000000   \n",
      "mean    10516.828082  1971.267808  1162.626712   346.992466     1.565068   \n",
      "std      9981.264932    30.202904   386.587738   436.528436     0.550916   \n",
      "min      1300.000000  1872.000000   334.000000     0.000000     0.000000   \n",
      "25%      7553.500000  1954.000000   882.000000     0.000000     1.000000   \n",
      "50%      9478.500000  1973.000000  1087.000000     0.000000     2.000000   \n",
      "75%     11601.500000  2000.000000  1391.250000   728.000000     2.000000   \n",
      "max    215245.000000  2010.000000  4692.000000  2065.000000     3.000000   \n",
      "\n",
      "       BedroomAbvGr  TotRmsAbvGrd  \n",
      "count   1460.000000   1460.000000  \n",
      "mean       2.866438      6.517808  \n",
      "std        0.815778      1.625393  \n",
      "min        0.000000      2.000000  \n",
      "25%        2.000000      5.000000  \n",
      "50%        3.000000      6.000000  \n",
      "75%        3.000000      7.000000  \n",
      "max        8.000000     14.000000  \n",
      "   LotArea  YearBuilt  1stFlrSF  2ndFlrSF  FullBath  BedroomAbvGr  \\\n",
      "0     8450       2003       856       854         2             3   \n",
      "1     9600       1976      1262         0         2             3   \n",
      "2    11250       2001       920       866         2             3   \n",
      "3     9550       1915       961       756         1             3   \n",
      "4    14260       2000      1145      1053         2             4   \n",
      "\n",
      "   TotRmsAbvGrd  \n",
      "0             8  \n",
      "1             6  \n",
      "2             6  \n",
      "3             7  \n",
      "4             9  \n"
     ]
    }
   ],
   "source": [
    "# Review data\n",
    "# print description or statistics from X\n",
    "print(X.describe())\n",
    "\n",
    "# print the top few lines\n",
    "print(X.head())"
   ]
  },
  {
   "cell_type": "markdown",
   "id": "66433b28",
   "metadata": {
    "papermill": {
     "duration": 0.022547,
     "end_time": "2022-03-15T12:47:52.765742",
     "exception": false,
     "start_time": "2022-03-15T12:47:52.743195",
     "status": "completed"
    },
    "tags": []
   },
   "source": [
    "## Step 3: Specify and Fit Model\n",
    "Create a `DecisionTreeRegressor` and save it iowa_model. Ensure you've done the relevant import from sklearn to run this command.\n",
    "\n",
    "Then fit the model you just created using the data in `X` and `y` that you saved above."
   ]
  },
  {
   "cell_type": "code",
   "execution_count": 8,
   "id": "f914afc3",
   "metadata": {
    "execution": {
     "iopub.execute_input": "2022-03-15T12:47:52.815970Z",
     "iopub.status.busy": "2022-03-15T12:47:52.814925Z",
     "iopub.status.idle": "2022-03-15T12:47:52.834319Z",
     "shell.execute_reply": "2022-03-15T12:47:52.833639Z",
     "shell.execute_reply.started": "2022-03-15T12:40:23.802662Z"
    },
    "papermill": {
     "duration": 0.045899,
     "end_time": "2022-03-15T12:47:52.834482",
     "exception": false,
     "start_time": "2022-03-15T12:47:52.788583",
     "status": "completed"
    },
    "tags": []
   },
   "outputs": [
    {
     "data": {
      "application/javascript": [
       "parent.postMessage({\"jupyterEvent\": \"custom.exercise_interaction\", \"data\": {\"outcomeType\": 1, \"valueTowardsCompletion\": 0.25, \"interactionType\": 1, \"questionType\": 2, \"questionId\": \"3_CreateModel\", \"learnToolsVersion\": \"0.3.4\", \"failureMessage\": \"\", \"exceptionClass\": \"\", \"trace\": \"\"}}, \"*\")"
      ],
      "text/plain": [
       "<IPython.core.display.Javascript object>"
      ]
     },
     "metadata": {},
     "output_type": "display_data"
    },
    {
     "data": {
      "text/markdown": [
       "<span style=\"color:#33cc33\">Correct</span>"
      ],
      "text/plain": [
       "Correct"
      ]
     },
     "metadata": {},
     "output_type": "display_data"
    }
   ],
   "source": [
    "from sklearn.tree import DecisionTreeRegressor\n",
    "#specify the model. \n",
    "#For model reproducibility, set a numeric value for random_state when specifying the model\n",
    "iowa_model = DecisionTreeRegressor(random_state = 0)\n",
    "\n",
    "# Fit the model\n",
    "iowa_model.fit(X, y)\n",
    "\n",
    "# Check your answer\n",
    "step_3.check()"
   ]
  },
  {
   "cell_type": "code",
   "execution_count": 9,
   "id": "ad5a4ab6",
   "metadata": {
    "collapsed": true,
    "execution": {
     "iopub.execute_input": "2022-03-15T12:47:52.887203Z",
     "iopub.status.busy": "2022-03-15T12:47:52.886496Z",
     "iopub.status.idle": "2022-03-15T12:47:52.889448Z",
     "shell.execute_reply": "2022-03-15T12:47:52.890101Z"
    },
    "jupyter": {
     "outputs_hidden": true
    },
    "papermill": {
     "duration": 0.031151,
     "end_time": "2022-03-15T12:47:52.890284",
     "exception": false,
     "start_time": "2022-03-15T12:47:52.859133",
     "status": "completed"
    },
    "tags": []
   },
   "outputs": [],
   "source": [
    "# step_3.hint()\n",
    "# step_3.solution()"
   ]
  },
  {
   "cell_type": "markdown",
   "id": "c08f7af8",
   "metadata": {
    "papermill": {
     "duration": 0.023828,
     "end_time": "2022-03-15T12:47:52.939414",
     "exception": false,
     "start_time": "2022-03-15T12:47:52.915586",
     "status": "completed"
    },
    "tags": []
   },
   "source": [
    "## Step 4: Make Predictions\n",
    "Make predictions with the model's `predict` command using `X` as the data. Save the results to a variable called `predictions`."
   ]
  },
  {
   "cell_type": "code",
   "execution_count": 10,
   "id": "8a4798fa",
   "metadata": {
    "execution": {
     "iopub.execute_input": "2022-03-15T12:47:52.995735Z",
     "iopub.status.busy": "2022-03-15T12:47:52.995097Z",
     "iopub.status.idle": "2022-03-15T12:47:53.004960Z",
     "shell.execute_reply": "2022-03-15T12:47:53.005441Z",
     "shell.execute_reply.started": "2022-03-15T12:40:53.161031Z"
    },
    "papermill": {
     "duration": 0.041888,
     "end_time": "2022-03-15T12:47:53.005644",
     "exception": false,
     "start_time": "2022-03-15T12:47:52.963756",
     "status": "completed"
    },
    "tags": []
   },
   "outputs": [
    {
     "name": "stdout",
     "output_type": "stream",
     "text": [
      "[208500. 181500. 223500. ... 266500. 142125. 147500.]\n"
     ]
    },
    {
     "data": {
      "application/javascript": [
       "parent.postMessage({\"jupyterEvent\": \"custom.exercise_interaction\", \"data\": {\"outcomeType\": 1, \"valueTowardsCompletion\": 0.25, \"interactionType\": 1, \"questionType\": 2, \"questionId\": \"4_MakePredictions\", \"learnToolsVersion\": \"0.3.4\", \"failureMessage\": \"\", \"exceptionClass\": \"\", \"trace\": \"\"}}, \"*\")"
      ],
      "text/plain": [
       "<IPython.core.display.Javascript object>"
      ]
     },
     "metadata": {},
     "output_type": "display_data"
    },
    {
     "data": {
      "text/markdown": [
       "<span style=\"color:#33cc33\">Correct</span>"
      ],
      "text/plain": [
       "Correct"
      ]
     },
     "metadata": {},
     "output_type": "display_data"
    }
   ],
   "source": [
    "predictions = iowa_model.predict(X)\n",
    "print(predictions)\n",
    "\n",
    "# Check your answer\n",
    "step_4.check()"
   ]
  },
  {
   "cell_type": "code",
   "execution_count": 11,
   "id": "453dfce8",
   "metadata": {
    "collapsed": true,
    "execution": {
     "iopub.execute_input": "2022-03-15T12:47:53.063140Z",
     "iopub.status.busy": "2022-03-15T12:47:53.062228Z",
     "iopub.status.idle": "2022-03-15T12:47:53.064958Z",
     "shell.execute_reply": "2022-03-15T12:47:53.065560Z"
    },
    "jupyter": {
     "outputs_hidden": true
    },
    "papermill": {
     "duration": 0.034222,
     "end_time": "2022-03-15T12:47:53.065772",
     "exception": false,
     "start_time": "2022-03-15T12:47:53.031550",
     "status": "completed"
    },
    "tags": []
   },
   "outputs": [],
   "source": [
    "# step_4.hint()\n",
    "# step_4.solution()"
   ]
  },
  {
   "cell_type": "markdown",
   "id": "b659025b",
   "metadata": {
    "papermill": {
     "duration": 0.025835,
     "end_time": "2022-03-15T12:47:53.117789",
     "exception": false,
     "start_time": "2022-03-15T12:47:53.091954",
     "status": "completed"
    },
    "tags": []
   },
   "source": [
    "## Think About Your Results\n",
    "\n",
    "Use the `head` method to compare the top few predictions to the actual home values (in `y`) for those same homes. Anything surprising?\n"
   ]
  },
  {
   "cell_type": "code",
   "execution_count": 12,
   "id": "6afba37f",
   "metadata": {
    "execution": {
     "iopub.execute_input": "2022-03-15T12:47:53.178162Z",
     "iopub.status.busy": "2022-03-15T12:47:53.177291Z",
     "iopub.status.idle": "2022-03-15T12:47:53.180650Z",
     "shell.execute_reply": "2022-03-15T12:47:53.181186Z",
     "shell.execute_reply.started": "2022-03-15T12:42:22.705569Z"
    },
    "papermill": {
     "duration": 0.037118,
     "end_time": "2022-03-15T12:47:53.181386",
     "exception": false,
     "start_time": "2022-03-15T12:47:53.144268",
     "status": "completed"
    },
    "tags": []
   },
   "outputs": [
    {
     "name": "stdout",
     "output_type": "stream",
     "text": [
      "[208500. 181500. 223500. 140000. 250000.]\n",
      "0    208500\n",
      "1    181500\n",
      "2    223500\n",
      "3    140000\n",
      "4    250000\n",
      "Name: SalePrice, dtype: int64\n"
     ]
    }
   ],
   "source": [
    "# You can write code in this cell\n",
    "print(predictions[:5])\n",
    "print(y.head())"
   ]
  },
  {
   "cell_type": "markdown",
   "id": "715ac026",
   "metadata": {
    "papermill": {
     "duration": 0.026079,
     "end_time": "2022-03-15T12:47:53.233806",
     "exception": false,
     "start_time": "2022-03-15T12:47:53.207727",
     "status": "completed"
    },
    "tags": []
   },
   "source": [
    "It's natural to ask how accurate the model's predictions will be and how you can improve that. That will be you're next step.\n",
    "\n",
    "# Keep Going\n",
    "\n",
    "You are ready for **[Model Validation](https://www.kaggle.com/dansbecker/model-validation).**\n"
   ]
  },
  {
   "cell_type": "markdown",
   "id": "684555af",
   "metadata": {
    "papermill": {
     "duration": 0.026042,
     "end_time": "2022-03-15T12:47:53.286229",
     "exception": false,
     "start_time": "2022-03-15T12:47:53.260187",
     "status": "completed"
    },
    "tags": []
   },
   "source": [
    "---\n",
    "\n",
    "\n",
    "\n",
    "\n",
    "*Have questions or comments? Visit the [course discussion forum](https://www.kaggle.com/learn/intro-to-machine-learning/discussion) to chat with other learners.*"
   ]
  }
 ],
 "metadata": {
  "kernelspec": {
   "display_name": "Python 3",
   "language": "python",
   "name": "python3"
  },
  "language_info": {
   "codemirror_mode": {
    "name": "ipython",
    "version": 3
   },
   "file_extension": ".py",
   "mimetype": "text/x-python",
   "name": "python",
   "nbconvert_exporter": "python",
   "pygments_lexer": "ipython3",
   "version": "3.7.12"
  },
  "papermill": {
   "default_parameters": {},
   "duration": 13.838368,
   "end_time": "2022-03-15T12:47:54.024140",
   "environment_variables": {},
   "exception": null,
   "input_path": "__notebook__.ipynb",
   "output_path": "__notebook__.ipynb",
   "parameters": {},
   "start_time": "2022-03-15T12:47:40.185772",
   "version": "2.3.3"
  }
 },
 "nbformat": 4,
 "nbformat_minor": 5
}
