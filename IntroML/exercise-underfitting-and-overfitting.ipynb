{
 "cells": [
  {
   "cell_type": "markdown",
   "id": "664bbae0",
   "metadata": {
    "papermill": {
     "duration": 0.010332,
     "end_time": "2022-03-15T13:18:40.862184",
     "exception": false,
     "start_time": "2022-03-15T13:18:40.851852",
     "status": "completed"
    },
    "tags": []
   },
   "source": [
    "**This notebook is an exercise in the [Introduction to Machine Learning](https://www.kaggle.com/learn/intro-to-machine-learning) course.  You can reference the tutorial at [this link](https://www.kaggle.com/dansbecker/underfitting-and-overfitting).**\n",
    "\n",
    "---\n"
   ]
  },
  {
   "cell_type": "markdown",
   "id": "40929017",
   "metadata": {
    "papermill": {
     "duration": 0.008316,
     "end_time": "2022-03-15T13:18:40.879540",
     "exception": false,
     "start_time": "2022-03-15T13:18:40.871224",
     "status": "completed"
    },
    "tags": []
   },
   "source": [
    "## Recap\n",
    "You've built your first model, and now it's time to optimize the size of the tree to make better predictions. Run this cell to set up your coding environment where the previous step left off."
   ]
  },
  {
   "cell_type": "code",
   "execution_count": 1,
   "id": "b83b5be3",
   "metadata": {
    "execution": {
     "iopub.execute_input": "2022-03-15T13:18:40.901384Z",
     "iopub.status.busy": "2022-03-15T13:18:40.900225Z",
     "iopub.status.idle": "2022-03-15T13:18:42.340538Z",
     "shell.execute_reply": "2022-03-15T13:18:42.339652Z",
     "shell.execute_reply.started": "2022-03-15T13:07:01.547555Z"
    },
    "papermill": {
     "duration": 1.452556,
     "end_time": "2022-03-15T13:18:42.340708",
     "exception": false,
     "start_time": "2022-03-15T13:18:40.888152",
     "status": "completed"
    },
    "tags": []
   },
   "outputs": [
    {
     "name": "stdout",
     "output_type": "stream",
     "text": [
      "Validation MAE: 29,653\n",
      "\n",
      "Setup complete\n"
     ]
    }
   ],
   "source": [
    "# Code you have previously used to load data\n",
    "import pandas as pd\n",
    "from sklearn.metrics import mean_absolute_error\n",
    "from sklearn.model_selection import train_test_split\n",
    "from sklearn.tree import DecisionTreeRegressor\n",
    "\n",
    "\n",
    "# Path of the file to read\n",
    "iowa_file_path = '../input/home-data-for-ml-course/train.csv'\n",
    "\n",
    "home_data = pd.read_csv(iowa_file_path)\n",
    "# Create target object and call it y\n",
    "y = home_data.SalePrice\n",
    "# Create X\n",
    "features = ['LotArea', 'YearBuilt', '1stFlrSF', '2ndFlrSF', 'FullBath', 'BedroomAbvGr', 'TotRmsAbvGrd']\n",
    "X = home_data[features]\n",
    "\n",
    "# Split into validation and training data\n",
    "train_X, val_X, train_y, val_y = train_test_split(X, y, random_state=1)\n",
    "\n",
    "# Specify Model\n",
    "iowa_model = DecisionTreeRegressor(random_state=1)\n",
    "# Fit Model\n",
    "iowa_model.fit(train_X, train_y)\n",
    "\n",
    "# Make validation predictions and calculate mean absolute error\n",
    "val_predictions = iowa_model.predict(val_X)\n",
    "val_mae = mean_absolute_error(val_predictions, val_y)\n",
    "print(\"Validation MAE: {:,.0f}\".format(val_mae))\n",
    "\n",
    "# Set up code checking\n",
    "from learntools.core import binder\n",
    "binder.bind(globals())\n",
    "from learntools.machine_learning.ex5 import *\n",
    "print(\"\\nSetup complete\")"
   ]
  },
  {
   "cell_type": "markdown",
   "id": "093371c3",
   "metadata": {
    "papermill": {
     "duration": 0.009584,
     "end_time": "2022-03-15T13:18:42.359816",
     "exception": false,
     "start_time": "2022-03-15T13:18:42.350232",
     "status": "completed"
    },
    "tags": []
   },
   "source": [
    "# Exercises\n",
    "You could write the function `get_mae` yourself. For now, we'll supply it. This is the same function you read about in the previous lesson. Just run the cell below."
   ]
  },
  {
   "cell_type": "code",
   "execution_count": 2,
   "id": "d02f07da",
   "metadata": {
    "execution": {
     "iopub.execute_input": "2022-03-15T13:18:42.384300Z",
     "iopub.status.busy": "2022-03-15T13:18:42.383650Z",
     "iopub.status.idle": "2022-03-15T13:18:42.385356Z",
     "shell.execute_reply": "2022-03-15T13:18:42.385814Z",
     "shell.execute_reply.started": "2022-03-15T13:07:05.692814Z"
    },
    "papermill": {
     "duration": 0.016938,
     "end_time": "2022-03-15T13:18:42.385999",
     "exception": false,
     "start_time": "2022-03-15T13:18:42.369061",
     "status": "completed"
    },
    "tags": []
   },
   "outputs": [],
   "source": [
    "def get_mae(max_leaf_nodes, train_X, val_X, train_y, val_y):\n",
    "    model = DecisionTreeRegressor(max_leaf_nodes=max_leaf_nodes, random_state=0)\n",
    "    model.fit(train_X, train_y)\n",
    "    preds_val = model.predict(val_X)\n",
    "    mae = mean_absolute_error(val_y, preds_val)\n",
    "    return(mae)"
   ]
  },
  {
   "cell_type": "markdown",
   "id": "e4b8b99e",
   "metadata": {
    "papermill": {
     "duration": 0.010701,
     "end_time": "2022-03-15T13:18:42.405811",
     "exception": false,
     "start_time": "2022-03-15T13:18:42.395110",
     "status": "completed"
    },
    "tags": []
   },
   "source": [
    "## Step 1: Compare Different Tree Sizes\n",
    "Write a loop that tries the following values for *max_leaf_nodes* from a set of possible values.\n",
    "\n",
    "Call the *get_mae* function on each value of max_leaf_nodes. Store the output in some way that allows you to select the value of `max_leaf_nodes` that gives the most accurate model on your data."
   ]
  },
  {
   "cell_type": "code",
   "execution_count": 3,
   "id": "6a8b1321",
   "metadata": {
    "execution": {
     "iopub.execute_input": "2022-03-15T13:18:42.428182Z",
     "iopub.status.busy": "2022-03-15T13:18:42.427470Z",
     "iopub.status.idle": "2022-03-15T13:18:42.475113Z",
     "shell.execute_reply": "2022-03-15T13:18:42.474501Z",
     "shell.execute_reply.started": "2022-03-15T13:12:00.505890Z"
    },
    "papermill": {
     "duration": 0.060233,
     "end_time": "2022-03-15T13:18:42.475294",
     "exception": false,
     "start_time": "2022-03-15T13:18:42.415061",
     "status": "completed"
    },
    "tags": []
   },
   "outputs": [
    {
     "data": {
      "application/javascript": [
       "parent.postMessage({\"jupyterEvent\": \"custom.exercise_interaction\", \"data\": {\"outcomeType\": 1, \"valueTowardsCompletion\": 0.5, \"interactionType\": 1, \"questionType\": 1, \"questionId\": \"1_BestTreeSize\", \"learnToolsVersion\": \"0.3.4\", \"failureMessage\": \"\", \"exceptionClass\": \"\", \"trace\": \"\"}}, \"*\")"
      ],
      "text/plain": [
       "<IPython.core.display.Javascript object>"
      ]
     },
     "metadata": {},
     "output_type": "display_data"
    },
    {
     "data": {
      "text/markdown": [
       "<span style=\"color:#33cc33\">Correct</span>"
      ],
      "text/plain": [
       "Correct"
      ]
     },
     "metadata": {},
     "output_type": "display_data"
    }
   ],
   "source": [
    "candidate_max_leaf_nodes = [5, 25, 50, 100, 250, 500]\n",
    "# Write loop to find the ideal tree size from candidate_max_leaf_nodes\n",
    "MAE = []\n",
    "for leaf_size in candidate_max_leaf_nodes:\n",
    "    MAE.append(get_mae(leaf_size, train_X, val_X, train_y, val_y))\n",
    "\n",
    "# Store the best value of max_leaf_nodes (it will be either 5, 25, 50, 100, 250 or 500)\n",
    "best_tree_size = candidate_max_leaf_nodes[MAE.index(min(MAE))]\n",
    "\n",
    "# Check your answer\n",
    "step_1.check()"
   ]
  },
  {
   "cell_type": "code",
   "execution_count": 4,
   "id": "3cf60c46",
   "metadata": {
    "execution": {
     "iopub.execute_input": "2022-03-15T13:18:42.503490Z",
     "iopub.status.busy": "2022-03-15T13:18:42.502654Z",
     "iopub.status.idle": "2022-03-15T13:18:42.508648Z",
     "shell.execute_reply": "2022-03-15T13:18:42.508089Z",
     "shell.execute_reply.started": "2022-03-15T13:12:04.908364Z"
    },
    "papermill": {
     "duration": 0.022571,
     "end_time": "2022-03-15T13:18:42.508789",
     "exception": false,
     "start_time": "2022-03-15T13:18:42.486218",
     "status": "completed"
    },
    "tags": []
   },
   "outputs": [
    {
     "data": {
      "application/javascript": [
       "parent.postMessage({\"jupyterEvent\": \"custom.exercise_interaction\", \"data\": {\"interactionType\": 3, \"questionType\": 1, \"questionId\": \"1_BestTreeSize\", \"learnToolsVersion\": \"0.3.4\", \"valueTowardsCompletion\": 0.0, \"failureMessage\": \"\", \"exceptionClass\": \"\", \"trace\": \"\", \"outcomeType\": 4}}, \"*\")"
      ],
      "text/plain": [
       "<IPython.core.display.Javascript object>"
      ]
     },
     "metadata": {},
     "output_type": "display_data"
    },
    {
     "data": {
      "text/markdown": [
       "<span style=\"color:#33cc99\">Solution:</span> \n",
       "```python\n",
       "# Here is a short solution with a dict comprehension.\n",
       "# The lesson gives an example of how to do this with an explicit loop.\n",
       "scores = {leaf_size: get_mae(leaf_size, train_X, val_X, train_y, val_y) for leaf_size in candidate_max_leaf_nodes}\n",
       "best_tree_size = min(scores, key=scores.get)\n",
       "\n",
       "```"
      ],
      "text/plain": [
       "Solution: \n",
       "```python\n",
       "# Here is a short solution with a dict comprehension.\n",
       "# The lesson gives an example of how to do this with an explicit loop.\n",
       "scores = {leaf_size: get_mae(leaf_size, train_X, val_X, train_y, val_y) for leaf_size in candidate_max_leaf_nodes}\n",
       "best_tree_size = min(scores, key=scores.get)\n",
       "\n",
       "```"
      ]
     },
     "metadata": {},
     "output_type": "display_data"
    }
   ],
   "source": [
    "# The lines below will show you a hint or the solution.\n",
    "# step_1.hint() \n",
    "step_1.solution()"
   ]
  },
  {
   "cell_type": "markdown",
   "id": "f59b1783",
   "metadata": {
    "papermill": {
     "duration": 0.010624,
     "end_time": "2022-03-15T13:18:42.530441",
     "exception": false,
     "start_time": "2022-03-15T13:18:42.519817",
     "status": "completed"
    },
    "tags": []
   },
   "source": [
    "## Step 2: Fit Model Using All Data\n",
    "You know the best tree size. If you were going to deploy this model in practice, you would make it even more accurate by using all of the data and keeping that tree size.  That is, you don't need to hold out the validation data now that you've made all your modeling decisions."
   ]
  },
  {
   "cell_type": "code",
   "execution_count": 5,
   "id": "2f759bef",
   "metadata": {
    "execution": {
     "iopub.execute_input": "2022-03-15T13:18:42.559364Z",
     "iopub.status.busy": "2022-03-15T13:18:42.558693Z",
     "iopub.status.idle": "2022-03-15T13:18:42.568439Z",
     "shell.execute_reply": "2022-03-15T13:18:42.568982Z",
     "shell.execute_reply.started": "2022-03-15T13:18:14.830791Z"
    },
    "papermill": {
     "duration": 0.028055,
     "end_time": "2022-03-15T13:18:42.569150",
     "exception": false,
     "start_time": "2022-03-15T13:18:42.541095",
     "status": "completed"
    },
    "tags": []
   },
   "outputs": [
    {
     "data": {
      "application/javascript": [
       "parent.postMessage({\"jupyterEvent\": \"custom.exercise_interaction\", \"data\": {\"outcomeType\": 1, \"valueTowardsCompletion\": 0.5, \"interactionType\": 1, \"questionType\": 2, \"questionId\": \"2_FitModelWithAllData\", \"learnToolsVersion\": \"0.3.4\", \"failureMessage\": \"\", \"exceptionClass\": \"\", \"trace\": \"\"}}, \"*\")"
      ],
      "text/plain": [
       "<IPython.core.display.Javascript object>"
      ]
     },
     "metadata": {},
     "output_type": "display_data"
    },
    {
     "data": {
      "text/markdown": [
       "<span style=\"color:#33cc33\">Correct</span>"
      ],
      "text/plain": [
       "Correct"
      ]
     },
     "metadata": {},
     "output_type": "display_data"
    }
   ],
   "source": [
    "# Fill in argument to make optimal size and uncomment\n",
    "final_model = DecisionTreeRegressor(max_leaf_nodes = best_tree_size, random_state = 0)\n",
    "\n",
    "# fit the final model and uncomment the next two lines\n",
    "final_model.fit(X, y)\n",
    "\n",
    "# Check your answer\n",
    "step_2.check()"
   ]
  },
  {
   "cell_type": "code",
   "execution_count": 6,
   "id": "27bc1935",
   "metadata": {
    "execution": {
     "iopub.execute_input": "2022-03-15T13:18:42.596694Z",
     "iopub.status.busy": "2022-03-15T13:18:42.595347Z",
     "iopub.status.idle": "2022-03-15T13:18:42.598850Z",
     "shell.execute_reply": "2022-03-15T13:18:42.599363Z"
    },
    "papermill": {
     "duration": 0.018534,
     "end_time": "2022-03-15T13:18:42.599531",
     "exception": false,
     "start_time": "2022-03-15T13:18:42.580997",
     "status": "completed"
    },
    "tags": []
   },
   "outputs": [],
   "source": [
    "# step_2.hint()\n",
    "# step_2.solution()"
   ]
  },
  {
   "cell_type": "markdown",
   "id": "17f1d2cd",
   "metadata": {
    "papermill": {
     "duration": 0.011737,
     "end_time": "2022-03-15T13:18:42.623306",
     "exception": false,
     "start_time": "2022-03-15T13:18:42.611569",
     "status": "completed"
    },
    "tags": []
   },
   "source": [
    "You've tuned this model and improved your results. But we are still using Decision Tree models, which are not very sophisticated by modern machine learning standards. In the next step you will learn to use Random Forests to improve your models even more.\n",
    "\n",
    "# Keep Going\n",
    "\n",
    "You are ready for **[Random Forests](https://www.kaggle.com/dansbecker/random-forests).**\n"
   ]
  },
  {
   "cell_type": "markdown",
   "id": "e1716789",
   "metadata": {
    "papermill": {
     "duration": 0.011638,
     "end_time": "2022-03-15T13:18:42.647066",
     "exception": false,
     "start_time": "2022-03-15T13:18:42.635428",
     "status": "completed"
    },
    "tags": []
   },
   "source": [
    "---\n",
    "\n",
    "\n",
    "\n",
    "\n",
    "*Have questions or comments? Visit the [course discussion forum](https://www.kaggle.com/learn/intro-to-machine-learning/discussion) to chat with other learners.*"
   ]
  }
 ],
 "metadata": {
  "kernelspec": {
   "display_name": "Python 3",
   "language": "python",
   "name": "python3"
  },
  "language_info": {
   "codemirror_mode": {
    "name": "ipython",
    "version": 3
   },
   "file_extension": ".py",
   "mimetype": "text/x-python",
   "name": "python",
   "nbconvert_exporter": "python",
   "pygments_lexer": "ipython3",
   "version": "3.7.12"
  },
  "papermill": {
   "default_parameters": {},
   "duration": 11.943793,
   "end_time": "2022-03-15T13:18:43.370361",
   "environment_variables": {},
   "exception": null,
   "input_path": "__notebook__.ipynb",
   "output_path": "__notebook__.ipynb",
   "parameters": {},
   "start_time": "2022-03-15T13:18:31.426568",
   "version": "2.3.3"
  }
 },
 "nbformat": 4,
 "nbformat_minor": 5
}
