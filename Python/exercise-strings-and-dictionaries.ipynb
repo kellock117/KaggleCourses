{
 "cells": [
  {
   "cell_type": "markdown",
   "id": "3f5935d1",
   "metadata": {
    "papermill": {
     "duration": 0.021088,
     "end_time": "2022-03-15T08:29:10.578663",
     "exception": false,
     "start_time": "2022-03-15T08:29:10.557575",
     "status": "completed"
    },
    "tags": []
   },
   "source": [
    "**This notebook is an exercise in the [Python](https://www.kaggle.com/learn/python) course.  You can reference the tutorial at [this link](https://www.kaggle.com/colinmorris/strings-and-dictionaries).**\n",
    "\n",
    "---\n"
   ]
  },
  {
   "cell_type": "markdown",
   "id": "b2ac413c",
   "metadata": {
    "papermill": {
     "duration": 0.023113,
     "end_time": "2022-03-15T08:29:10.621877",
     "exception": false,
     "start_time": "2022-03-15T08:29:10.598764",
     "status": "completed"
    },
    "tags": []
   },
   "source": [
    "You are almost done with the course. Nice job!\n",
    "\n",
    "We have a couple more interesting problems for you before you go. \n",
    "\n",
    "As always, run the setup code below before working on the questions."
   ]
  },
  {
   "cell_type": "code",
   "execution_count": 1,
   "id": "3885ee8f",
   "metadata": {
    "execution": {
     "iopub.execute_input": "2022-03-15T08:29:10.678883Z",
     "iopub.status.busy": "2022-03-15T08:29:10.677044Z",
     "iopub.status.idle": "2022-03-15T08:29:10.737179Z",
     "shell.execute_reply": "2022-03-15T08:29:10.737803Z",
     "shell.execute_reply.started": "2022-03-15T07:40:04.301113Z"
    },
    "papermill": {
     "duration": 0.092889,
     "end_time": "2022-03-15T08:29:10.738103",
     "exception": false,
     "start_time": "2022-03-15T08:29:10.645214",
     "status": "completed"
    },
    "tags": []
   },
   "outputs": [
    {
     "name": "stdout",
     "output_type": "stream",
     "text": [
      "Setup complete.\n"
     ]
    }
   ],
   "source": [
    "from learntools.core import binder; binder.bind(globals())\n",
    "from learntools.python.ex6 import *\n",
    "print('Setup complete.')"
   ]
  },
  {
   "cell_type": "markdown",
   "id": "c6e466b4",
   "metadata": {
    "papermill": {
     "duration": 0.020083,
     "end_time": "2022-03-15T08:29:10.779655",
     "exception": false,
     "start_time": "2022-03-15T08:29:10.759572",
     "status": "completed"
    },
    "tags": []
   },
   "source": [
    "Let's start with a string lightning round to warm up. What are the lengths of the strings below?\n",
    "\n",
    "For each of the five strings below, predict what `len()` would return when passed that string. Use the variable `length` to record your answer, then run the cell to check whether you were right.  \n",
    "\n",
    "# 0a."
   ]
  },
  {
   "cell_type": "code",
   "execution_count": 2,
   "id": "53880d8f",
   "metadata": {
    "execution": {
     "iopub.execute_input": "2022-03-15T08:29:10.824736Z",
     "iopub.status.busy": "2022-03-15T08:29:10.823760Z",
     "iopub.status.idle": "2022-03-15T08:29:10.834276Z",
     "shell.execute_reply": "2022-03-15T08:29:10.834783Z",
     "shell.execute_reply.started": "2022-03-15T07:40:14.671733Z"
    },
    "papermill": {
     "duration": 0.035184,
     "end_time": "2022-03-15T08:29:10.834954",
     "exception": false,
     "start_time": "2022-03-15T08:29:10.799770",
     "status": "completed"
    },
    "tags": []
   },
   "outputs": [
    {
     "data": {
      "application/javascript": [
       "parent.postMessage({\"jupyterEvent\": \"custom.exercise_interaction\", \"data\": {\"outcomeType\": 1, \"valueTowardsCompletion\": 0.3333333333333333, \"interactionType\": 1, \"questionType\": 1, \"questionId\": \"0.1_ZA\", \"learnToolsVersion\": \"0.3.4\", \"failureMessage\": \"\", \"exceptionClass\": \"\", \"trace\": \"\"}}, \"*\")"
      ],
      "text/plain": [
       "<IPython.core.display.Javascript object>"
      ]
     },
     "metadata": {},
     "output_type": "display_data"
    },
    {
     "data": {
      "text/markdown": [
       "<span style=\"color:#33cc33\">Correct:</span> \n",
       "\n",
       "The empty string has length zero. Note that the empty string is also the only string that Python considers as False when converting to boolean."
      ],
      "text/plain": [
       "Correct: \n",
       "\n",
       "The empty string has length zero. Note that the empty string is also the only string that Python considers as False when converting to boolean."
      ]
     },
     "metadata": {},
     "output_type": "display_data"
    }
   ],
   "source": [
    "a = \"\"\n",
    "length = 0\n",
    "q0.a.check()"
   ]
  },
  {
   "cell_type": "markdown",
   "id": "d5df8771",
   "metadata": {
    "papermill": {
     "duration": 0.021341,
     "end_time": "2022-03-15T08:29:10.878730",
     "exception": false,
     "start_time": "2022-03-15T08:29:10.857389",
     "status": "completed"
    },
    "tags": []
   },
   "source": [
    "# 0b."
   ]
  },
  {
   "cell_type": "code",
   "execution_count": 3,
   "id": "df6cb0ca",
   "metadata": {
    "execution": {
     "iopub.execute_input": "2022-03-15T08:29:10.925477Z",
     "iopub.status.busy": "2022-03-15T08:29:10.924517Z",
     "iopub.status.idle": "2022-03-15T08:29:10.932078Z",
     "shell.execute_reply": "2022-03-15T08:29:10.932599Z",
     "shell.execute_reply.started": "2022-03-15T07:40:24.008555Z"
    },
    "papermill": {
     "duration": 0.032532,
     "end_time": "2022-03-15T08:29:10.932764",
     "exception": false,
     "start_time": "2022-03-15T08:29:10.900232",
     "status": "completed"
    },
    "tags": []
   },
   "outputs": [
    {
     "data": {
      "application/javascript": [
       "parent.postMessage({\"jupyterEvent\": \"custom.exercise_interaction\", \"data\": {\"outcomeType\": 1, \"valueTowardsCompletion\": 0.3333333333333333, \"interactionType\": 1, \"questionType\": 1, \"questionId\": \"0.2_ZB\", \"learnToolsVersion\": \"0.3.4\", \"failureMessage\": \"\", \"exceptionClass\": \"\", \"trace\": \"\"}}, \"*\")"
      ],
      "text/plain": [
       "<IPython.core.display.Javascript object>"
      ]
     },
     "metadata": {},
     "output_type": "display_data"
    },
    {
     "data": {
      "text/markdown": [
       "<span style=\"color:#33cc33\">Correct:</span> \n",
       "\n",
       "Keep in mind Python includes spaces (and punctuation) when counting string length."
      ],
      "text/plain": [
       "Correct: \n",
       "\n",
       "Keep in mind Python includes spaces (and punctuation) when counting string length."
      ]
     },
     "metadata": {},
     "output_type": "display_data"
    }
   ],
   "source": [
    "b = \"it's ok\"\n",
    "length = 7\n",
    "q0.b.check()"
   ]
  },
  {
   "cell_type": "markdown",
   "id": "716235da",
   "metadata": {
    "papermill": {
     "duration": 0.02223,
     "end_time": "2022-03-15T08:29:10.977807",
     "exception": false,
     "start_time": "2022-03-15T08:29:10.955577",
     "status": "completed"
    },
    "tags": []
   },
   "source": [
    "# 0c."
   ]
  },
  {
   "cell_type": "code",
   "execution_count": 4,
   "id": "20a826b8",
   "metadata": {
    "execution": {
     "iopub.execute_input": "2022-03-15T08:29:11.029061Z",
     "iopub.status.busy": "2022-03-15T08:29:11.028093Z",
     "iopub.status.idle": "2022-03-15T08:29:11.035690Z",
     "shell.execute_reply": "2022-03-15T08:29:11.036125Z",
     "shell.execute_reply.started": "2022-03-15T07:40:33.820493Z"
    },
    "papermill": {
     "duration": 0.035907,
     "end_time": "2022-03-15T08:29:11.036316",
     "exception": false,
     "start_time": "2022-03-15T08:29:11.000409",
     "status": "completed"
    },
    "tags": []
   },
   "outputs": [
    {
     "data": {
      "application/javascript": [
       "parent.postMessage({\"jupyterEvent\": \"custom.exercise_interaction\", \"data\": {\"outcomeType\": 1, \"valueTowardsCompletion\": 0.3333333333333333, \"interactionType\": 1, \"questionType\": 1, \"questionId\": \"0.3_ZC\", \"learnToolsVersion\": \"0.3.4\", \"failureMessage\": \"\", \"exceptionClass\": \"\", \"trace\": \"\"}}, \"*\")"
      ],
      "text/plain": [
       "<IPython.core.display.Javascript object>"
      ]
     },
     "metadata": {},
     "output_type": "display_data"
    },
    {
     "data": {
      "text/markdown": [
       "<span style=\"color:#33cc33\">Correct:</span> \n",
       "\n",
       "Even though we use different syntax to create it, the string `c` is identical to `b`. In particular, note that the backslash is not part of the string, so it doesn't contribute to its length."
      ],
      "text/plain": [
       "Correct: \n",
       "\n",
       "Even though we use different syntax to create it, the string `c` is identical to `b`. In particular, note that the backslash is not part of the string, so it doesn't contribute to its length."
      ]
     },
     "metadata": {},
     "output_type": "display_data"
    }
   ],
   "source": [
    "c = 'it\\'s ok'\n",
    "length = 7\n",
    "q0.c.check()"
   ]
  },
  {
   "cell_type": "markdown",
   "id": "9573b6de",
   "metadata": {
    "papermill": {
     "duration": 0.023639,
     "end_time": "2022-03-15T08:29:11.083951",
     "exception": false,
     "start_time": "2022-03-15T08:29:11.060312",
     "status": "completed"
    },
    "tags": []
   },
   "source": [
    "# 0d."
   ]
  },
  {
   "cell_type": "code",
   "execution_count": 5,
   "id": "0f35aac2",
   "metadata": {
    "execution": {
     "iopub.execute_input": "2022-03-15T08:29:11.138559Z",
     "iopub.status.busy": "2022-03-15T08:29:11.137500Z",
     "iopub.status.idle": "2022-03-15T08:29:11.142743Z",
     "shell.execute_reply": "2022-03-15T08:29:11.143207Z",
     "shell.execute_reply.started": "2022-03-15T07:40:40.030825Z"
    },
    "papermill": {
     "duration": 0.035592,
     "end_time": "2022-03-15T08:29:11.143387",
     "exception": false,
     "start_time": "2022-03-15T08:29:11.107795",
     "status": "completed"
    },
    "tags": []
   },
   "outputs": [
    {
     "data": {
      "application/javascript": [
       "parent.postMessage({\"jupyterEvent\": \"custom.exercise_interaction\", \"data\": {\"outcomeType\": 1, \"valueTowardsCompletion\": 0.3333333333333333, \"interactionType\": 1, \"questionType\": 1, \"questionId\": \"0.4_ZD\", \"learnToolsVersion\": \"0.3.4\", \"failureMessage\": \"\", \"exceptionClass\": \"\", \"trace\": \"\"}}, \"*\")"
      ],
      "text/plain": [
       "<IPython.core.display.Javascript object>"
      ]
     },
     "metadata": {},
     "output_type": "display_data"
    },
    {
     "data": {
      "text/markdown": [
       "<span style=\"color:#33cc33\">Correct:</span> \n",
       "\n",
       "The fact that this string was created using triple-quote syntax doesn't make any difference in terms of its content or length. This string is exactly the same as `'hey'`."
      ],
      "text/plain": [
       "Correct: \n",
       "\n",
       "The fact that this string was created using triple-quote syntax doesn't make any difference in terms of its content or length. This string is exactly the same as `'hey'`."
      ]
     },
     "metadata": {},
     "output_type": "display_data"
    }
   ],
   "source": [
    "d = \"\"\"hey\"\"\"\n",
    "length = 3\n",
    "q0.d.check()"
   ]
  },
  {
   "cell_type": "markdown",
   "id": "ded1665f",
   "metadata": {
    "papermill": {
     "duration": 0.02507,
     "end_time": "2022-03-15T08:29:11.193681",
     "exception": false,
     "start_time": "2022-03-15T08:29:11.168611",
     "status": "completed"
    },
    "tags": []
   },
   "source": [
    "# 0e."
   ]
  },
  {
   "cell_type": "code",
   "execution_count": 6,
   "id": "0b624fff",
   "metadata": {
    "execution": {
     "iopub.execute_input": "2022-03-15T08:29:11.249464Z",
     "iopub.status.busy": "2022-03-15T08:29:11.248778Z",
     "iopub.status.idle": "2022-03-15T08:29:11.252620Z",
     "shell.execute_reply": "2022-03-15T08:29:11.253089Z",
     "shell.execute_reply.started": "2022-03-15T07:40:46.190645Z"
    },
    "papermill": {
     "duration": 0.034424,
     "end_time": "2022-03-15T08:29:11.253286",
     "exception": false,
     "start_time": "2022-03-15T08:29:11.218862",
     "status": "completed"
    },
    "tags": []
   },
   "outputs": [
    {
     "data": {
      "application/javascript": [
       "parent.postMessage({\"jupyterEvent\": \"custom.exercise_interaction\", \"data\": {\"outcomeType\": 1, \"valueTowardsCompletion\": 0.3333333333333333, \"interactionType\": 1, \"questionType\": 1, \"questionId\": \"0.5_ZE\", \"learnToolsVersion\": \"0.3.4\", \"failureMessage\": \"\", \"exceptionClass\": \"\", \"trace\": \"\"}}, \"*\")"
      ],
      "text/plain": [
       "<IPython.core.display.Javascript object>"
      ]
     },
     "metadata": {},
     "output_type": "display_data"
    },
    {
     "data": {
      "text/markdown": [
       "<span style=\"color:#33cc33\">Correct:</span> \n",
       "\n",
       "The newline character is just a single character! (Even though we represent it to Python using a combination of two characters.)"
      ],
      "text/plain": [
       "Correct: \n",
       "\n",
       "The newline character is just a single character! (Even though we represent it to Python using a combination of two characters.)"
      ]
     },
     "metadata": {},
     "output_type": "display_data"
    }
   ],
   "source": [
    "e = '\\n'\n",
    "length = 1\n",
    "q0.e.check()"
   ]
  },
  {
   "cell_type": "markdown",
   "id": "0574cc55",
   "metadata": {
    "papermill": {
     "duration": 0.026243,
     "end_time": "2022-03-15T08:29:11.306000",
     "exception": false,
     "start_time": "2022-03-15T08:29:11.279757",
     "status": "completed"
    },
    "tags": []
   },
   "source": [
    "# 1.\n",
    "\n",
    "There is a saying that \"Data scientists spend 80% of their time cleaning data, and 20% of their time complaining about cleaning data.\" Let's see if you can write a function to help clean US zip code data. Given a string, it should return whether or not that string represents a valid zip code. For our purposes, a valid zip code is any string consisting of exactly 5 digits.\n",
    "\n",
    "HINT: `str` has a method that will be useful here. Use `help(str)` to review a list of string methods."
   ]
  },
  {
   "cell_type": "code",
   "execution_count": 7,
   "id": "c9ae0fa1",
   "metadata": {
    "execution": {
     "iopub.execute_input": "2022-03-15T08:29:11.362763Z",
     "iopub.status.busy": "2022-03-15T08:29:11.362100Z",
     "iopub.status.idle": "2022-03-15T08:29:11.368057Z",
     "shell.execute_reply": "2022-03-15T08:29:11.368585Z",
     "shell.execute_reply.started": "2022-03-15T07:42:10.720405Z"
    },
    "papermill": {
     "duration": 0.03616,
     "end_time": "2022-03-15T08:29:11.368752",
     "exception": false,
     "start_time": "2022-03-15T08:29:11.332592",
     "status": "completed"
    },
    "tags": []
   },
   "outputs": [
    {
     "data": {
      "application/javascript": [
       "parent.postMessage({\"jupyterEvent\": \"custom.exercise_interaction\", \"data\": {\"outcomeType\": 1, \"valueTowardsCompletion\": 0.3333333333333333, \"interactionType\": 1, \"questionType\": 2, \"questionId\": \"1_ZipValidator\", \"learnToolsVersion\": \"0.3.4\", \"failureMessage\": \"\", \"exceptionClass\": \"\", \"trace\": \"\"}}, \"*\")"
      ],
      "text/plain": [
       "<IPython.core.display.Javascript object>"
      ]
     },
     "metadata": {},
     "output_type": "display_data"
    },
    {
     "data": {
      "text/markdown": [
       "<span style=\"color:#33cc33\">Correct</span>"
      ],
      "text/plain": [
       "Correct"
      ]
     },
     "metadata": {},
     "output_type": "display_data"
    }
   ],
   "source": [
    "def is_valid_zip(zip_code):\n",
    "    \"\"\"Returns whether the input string is a valid (5 digit) zip code\n",
    "    \"\"\"\n",
    "    return zip_code.isdigit() and len(zip_code) == 5\n",
    "\n",
    "# Check your answer\n",
    "q1.check()"
   ]
  },
  {
   "cell_type": "code",
   "execution_count": 8,
   "id": "5349feee",
   "metadata": {
    "execution": {
     "iopub.execute_input": "2022-03-15T08:29:11.429081Z",
     "iopub.status.busy": "2022-03-15T08:29:11.428451Z",
     "iopub.status.idle": "2022-03-15T08:29:11.432732Z",
     "shell.execute_reply": "2022-03-15T08:29:11.433235Z",
     "shell.execute_reply.started": "2022-03-15T07:42:20.440367Z"
    },
    "papermill": {
     "duration": 0.036918,
     "end_time": "2022-03-15T08:29:11.433402",
     "exception": false,
     "start_time": "2022-03-15T08:29:11.396484",
     "status": "completed"
    },
    "tags": []
   },
   "outputs": [
    {
     "data": {
      "application/javascript": [
       "parent.postMessage({\"jupyterEvent\": \"custom.exercise_interaction\", \"data\": {\"interactionType\": 3, \"questionType\": 2, \"questionId\": \"1_ZipValidator\", \"learnToolsVersion\": \"0.3.4\", \"valueTowardsCompletion\": 0.0, \"failureMessage\": \"\", \"exceptionClass\": \"\", \"trace\": \"\", \"outcomeType\": 4}}, \"*\")"
      ],
      "text/plain": [
       "<IPython.core.display.Javascript object>"
      ]
     },
     "metadata": {},
     "output_type": "display_data"
    },
    {
     "data": {
      "text/markdown": [
       "<span style=\"color:#33cc99\">Solution:</span> \n",
       "```python\n",
       "def is_valid_zip(zip_code):\n",
       "    return len(zip_code) == 5 and zip_code.isdigit()\n",
       "```"
      ],
      "text/plain": [
       "Solution: \n",
       "```python\n",
       "def is_valid_zip(zip_code):\n",
       "    return len(zip_code) == 5 and zip_code.isdigit()\n",
       "```"
      ]
     },
     "metadata": {},
     "output_type": "display_data"
    }
   ],
   "source": [
    "#q1.hint()\n",
    "q1.solution()"
   ]
  },
  {
   "cell_type": "markdown",
   "id": "ea8c61d8",
   "metadata": {
    "papermill": {
     "duration": 0.028577,
     "end_time": "2022-03-15T08:29:11.490854",
     "exception": false,
     "start_time": "2022-03-15T08:29:11.462277",
     "status": "completed"
    },
    "tags": []
   },
   "source": [
    "# 2.\n",
    "\n",
    "A researcher has gathered thousands of news articles. But she wants to focus her attention on articles including a specific word. Complete the function below to help her filter her list of articles.\n",
    "\n",
    "Your function should meet the following criteria:\n",
    "\n",
    "- Do not include documents where the keyword string shows up only as a part of a larger word. For example, if she were looking for the keyword “closed”, you would not include the string “enclosed.” \n",
    "- She does not want you to distinguish upper case from lower case letters. So the phrase “Closed the case.” would be included when the keyword is “closed”\n",
    "- Do not let periods or commas affect what is matched. “It is closed.” would be included when the keyword is “closed”. But you can assume there are no other types of punctuation."
   ]
  },
  {
   "cell_type": "code",
   "execution_count": 9,
   "id": "47ba515a",
   "metadata": {
    "execution": {
     "iopub.execute_input": "2022-03-15T08:29:11.552315Z",
     "iopub.status.busy": "2022-03-15T08:29:11.551642Z",
     "iopub.status.idle": "2022-03-15T08:29:11.559876Z",
     "shell.execute_reply": "2022-03-15T08:29:11.560360Z",
     "shell.execute_reply.started": "2022-03-15T08:24:28.926645Z"
    },
    "papermill": {
     "duration": 0.040307,
     "end_time": "2022-03-15T08:29:11.560519",
     "exception": false,
     "start_time": "2022-03-15T08:29:11.520212",
     "status": "completed"
    },
    "tags": []
   },
   "outputs": [
    {
     "data": {
      "application/javascript": [
       "parent.postMessage({\"jupyterEvent\": \"custom.exercise_interaction\", \"data\": {\"outcomeType\": 1, \"valueTowardsCompletion\": 0.3333333333333333, \"interactionType\": 1, \"questionType\": 2, \"questionId\": \"2_WordSearch\", \"learnToolsVersion\": \"0.3.4\", \"failureMessage\": \"\", \"exceptionClass\": \"\", \"trace\": \"\"}}, \"*\")"
      ],
      "text/plain": [
       "<IPython.core.display.Javascript object>"
      ]
     },
     "metadata": {},
     "output_type": "display_data"
    },
    {
     "data": {
      "text/markdown": [
       "<span style=\"color:#33cc33\">Correct</span>"
      ],
      "text/plain": [
       "Correct"
      ]
     },
     "metadata": {},
     "output_type": "display_data"
    }
   ],
   "source": [
    "from itertools import chain\n",
    "\n",
    "def word_search(doc_list, keyword):\n",
    "    \"\"\"\n",
    "    Takes a list of documents (each document is a string) and a keyword. \n",
    "    Returns list of the index values into the original list for all documents \n",
    "    containing the keyword.\n",
    "\n",
    "    Example:\n",
    "    doc_list = [\"The Learn Python Challenge Casino.\", \"They bought a car\", \"Casinoville\"]\n",
    "    >>> word_search(doc_list, 'casino')\n",
    "    >>> [0]\n",
    "    \"\"\"\n",
    "    indices = []\n",
    "    \n",
    "    for i, ele in enumerate(doc_list):\n",
    "        tokens = ele.split()\n",
    "        normalized = [token.replace(',', '').replace('.', '').lower() for token in tokens]\n",
    "        \n",
    "        if keyword.lower() in normalized:\n",
    "            indices.append(i)\n",
    "    \n",
    "    return indices\n",
    "\n",
    "# Check your answer\n",
    "q2.check()"
   ]
  },
  {
   "cell_type": "code",
   "execution_count": 10,
   "id": "031f996f",
   "metadata": {
    "execution": {
     "iopub.execute_input": "2022-03-15T08:29:11.624333Z",
     "iopub.status.busy": "2022-03-15T08:29:11.623661Z",
     "iopub.status.idle": "2022-03-15T08:29:11.631469Z",
     "shell.execute_reply": "2022-03-15T08:29:11.632004Z",
     "shell.execute_reply.started": "2022-03-15T08:15:36.125813Z"
    },
    "papermill": {
     "duration": 0.041471,
     "end_time": "2022-03-15T08:29:11.632211",
     "exception": false,
     "start_time": "2022-03-15T08:29:11.590740",
     "status": "completed"
    },
    "tags": []
   },
   "outputs": [
    {
     "data": {
      "application/javascript": [
       "parent.postMessage({\"jupyterEvent\": \"custom.exercise_interaction\", \"data\": {\"interactionType\": 2, \"questionType\": 2, \"questionId\": \"2_WordSearch\", \"learnToolsVersion\": \"0.3.4\", \"valueTowardsCompletion\": 0.0, \"failureMessage\": \"\", \"exceptionClass\": \"\", \"trace\": \"\", \"outcomeType\": 4}}, \"*\")"
      ],
      "text/plain": [
       "<IPython.core.display.Javascript object>"
      ]
     },
     "metadata": {},
     "output_type": "display_data"
    },
    {
     "data": {
      "text/markdown": [
       "<span style=\"color:#3366cc\">Hint:</span> Some methods that may be useful here: `str.split()`, `str.strip()`, `str.lower()`."
      ],
      "text/plain": [
       "Hint: Some methods that may be useful here: `str.split()`, `str.strip()`, `str.lower()`."
      ]
     },
     "metadata": {},
     "output_type": "display_data"
    },
    {
     "data": {
      "application/javascript": [
       "parent.postMessage({\"jupyterEvent\": \"custom.exercise_interaction\", \"data\": {\"interactionType\": 3, \"questionType\": 2, \"questionId\": \"2_WordSearch\", \"learnToolsVersion\": \"0.3.4\", \"valueTowardsCompletion\": 0.0, \"failureMessage\": \"\", \"exceptionClass\": \"\", \"trace\": \"\", \"outcomeType\": 4}}, \"*\")"
      ],
      "text/plain": [
       "<IPython.core.display.Javascript object>"
      ]
     },
     "metadata": {},
     "output_type": "display_data"
    },
    {
     "data": {
      "text/markdown": [
       "<span style=\"color:#33cc99\">Solution:</span> \n",
       "```python\n",
       "def word_search(doc_list, keyword):\n",
       "    # list to hold the indices of matching documents\n",
       "    indices = [] \n",
       "    # Iterate through the indices (i) and elements (doc) of documents\n",
       "    for i, doc in enumerate(doc_list):\n",
       "        # Split the string doc into a list of words (according to whitespace)\n",
       "        tokens = doc.split()\n",
       "        # Make a transformed list where we 'normalize' each word to facilitate matching.\n",
       "        # Periods and commas are removed from the end of each word, and it's set to all lowercase.\n",
       "        normalized = [token.rstrip('.,').lower() for token in tokens]\n",
       "        # Is there a match? If so, update the list of matching indices.\n",
       "        if keyword.lower() in normalized:\n",
       "            indices.append(i)\n",
       "    return indices\n",
       "```"
      ],
      "text/plain": [
       "Solution: \n",
       "```python\n",
       "def word_search(doc_list, keyword):\n",
       "    # list to hold the indices of matching documents\n",
       "    indices = [] \n",
       "    # Iterate through the indices (i) and elements (doc) of documents\n",
       "    for i, doc in enumerate(doc_list):\n",
       "        # Split the string doc into a list of words (according to whitespace)\n",
       "        tokens = doc.split()\n",
       "        # Make a transformed list where we 'normalize' each word to facilitate matching.\n",
       "        # Periods and commas are removed from the end of each word, and it's set to all lowercase.\n",
       "        normalized = [token.rstrip('.,').lower() for token in tokens]\n",
       "        # Is there a match? If so, update the list of matching indices.\n",
       "        if keyword.lower() in normalized:\n",
       "            indices.append(i)\n",
       "    return indices\n",
       "```"
      ]
     },
     "metadata": {},
     "output_type": "display_data"
    }
   ],
   "source": [
    "q2.hint()\n",
    "q2.solution()"
   ]
  },
  {
   "cell_type": "markdown",
   "id": "4f62ea3e",
   "metadata": {
    "papermill": {
     "duration": 0.032518,
     "end_time": "2022-03-15T08:29:11.698091",
     "exception": false,
     "start_time": "2022-03-15T08:29:11.665573",
     "status": "completed"
    },
    "tags": []
   },
   "source": [
    "# 3.\n",
    "\n",
    "Now the researcher wants to supply multiple keywords to search for. Complete the function below to help her.\n",
    "\n",
    "(You're encouraged to use the `word_search` function you just wrote when implementing this function. Reusing code in this way makes your programs more robust and readable - and it saves typing!)"
   ]
  },
  {
   "cell_type": "code",
   "execution_count": 11,
   "id": "627d5186",
   "metadata": {
    "execution": {
     "iopub.execute_input": "2022-03-15T08:29:11.768684Z",
     "iopub.status.busy": "2022-03-15T08:29:11.767980Z",
     "iopub.status.idle": "2022-03-15T08:29:11.776434Z",
     "shell.execute_reply": "2022-03-15T08:29:11.776937Z",
     "shell.execute_reply.started": "2022-03-15T08:28:39.780016Z"
    },
    "papermill": {
     "duration": 0.044522,
     "end_time": "2022-03-15T08:29:11.777101",
     "exception": false,
     "start_time": "2022-03-15T08:29:11.732579",
     "status": "completed"
    },
    "tags": []
   },
   "outputs": [
    {
     "data": {
      "application/javascript": [
       "parent.postMessage({\"jupyterEvent\": \"custom.exercise_interaction\", \"data\": {\"outcomeType\": 1, \"valueTowardsCompletion\": 0.3333333333333333, \"interactionType\": 1, \"questionType\": 2, \"questionId\": \"3_MultiWordSearch\", \"learnToolsVersion\": \"0.3.4\", \"failureMessage\": \"\", \"exceptionClass\": \"\", \"trace\": \"\"}}, \"*\")"
      ],
      "text/plain": [
       "<IPython.core.display.Javascript object>"
      ]
     },
     "metadata": {},
     "output_type": "display_data"
    },
    {
     "data": {
      "text/markdown": [
       "<span style=\"color:#33cc33\">Correct</span>"
      ],
      "text/plain": [
       "Correct"
      ]
     },
     "metadata": {},
     "output_type": "display_data"
    }
   ],
   "source": [
    "def multi_word_search(doc_list, keywords):\n",
    "    \"\"\"\n",
    "    Takes list of documents (each document is a string) and a list of keywords.  \n",
    "    Returns a dictionary where each key is a keyword, and the value is a list of indices\n",
    "    (from doc_list) of the documents containing that keyword\n",
    "\n",
    "    >>> doc_list = [\"The Learn Python Challenge Casino.\", \"They bought a car and a casino\", \"Casinoville\"]\n",
    "    >>> keywords = ['casino', 'they']\n",
    "    >>> multi_word_search(doc_list, keywords)\n",
    "    {'casino': [0, 1], 'they': [1]}\n",
    "    \"\"\"\n",
    "    indices_dict = {}\n",
    "    for keyword in keywords:    \n",
    "        indices = []\n",
    "        for i, ele in enumerate(doc_list):\n",
    "            tokens = ele.split()\n",
    "            normalized = [token.replace(',', '').replace('.', '').lower() for token in tokens]\n",
    "            \n",
    "            if keyword.lower() in normalized:\n",
    "                indices.append(i)\n",
    "                \n",
    "        indices_dict[keyword] = indices\n",
    "\n",
    "    return indices_dict\n",
    "\n",
    "# Check your answer\n",
    "q3.check()"
   ]
  },
  {
   "cell_type": "code",
   "execution_count": 12,
   "id": "168c4abc",
   "metadata": {
    "execution": {
     "iopub.execute_input": "2022-03-15T08:29:11.848712Z",
     "iopub.status.busy": "2022-03-15T08:29:11.848019Z",
     "iopub.status.idle": "2022-03-15T08:29:11.850916Z",
     "shell.execute_reply": "2022-03-15T08:29:11.851427Z"
    },
    "papermill": {
     "duration": 0.040435,
     "end_time": "2022-03-15T08:29:11.851598",
     "exception": false,
     "start_time": "2022-03-15T08:29:11.811163",
     "status": "completed"
    },
    "tags": []
   },
   "outputs": [],
   "source": [
    "#q3.solution()"
   ]
  },
  {
   "cell_type": "markdown",
   "id": "275e5c7c",
   "metadata": {
    "papermill": {
     "duration": 0.03419,
     "end_time": "2022-03-15T08:29:11.919826",
     "exception": false,
     "start_time": "2022-03-15T08:29:11.885636",
     "status": "completed"
    },
    "tags": []
   },
   "source": [
    "# Keep Going\n",
    "\n",
    "You've learned a lot. But even the best programmers rely heavily on \"libraries\" of code from other programmers. You'll learn about that in **[the last lesson](https://www.kaggle.com/colinmorris/working-with-external-libraries)**.\n"
   ]
  },
  {
   "cell_type": "markdown",
   "id": "e777ca20",
   "metadata": {
    "papermill": {
     "duration": 0.034069,
     "end_time": "2022-03-15T08:29:11.988329",
     "exception": false,
     "start_time": "2022-03-15T08:29:11.954260",
     "status": "completed"
    },
    "tags": []
   },
   "source": [
    "---\n",
    "\n",
    "\n",
    "\n",
    "\n",
    "*Have questions or comments? Visit the [course discussion forum](https://www.kaggle.com/learn/python/discussion) to chat with other learners.*"
   ]
  }
 ],
 "metadata": {
  "kernelspec": {
   "display_name": "Python 3",
   "language": "python",
   "name": "python3"
  },
  "language_info": {
   "codemirror_mode": {
    "name": "ipython",
    "version": 3
   },
   "file_extension": ".py",
   "mimetype": "text/x-python",
   "name": "python",
   "nbconvert_exporter": "python",
   "pygments_lexer": "ipython3",
   "version": "3.7.12"
  },
  "papermill": {
   "default_parameters": {},
   "duration": 11.492187,
   "end_time": "2022-03-15T08:29:12.632029",
   "environment_variables": {},
   "exception": null,
   "input_path": "__notebook__.ipynb",
   "output_path": "__notebook__.ipynb",
   "parameters": {},
   "start_time": "2022-03-15T08:29:01.139842",
   "version": "2.3.3"
  }
 },
 "nbformat": 4,
 "nbformat_minor": 5
}
