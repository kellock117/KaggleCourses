{
 "cells": [
  {
   "cell_type": "markdown",
   "id": "6fe0db63",
   "metadata": {
    "papermill": {
     "duration": 0.014592,
     "end_time": "2022-03-14T16:41:18.293262",
     "exception": false,
     "start_time": "2022-03-14T16:41:18.278670",
     "status": "completed"
    },
    "tags": []
   },
   "source": [
    "**This notebook is an exercise in the [Python](https://www.kaggle.com/learn/python) course.  You can reference the tutorial at [this link](https://www.kaggle.com/colinmorris/lists).**\n",
    "\n",
    "---\n"
   ]
  },
  {
   "cell_type": "markdown",
   "id": "a0cfb69b",
   "metadata": {
    "papermill": {
     "duration": 0.012265,
     "end_time": "2022-03-14T16:41:18.320481",
     "exception": false,
     "start_time": "2022-03-14T16:41:18.308216",
     "status": "completed"
    },
    "tags": []
   },
   "source": [
    "Things get more interesting with lists. You'll apply your new knowledge to solve the questions below. Remember to run the following cell first."
   ]
  },
  {
   "cell_type": "code",
   "execution_count": 1,
   "id": "11dd01bb",
   "metadata": {
    "execution": {
     "iopub.execute_input": "2022-03-14T16:41:18.349698Z",
     "iopub.status.busy": "2022-03-14T16:41:18.348672Z",
     "iopub.status.idle": "2022-03-14T16:41:18.399305Z",
     "shell.execute_reply": "2022-03-14T16:41:18.400090Z",
     "shell.execute_reply.started": "2022-03-14T16:17:06.959548Z"
    },
    "papermill": {
     "duration": 0.067587,
     "end_time": "2022-03-14T16:41:18.400485",
     "exception": false,
     "start_time": "2022-03-14T16:41:18.332898",
     "status": "completed"
    },
    "tags": []
   },
   "outputs": [
    {
     "name": "stdout",
     "output_type": "stream",
     "text": [
      "Setup complete.\n"
     ]
    }
   ],
   "source": [
    "from learntools.core import binder; binder.bind(globals())\n",
    "from learntools.python.ex4 import *\n",
    "print('Setup complete.')"
   ]
  },
  {
   "cell_type": "markdown",
   "id": "37f6172e",
   "metadata": {
    "papermill": {
     "duration": 0.016261,
     "end_time": "2022-03-14T16:41:18.437989",
     "exception": false,
     "start_time": "2022-03-14T16:41:18.421728",
     "status": "completed"
    },
    "tags": []
   },
   "source": [
    "# 1.\n",
    "\n",
    "Complete the function below according to its docstring."
   ]
  },
  {
   "cell_type": "code",
   "execution_count": 2,
   "id": "6acc6f21",
   "metadata": {
    "execution": {
     "iopub.execute_input": "2022-03-14T16:41:18.470432Z",
     "iopub.status.busy": "2022-03-14T16:41:18.469446Z",
     "iopub.status.idle": "2022-03-14T16:41:18.479422Z",
     "shell.execute_reply": "2022-03-14T16:41:18.479918Z",
     "shell.execute_reply.started": "2022-03-14T16:20:08.868154Z"
    },
    "papermill": {
     "duration": 0.028875,
     "end_time": "2022-03-14T16:41:18.480077",
     "exception": false,
     "start_time": "2022-03-14T16:41:18.451202",
     "status": "completed"
    },
    "tags": []
   },
   "outputs": [
    {
     "data": {
      "application/javascript": [
       "parent.postMessage({\"jupyterEvent\": \"custom.exercise_interaction\", \"data\": {\"outcomeType\": 1, \"valueTowardsCompletion\": 0.2, \"interactionType\": 1, \"questionType\": 2, \"questionId\": \"1_SelectSecondItem\", \"learnToolsVersion\": \"0.3.4\", \"failureMessage\": \"\", \"exceptionClass\": \"\", \"trace\": \"\"}}, \"*\")"
      ],
      "text/plain": [
       "<IPython.core.display.Javascript object>"
      ]
     },
     "metadata": {},
     "output_type": "display_data"
    },
    {
     "data": {
      "text/markdown": [
       "<span style=\"color:#33cc33\">Correct</span>"
      ],
      "text/plain": [
       "Correct"
      ]
     },
     "metadata": {},
     "output_type": "display_data"
    }
   ],
   "source": [
    "def select_second(L):\n",
    "    \"\"\"Return the second element of the given list. If the list has no second\n",
    "    element, return None.\n",
    "    \"\"\"\n",
    "    return L[1] if len(L) > 1 else None\n",
    "\n",
    "# Check your answer\n",
    "q1.check()"
   ]
  },
  {
   "cell_type": "code",
   "execution_count": 3,
   "id": "b1d27f00",
   "metadata": {
    "execution": {
     "iopub.execute_input": "2022-03-14T16:41:18.511525Z",
     "iopub.status.busy": "2022-03-14T16:41:18.510608Z",
     "iopub.status.idle": "2022-03-14T16:41:18.517111Z",
     "shell.execute_reply": "2022-03-14T16:41:18.517681Z",
     "shell.execute_reply.started": "2022-03-14T16:20:20.540274Z"
    },
    "papermill": {
     "duration": 0.023801,
     "end_time": "2022-03-14T16:41:18.517847",
     "exception": false,
     "start_time": "2022-03-14T16:41:18.494046",
     "status": "completed"
    },
    "tags": []
   },
   "outputs": [
    {
     "data": {
      "application/javascript": [
       "parent.postMessage({\"jupyterEvent\": \"custom.exercise_interaction\", \"data\": {\"interactionType\": 3, \"questionType\": 2, \"questionId\": \"1_SelectSecondItem\", \"learnToolsVersion\": \"0.3.4\", \"valueTowardsCompletion\": 0.0, \"failureMessage\": \"\", \"exceptionClass\": \"\", \"trace\": \"\", \"outcomeType\": 4}}, \"*\")"
      ],
      "text/plain": [
       "<IPython.core.display.Javascript object>"
      ]
     },
     "metadata": {},
     "output_type": "display_data"
    },
    {
     "data": {
      "text/markdown": [
       "<span style=\"color:#33cc99\">Solution:</span> \n",
       "```python\n",
       "def select_second(L):\n",
       "    if len(L) < 2:\n",
       "        return None\n",
       "    return L[1]\n",
       "```"
      ],
      "text/plain": [
       "Solution: \n",
       "```python\n",
       "def select_second(L):\n",
       "    if len(L) < 2:\n",
       "        return None\n",
       "    return L[1]\n",
       "```"
      ]
     },
     "metadata": {},
     "output_type": "display_data"
    }
   ],
   "source": [
    "#q1.hint()\n",
    "q1.solution()"
   ]
  },
  {
   "cell_type": "markdown",
   "id": "53963ebe",
   "metadata": {
    "papermill": {
     "duration": 0.014366,
     "end_time": "2022-03-14T16:41:18.546929",
     "exception": false,
     "start_time": "2022-03-14T16:41:18.532563",
     "status": "completed"
    },
    "tags": []
   },
   "source": [
    "# 2.\n",
    "\n",
    "You are analyzing sports teams.  Members of each team are stored in a list. The Coach is the first name in the list, the captain is the second name in the list, and other players are listed after that. \n",
    "These lists are stored in another list, which starts with the best team and proceeds through the list to the worst team last.  Complete the function below to select the **captain** of the worst team."
   ]
  },
  {
   "cell_type": "code",
   "execution_count": 4,
   "id": "7a2ccf7e",
   "metadata": {
    "execution": {
     "iopub.execute_input": "2022-03-14T16:41:18.579690Z",
     "iopub.status.busy": "2022-03-14T16:41:18.579083Z",
     "iopub.status.idle": "2022-03-14T16:41:18.585109Z",
     "shell.execute_reply": "2022-03-14T16:41:18.585635Z",
     "shell.execute_reply.started": "2022-03-14T16:21:45.599346Z"
    },
    "papermill": {
     "duration": 0.024035,
     "end_time": "2022-03-14T16:41:18.585805",
     "exception": false,
     "start_time": "2022-03-14T16:41:18.561770",
     "status": "completed"
    },
    "tags": []
   },
   "outputs": [
    {
     "data": {
      "application/javascript": [
       "parent.postMessage({\"jupyterEvent\": \"custom.exercise_interaction\", \"data\": {\"outcomeType\": 1, \"valueTowardsCompletion\": 0.2, \"interactionType\": 1, \"questionType\": 2, \"questionId\": \"2_LosingTeamCaptain\", \"learnToolsVersion\": \"0.3.4\", \"failureMessage\": \"\", \"exceptionClass\": \"\", \"trace\": \"\"}}, \"*\")"
      ],
      "text/plain": [
       "<IPython.core.display.Javascript object>"
      ]
     },
     "metadata": {},
     "output_type": "display_data"
    },
    {
     "data": {
      "text/markdown": [
       "<span style=\"color:#33cc33\">Correct</span>"
      ],
      "text/plain": [
       "Correct"
      ]
     },
     "metadata": {},
     "output_type": "display_data"
    }
   ],
   "source": [
    "def losing_team_captain(teams):\n",
    "    \"\"\"Given a list of teams, where each team is a list of names, return the 2nd player (captain)\n",
    "    from the last listed team\n",
    "    \"\"\"\n",
    "    return teams[-1][1]\n",
    "\n",
    "# Check your answer\n",
    "q2.check()"
   ]
  },
  {
   "cell_type": "code",
   "execution_count": 5,
   "id": "8ee81e06",
   "metadata": {
    "collapsed": true,
    "execution": {
     "iopub.execute_input": "2022-03-14T16:41:18.620147Z",
     "iopub.status.busy": "2022-03-14T16:41:18.619536Z",
     "iopub.status.idle": "2022-03-14T16:41:18.622019Z",
     "shell.execute_reply": "2022-03-14T16:41:18.622554Z"
    },
    "jupyter": {
     "outputs_hidden": true
    },
    "papermill": {
     "duration": 0.021026,
     "end_time": "2022-03-14T16:41:18.622704",
     "exception": false,
     "start_time": "2022-03-14T16:41:18.601678",
     "status": "completed"
    },
    "tags": []
   },
   "outputs": [],
   "source": [
    "#q2.hint()\n",
    "#q2.solution()"
   ]
  },
  {
   "cell_type": "markdown",
   "id": "4c005815",
   "metadata": {
    "papermill": {
     "duration": 0.015773,
     "end_time": "2022-03-14T16:41:18.656629",
     "exception": false,
     "start_time": "2022-03-14T16:41:18.640856",
     "status": "completed"
    },
    "tags": []
   },
   "source": [
    "# 3.\n",
    "\n",
    "The next iteration of Mario Kart will feature an extra-infuriating new item, the *Purple Shell*. When used, it warps the last place racer into first place and the first place racer into last place. Complete the function below to implement the Purple Shell's effect."
   ]
  },
  {
   "cell_type": "code",
   "execution_count": 6,
   "id": "28464669",
   "metadata": {
    "execution": {
     "iopub.execute_input": "2022-03-14T16:41:18.691174Z",
     "iopub.status.busy": "2022-03-14T16:41:18.690583Z",
     "iopub.status.idle": "2022-03-14T16:41:18.696692Z",
     "shell.execute_reply": "2022-03-14T16:41:18.697144Z",
     "shell.execute_reply.started": "2022-03-14T16:24:16.990196Z"
    },
    "papermill": {
     "duration": 0.024799,
     "end_time": "2022-03-14T16:41:18.697296",
     "exception": false,
     "start_time": "2022-03-14T16:41:18.672497",
     "status": "completed"
    },
    "tags": []
   },
   "outputs": [
    {
     "data": {
      "application/javascript": [
       "parent.postMessage({\"jupyterEvent\": \"custom.exercise_interaction\", \"data\": {\"outcomeType\": 1, \"valueTowardsCompletion\": 0.2, \"interactionType\": 1, \"questionType\": 2, \"questionId\": \"3_PurpleShell\", \"learnToolsVersion\": \"0.3.4\", \"failureMessage\": \"\", \"exceptionClass\": \"\", \"trace\": \"\"}}, \"*\")"
      ],
      "text/plain": [
       "<IPython.core.display.Javascript object>"
      ]
     },
     "metadata": {},
     "output_type": "display_data"
    },
    {
     "data": {
      "text/markdown": [
       "<span style=\"color:#33cc33\">Correct</span>"
      ],
      "text/plain": [
       "Correct"
      ]
     },
     "metadata": {},
     "output_type": "display_data"
    }
   ],
   "source": [
    "def purple_shell(racers):\n",
    "    \"\"\"Given a list of racers, set the first place racer (at the front of the list) to last\n",
    "    place and vice versa.\n",
    "    \n",
    "    >>> r = [\"Mario\", \"Bowser\", \"Luigi\"]\n",
    "    >>> purple_shell(r)\n",
    "    >>> r\n",
    "    [\"Luigi\", \"Bowser\", \"Mario\"]\n",
    "    \"\"\"\n",
    "    racers[0], racers[-1] = racers[-1], racers[0]\n",
    "\n",
    "\n",
    "# Check your answer\n",
    "q3.check()"
   ]
  },
  {
   "cell_type": "code",
   "execution_count": 7,
   "id": "7ba17d14",
   "metadata": {
    "collapsed": true,
    "execution": {
     "iopub.execute_input": "2022-03-14T16:41:18.734124Z",
     "iopub.status.busy": "2022-03-14T16:41:18.732784Z",
     "iopub.status.idle": "2022-03-14T16:41:18.736711Z",
     "shell.execute_reply": "2022-03-14T16:41:18.736239Z"
    },
    "jupyter": {
     "outputs_hidden": true
    },
    "papermill": {
     "duration": 0.022859,
     "end_time": "2022-03-14T16:41:18.736853",
     "exception": false,
     "start_time": "2022-03-14T16:41:18.713994",
     "status": "completed"
    },
    "tags": []
   },
   "outputs": [],
   "source": [
    "#q3.hint()\n",
    "#q3.solution()"
   ]
  },
  {
   "cell_type": "markdown",
   "id": "ddde4699",
   "metadata": {
    "papermill": {
     "duration": 0.016465,
     "end_time": "2022-03-14T16:41:18.770186",
     "exception": false,
     "start_time": "2022-03-14T16:41:18.753721",
     "status": "completed"
    },
    "tags": []
   },
   "source": [
    "# 4.\n",
    "\n",
    "What are the lengths of the following lists? Fill in the variable `lengths` with your predictions. (Try to make a prediction for each list *without* just calling `len()` on it.)"
   ]
  },
  {
   "cell_type": "code",
   "execution_count": 8,
   "id": "c47cd6c6",
   "metadata": {
    "execution": {
     "iopub.execute_input": "2022-03-14T16:41:18.809405Z",
     "iopub.status.busy": "2022-03-14T16:41:18.808824Z",
     "iopub.status.idle": "2022-03-14T16:41:18.813888Z",
     "shell.execute_reply": "2022-03-14T16:41:18.813408Z",
     "shell.execute_reply.started": "2022-03-14T16:26:05.779893Z"
    },
    "papermill": {
     "duration": 0.027139,
     "end_time": "2022-03-14T16:41:18.814017",
     "exception": false,
     "start_time": "2022-03-14T16:41:18.786878",
     "status": "completed"
    },
    "tags": []
   },
   "outputs": [
    {
     "data": {
      "application/javascript": [
       "parent.postMessage({\"jupyterEvent\": \"custom.exercise_interaction\", \"data\": {\"outcomeType\": 1, \"valueTowardsCompletion\": 0.2, \"interactionType\": 1, \"questionType\": 1, \"questionId\": \"4_UnderstandLen\", \"learnToolsVersion\": \"0.3.4\", \"failureMessage\": \"\", \"exceptionClass\": \"\", \"trace\": \"\"}}, \"*\")"
      ],
      "text/plain": [
       "<IPython.core.display.Javascript object>"
      ]
     },
     "metadata": {},
     "output_type": "display_data"
    },
    {
     "data": {
      "text/markdown": [
       "<span style=\"color:#33cc33\">Correct:</span> \n",
       "\n",
       "\n",
       "- a: There are three items in this list. Nothing tricky yet.\n",
       "- b: The list `[2, 3]` counts as a single item. It has one item before it. So we have 2 items in the list\n",
       "- c: The empty list has 0 items\n",
       "- d: The expression is the same as the list `[2, 3]`, which has length 2."
      ],
      "text/plain": [
       "Correct: \n",
       "\n",
       "\n",
       "- a: There are three items in this list. Nothing tricky yet.\n",
       "- b: The list `[2, 3]` counts as a single item. It has one item before it. So we have 2 items in the list\n",
       "- c: The empty list has 0 items\n",
       "- d: The expression is the same as the list `[2, 3]`, which has length 2."
      ]
     },
     "metadata": {},
     "output_type": "display_data"
    }
   ],
   "source": [
    "a = [1, 2, 3]\n",
    "b = [1, [2, 3]]\n",
    "c = []\n",
    "d = [1, 2, 3][1:]\n",
    "\n",
    "# Put your predictions in the list below. Lengths should contain 4 numbers, the\n",
    "# first being the length of a, the second being the length of b and so on.\n",
    "lengths = [3, 2, 0, 2]\n",
    "\n",
    "# Check your answer\n",
    "q4.check()"
   ]
  },
  {
   "cell_type": "code",
   "execution_count": 9,
   "id": "5cfd8760",
   "metadata": {
    "execution": {
     "iopub.execute_input": "2022-03-14T16:41:18.853861Z",
     "iopub.status.busy": "2022-03-14T16:41:18.853249Z",
     "iopub.status.idle": "2022-03-14T16:41:18.857634Z",
     "shell.execute_reply": "2022-03-14T16:41:18.857202Z",
     "shell.execute_reply.started": "2022-03-14T16:25:42.180133Z"
    },
    "papermill": {
     "duration": 0.026159,
     "end_time": "2022-03-14T16:41:18.857770",
     "exception": false,
     "start_time": "2022-03-14T16:41:18.831611",
     "status": "completed"
    },
    "tags": []
   },
   "outputs": [
    {
     "data": {
      "application/javascript": [
       "parent.postMessage({\"jupyterEvent\": \"custom.exercise_interaction\", \"data\": {\"interactionType\": 3, \"questionType\": 1, \"questionId\": \"4_UnderstandLen\", \"learnToolsVersion\": \"0.3.4\", \"valueTowardsCompletion\": 0.0, \"failureMessage\": \"\", \"exceptionClass\": \"\", \"trace\": \"\", \"outcomeType\": 4}}, \"*\")"
      ],
      "text/plain": [
       "<IPython.core.display.Javascript object>"
      ]
     },
     "metadata": {},
     "output_type": "display_data"
    },
    {
     "data": {
      "text/markdown": [
       "<span style=\"color:#33cc99\">Solution:</span> \n",
       "- a: There are three items in this list. Nothing tricky yet.\n",
       "- b: The list `[2, 3]` counts as a single item. It has one item before it. So we have 2 items in the list\n",
       "- c: The empty list has 0 items\n",
       "- d: The expression is the same as the list `[2, 3]`, which has length 2."
      ],
      "text/plain": [
       "Solution: \n",
       "- a: There are three items in this list. Nothing tricky yet.\n",
       "- b: The list `[2, 3]` counts as a single item. It has one item before it. So we have 2 items in the list\n",
       "- c: The empty list has 0 items\n",
       "- d: The expression is the same as the list `[2, 3]`, which has length 2."
      ]
     },
     "metadata": {},
     "output_type": "display_data"
    }
   ],
   "source": [
    "# line below provides some explanation\n",
    "q4.solution()"
   ]
  },
  {
   "cell_type": "markdown",
   "id": "281423eb",
   "metadata": {
    "papermill": {
     "duration": 0.01833,
     "end_time": "2022-03-14T16:41:18.894593",
     "exception": false,
     "start_time": "2022-03-14T16:41:18.876263",
     "status": "completed"
    },
    "tags": []
   },
   "source": [
    "# 5. <span title=\"A bit spicy\" style=\"color: darkgreen \">🌶️</span>\n",
    "\n",
    "We're using lists to record people who attended our party and what order they arrived in. For example, the following list represents a party with 7 guests, in which Adela showed up first and Ford was the last to arrive:\n",
    "\n",
    "    party_attendees = ['Adela', 'Fleda', 'Owen', 'May', 'Mona', 'Gilbert', 'Ford']\n",
    "\n",
    "A guest is considered 'fashionably late' if they arrived after at least half of the party's guests. However, they must not be the very last guest (that's taking it too far). In the above example, Mona and Gilbert are the only guests who were fashionably late.\n",
    "\n",
    "Complete the function below which takes a list of party attendees as well as a person, and tells us whether that person is fashionably late."
   ]
  },
  {
   "cell_type": "code",
   "execution_count": 10,
   "id": "05535971",
   "metadata": {
    "execution": {
     "iopub.execute_input": "2022-03-14T16:41:18.938494Z",
     "iopub.status.busy": "2022-03-14T16:41:18.937850Z",
     "iopub.status.idle": "2022-03-14T16:41:18.942774Z",
     "shell.execute_reply": "2022-03-14T16:41:18.943175Z",
     "shell.execute_reply.started": "2022-03-14T16:40:24.935121Z"
    },
    "papermill": {
     "duration": 0.029391,
     "end_time": "2022-03-14T16:41:18.943332",
     "exception": false,
     "start_time": "2022-03-14T16:41:18.913941",
     "status": "completed"
    },
    "tags": []
   },
   "outputs": [
    {
     "data": {
      "application/javascript": [
       "parent.postMessage({\"jupyterEvent\": \"custom.exercise_interaction\", \"data\": {\"outcomeType\": 1, \"valueTowardsCompletion\": 0.2, \"interactionType\": 1, \"questionType\": 2, \"questionId\": \"5_FashionablyLate\", \"learnToolsVersion\": \"0.3.4\", \"failureMessage\": \"\", \"exceptionClass\": \"\", \"trace\": \"\"}}, \"*\")"
      ],
      "text/plain": [
       "<IPython.core.display.Javascript object>"
      ]
     },
     "metadata": {},
     "output_type": "display_data"
    },
    {
     "data": {
      "text/markdown": [
       "<span style=\"color:#33cc33\">Correct</span>"
      ],
      "text/plain": [
       "Correct"
      ]
     },
     "metadata": {},
     "output_type": "display_data"
    }
   ],
   "source": [
    "def fashionably_late(arrivals, name):\n",
    "    \"\"\"Given an ordered list of arrivals to the party and a name, return whether the guest with that\n",
    "    name was fashionably late.\n",
    "    \"\"\"\n",
    "    index = round(len(arrivals) / 2)\n",
    "    \n",
    "    return name in arrivals[index:-1]\n",
    "\n",
    "# Check your answer\n",
    "q5.check()"
   ]
  },
  {
   "cell_type": "code",
   "execution_count": 11,
   "id": "cce539b4",
   "metadata": {
    "execution": {
     "iopub.execute_input": "2022-03-14T16:41:18.988246Z",
     "iopub.status.busy": "2022-03-14T16:41:18.987699Z",
     "iopub.status.idle": "2022-03-14T16:41:18.993645Z",
     "shell.execute_reply": "2022-03-14T16:41:18.993131Z",
     "shell.execute_reply.started": "2022-03-14T16:40:33.052412Z"
    },
    "papermill": {
     "duration": 0.030289,
     "end_time": "2022-03-14T16:41:18.993793",
     "exception": false,
     "start_time": "2022-03-14T16:41:18.963504",
     "status": "completed"
    },
    "tags": []
   },
   "outputs": [
    {
     "data": {
      "application/javascript": [
       "parent.postMessage({\"jupyterEvent\": \"custom.exercise_interaction\", \"data\": {\"interactionType\": 3, \"questionType\": 2, \"questionId\": \"5_FashionablyLate\", \"learnToolsVersion\": \"0.3.4\", \"valueTowardsCompletion\": 0.0, \"failureMessage\": \"\", \"exceptionClass\": \"\", \"trace\": \"\", \"outcomeType\": 4}}, \"*\")"
      ],
      "text/plain": [
       "<IPython.core.display.Javascript object>"
      ]
     },
     "metadata": {},
     "output_type": "display_data"
    },
    {
     "data": {
      "text/markdown": [
       "<span style=\"color:#33cc99\">Solution:</span> \n",
       "```python\n",
       "def fashionably_late(arrivals, name):\n",
       "    order = arrivals.index(name)\n",
       "    return order >= len(arrivals) / 2 and order != len(arrivals) - 1\n",
       "```"
      ],
      "text/plain": [
       "Solution: \n",
       "```python\n",
       "def fashionably_late(arrivals, name):\n",
       "    order = arrivals.index(name)\n",
       "    return order >= len(arrivals) / 2 and order != len(arrivals) - 1\n",
       "```"
      ]
     },
     "metadata": {},
     "output_type": "display_data"
    }
   ],
   "source": [
    "#q5.hint()\n",
    "q5.solution()"
   ]
  },
  {
   "cell_type": "markdown",
   "id": "bd778dc2",
   "metadata": {
    "papermill": {
     "duration": 0.020796,
     "end_time": "2022-03-14T16:41:19.036042",
     "exception": false,
     "start_time": "2022-03-14T16:41:19.015246",
     "status": "completed"
    },
    "tags": []
   },
   "source": [
    "# Keep Going\n",
    "\n",
    "That's it for lists and tuples! Now you have the baseline knowledge to **[learn about loops](https://www.kaggle.com/colinmorris/loops-and-list-comprehensions)**, which is where lists and tuples get really interesting. "
   ]
  },
  {
   "cell_type": "markdown",
   "id": "9a0c58d7",
   "metadata": {
    "papermill": {
     "duration": 0.020255,
     "end_time": "2022-03-14T16:41:19.076968",
     "exception": false,
     "start_time": "2022-03-14T16:41:19.056713",
     "status": "completed"
    },
    "tags": []
   },
   "source": [
    "---\n",
    "\n",
    "\n",
    "\n",
    "\n",
    "*Have questions or comments? Visit the [course discussion forum](https://www.kaggle.com/learn/python/discussion) to chat with other learners.*"
   ]
  }
 ],
 "metadata": {
  "kernelspec": {
   "display_name": "Python 3",
   "language": "python",
   "name": "python3"
  },
  "language_info": {
   "codemirror_mode": {
    "name": "ipython",
    "version": 3
   },
   "file_extension": ".py",
   "mimetype": "text/x-python",
   "name": "python",
   "nbconvert_exporter": "python",
   "pygments_lexer": "ipython3",
   "version": "3.7.12"
  },
  "papermill": {
   "default_parameters": {},
   "duration": 9.977204,
   "end_time": "2022-03-14T16:41:19.706987",
   "environment_variables": {},
   "exception": null,
   "input_path": "__notebook__.ipynb",
   "output_path": "__notebook__.ipynb",
   "parameters": {},
   "start_time": "2022-03-14T16:41:09.729783",
   "version": "2.3.3"
  }
 },
 "nbformat": 4,
 "nbformat_minor": 5
}
