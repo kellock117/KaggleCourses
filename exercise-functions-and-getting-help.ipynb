{
 "cells": [
  {
   "cell_type": "markdown",
   "id": "a396fad2",
   "metadata": {
    "papermill": {
     "duration": 0.017848,
     "end_time": "2022-03-14T12:44:33.813427",
     "exception": false,
     "start_time": "2022-03-14T12:44:33.795579",
     "status": "completed"
    },
    "tags": []
   },
   "source": [
    "**This notebook is an exercise in the [Python](https://www.kaggle.com/learn/python) course.  You can reference the tutorial at [this link](https://www.kaggle.com/colinmorris/functions-and-getting-help).**\n",
    "\n",
    "---\n"
   ]
  },
  {
   "cell_type": "markdown",
   "id": "69321748",
   "metadata": {
    "papermill": {
     "duration": 0.016245,
     "end_time": "2022-03-14T12:44:33.847004",
     "exception": false,
     "start_time": "2022-03-14T12:44:33.830759",
     "status": "completed"
    },
    "tags": []
   },
   "source": [
    "Functions are powerful. Try writing some yourself.\n",
    "\n",
    "As before, don't forget to run the setup code below before jumping into question 1."
   ]
  },
  {
   "cell_type": "code",
   "execution_count": 1,
   "id": "b629a267",
   "metadata": {
    "_kg_hide-input": true,
    "_kg_hide-output": true,
    "execution": {
     "iopub.execute_input": "2022-03-14T12:44:33.889704Z",
     "iopub.status.busy": "2022-03-14T12:44:33.889072Z",
     "iopub.status.idle": "2022-03-14T12:44:34.006391Z",
     "shell.execute_reply": "2022-03-14T12:44:34.007030Z",
     "shell.execute_reply.started": "2022-03-14T12:23:34.357535Z"
    },
    "papermill": {
     "duration": 0.143648,
     "end_time": "2022-03-14T12:44:34.007338",
     "exception": false,
     "start_time": "2022-03-14T12:44:33.863690",
     "status": "completed"
    },
    "tags": []
   },
   "outputs": [
    {
     "name": "stdout",
     "output_type": "stream",
     "text": [
      "Setup complete.\n"
     ]
    }
   ],
   "source": [
    "# SETUP. You don't need to worry for now about what this code does or how it works.\n",
    "from learntools.core import binder; binder.bind(globals())\n",
    "from learntools.python.ex2 import *\n",
    "print('Setup complete.')"
   ]
  },
  {
   "cell_type": "markdown",
   "id": "9394ff95",
   "metadata": {
    "papermill": {
     "duration": 0.021147,
     "end_time": "2022-03-14T12:44:34.048814",
     "exception": false,
     "start_time": "2022-03-14T12:44:34.027667",
     "status": "completed"
    },
    "tags": []
   },
   "source": [
    "# 1.\n",
    "\n",
    "Complete the body of the following function according to its docstring.\n",
    "\n",
    "HINT: Python has a built-in function `round`."
   ]
  },
  {
   "cell_type": "code",
   "execution_count": 2,
   "id": "0c444e20",
   "metadata": {
    "execution": {
     "iopub.execute_input": "2022-03-14T12:44:34.095032Z",
     "iopub.status.busy": "2022-03-14T12:44:34.091778Z",
     "iopub.status.idle": "2022-03-14T12:44:34.107613Z",
     "shell.execute_reply": "2022-03-14T12:44:34.108178Z",
     "shell.execute_reply.started": "2022-03-14T12:27:52.979664Z"
    },
    "papermill": {
     "duration": 0.039919,
     "end_time": "2022-03-14T12:44:34.108351",
     "exception": false,
     "start_time": "2022-03-14T12:44:34.068432",
     "status": "completed"
    },
    "tags": []
   },
   "outputs": [
    {
     "data": {
      "application/javascript": [
       "parent.postMessage({\"jupyterEvent\": \"custom.exercise_interaction\", \"data\": {\"outcomeType\": 1, \"valueTowardsCompletion\": 0.16666666666666666, \"interactionType\": 1, \"questionType\": 2, \"questionId\": \"1_RoundFunctionProblem\", \"learnToolsVersion\": \"0.3.4\", \"failureMessage\": \"\", \"exceptionClass\": \"\", \"trace\": \"\"}}, \"*\")"
      ],
      "text/plain": [
       "<IPython.core.display.Javascript object>"
      ]
     },
     "metadata": {},
     "output_type": "display_data"
    },
    {
     "data": {
      "text/markdown": [
       "<span style=\"color:#33cc33\">Correct</span>"
      ],
      "text/plain": [
       "Correct"
      ]
     },
     "metadata": {},
     "output_type": "display_data"
    }
   ],
   "source": [
    "def round_to_two_places(num):\n",
    "    \"\"\"Return the given number rounded to two decimal places. \n",
    "    \n",
    "    >>> round_to_two_places(3.14159)\n",
    "    3.14\n",
    "    \"\"\"\n",
    "    # Replace this body with your own code.\n",
    "    # (\"pass\" is a keyword that does literally nothing. We used it as a placeholder\n",
    "    # because after we begin a code block, Python requires at least one line of code)\n",
    "    return round(num, 2)\n",
    "\n",
    "# Check your answer\n",
    "q1.check()"
   ]
  },
  {
   "cell_type": "code",
   "execution_count": 3,
   "id": "4b471654",
   "metadata": {
    "execution": {
     "iopub.execute_input": "2022-03-14T12:44:34.150339Z",
     "iopub.status.busy": "2022-03-14T12:44:34.149354Z",
     "iopub.status.idle": "2022-03-14T12:44:34.152993Z",
     "shell.execute_reply": "2022-03-14T12:44:34.153462Z"
    },
    "papermill": {
     "duration": 0.025771,
     "end_time": "2022-03-14T12:44:34.153661",
     "exception": false,
     "start_time": "2022-03-14T12:44:34.127890",
     "status": "completed"
    },
    "tags": []
   },
   "outputs": [],
   "source": [
    "# Uncomment the following for a hint\n",
    "#q1.hint()\n",
    "# Or uncomment the following to peek at the solution\n",
    "#q1.solution()"
   ]
  },
  {
   "cell_type": "markdown",
   "id": "c4e5fbc0",
   "metadata": {
    "papermill": {
     "duration": 0.022165,
     "end_time": "2022-03-14T12:44:34.197013",
     "exception": false,
     "start_time": "2022-03-14T12:44:34.174848",
     "status": "completed"
    },
    "tags": []
   },
   "source": [
    "# 2.\n",
    "The help for `round` says that `ndigits` (the second argument) may be negative.\n",
    "What do you think will happen when it is? Try some examples in the following cell."
   ]
  },
  {
   "cell_type": "code",
   "execution_count": 4,
   "id": "00241306",
   "metadata": {
    "execution": {
     "iopub.execute_input": "2022-03-14T12:44:34.246895Z",
     "iopub.status.busy": "2022-03-14T12:44:34.245717Z",
     "iopub.status.idle": "2022-03-14T12:44:34.250320Z",
     "shell.execute_reply": "2022-03-14T12:44:34.250951Z",
     "shell.execute_reply.started": "2022-03-14T12:29:44.047109Z"
    },
    "papermill": {
     "duration": 0.029982,
     "end_time": "2022-03-14T12:44:34.251177",
     "exception": false,
     "start_time": "2022-03-14T12:44:34.221195",
     "status": "completed"
    },
    "tags": []
   },
   "outputs": [
    {
     "name": "stdout",
     "output_type": "stream",
     "text": [
      "0.0\n"
     ]
    },
    {
     "data": {
      "text/plain": [
       "0.0"
      ]
     },
     "execution_count": 4,
     "metadata": {},
     "output_type": "execute_result"
    }
   ],
   "source": [
    "# Put your test code here\n",
    "print(round(3.14159, -1))\n",
    "round(3.14159, -2)"
   ]
  },
  {
   "cell_type": "markdown",
   "id": "e1ba2c5d",
   "metadata": {
    "papermill": {
     "duration": 0.020293,
     "end_time": "2022-03-14T12:44:34.292383",
     "exception": false,
     "start_time": "2022-03-14T12:44:34.272090",
     "status": "completed"
    },
    "tags": []
   },
   "source": [
    "Can you think of a case where this would be useful?  Once you're ready, run the code cell below to see the answer and to receive credit for completing the problem."
   ]
  },
  {
   "cell_type": "code",
   "execution_count": 5,
   "id": "0c353d4d",
   "metadata": {
    "execution": {
     "iopub.execute_input": "2022-03-14T12:44:34.342956Z",
     "iopub.status.busy": "2022-03-14T12:44:34.342122Z",
     "iopub.status.idle": "2022-03-14T12:44:34.347142Z",
     "shell.execute_reply": "2022-03-14T12:44:34.346527Z",
     "shell.execute_reply.started": "2022-03-14T12:28:59.508334Z"
    },
    "papermill": {
     "duration": 0.034466,
     "end_time": "2022-03-14T12:44:34.347320",
     "exception": false,
     "start_time": "2022-03-14T12:44:34.312854",
     "status": "completed"
    },
    "tags": []
   },
   "outputs": [
    {
     "data": {
      "application/javascript": [
       "parent.postMessage({\"jupyterEvent\": \"custom.exercise_interaction\", \"data\": {\"interactionType\": 3, \"questionType\": 4, \"questionId\": \"2_RoundNdigitsProblem\", \"learnToolsVersion\": \"0.3.4\", \"valueTowardsCompletion\": 0.0, \"failureMessage\": \"\", \"exceptionClass\": \"\", \"trace\": \"\", \"outcomeType\": 4}}, \"*\")"
      ],
      "text/plain": [
       "<IPython.core.display.Javascript object>"
      ]
     },
     "metadata": {},
     "output_type": "display_data"
    },
    {
     "data": {
      "text/markdown": [
       "<span style=\"color:#33cc99\">Solution:</span> As you've seen, `ndigits=-1` rounds to the nearest 10, `ndigits=-2` rounds to the nearest 100 and so on. Where might this be useful? Suppose we're dealing with large numbers:\n",
       "\n",
       "> The area of Finland is 338,424 km²  \n",
       "> The area of Greenland is 2,166,086 km²\n",
       "\n",
       "We probably don't care whether it's really 338,424, or 338,425, or 338,177. All those digits of accuracy are just distracting. We can chop them off by calling `round()` with `ndigits=-3`:\n",
       "\n",
       "> The area of Finland is 338,000 km²  \n",
       "> The area of Greenland is 2,166,000 km²\n",
       "\n",
       "(We'll talk about how we would get the commas later when we talk about string formatting :))\n"
      ],
      "text/plain": [
       "Solution: As you've seen, `ndigits=-1` rounds to the nearest 10, `ndigits=-2` rounds to the nearest 100 and so on. Where might this be useful? Suppose we're dealing with large numbers:\n",
       "\n",
       "> The area of Finland is 338,424 km²  \n",
       "> The area of Greenland is 2,166,086 km²\n",
       "\n",
       "We probably don't care whether it's really 338,424, or 338,425, or 338,177. All those digits of accuracy are just distracting. We can chop them off by calling `round()` with `ndigits=-3`:\n",
       "\n",
       "> The area of Finland is 338,000 km²  \n",
       "> The area of Greenland is 2,166,000 km²\n",
       "\n",
       "(We'll talk about how we would get the commas later when we talk about string formatting :))"
      ]
     },
     "metadata": {},
     "output_type": "display_data"
    }
   ],
   "source": [
    "# Check your answer (Run this code cell to receive credit!)\n",
    "q2.solution()"
   ]
  },
  {
   "cell_type": "markdown",
   "id": "f30ad22d",
   "metadata": {
    "papermill": {
     "duration": 0.025727,
     "end_time": "2022-03-14T12:44:34.401440",
     "exception": false,
     "start_time": "2022-03-14T12:44:34.375713",
     "status": "completed"
    },
    "tags": []
   },
   "source": [
    "# 3.\n",
    "\n",
    "In the previous exercise, the candy-sharing friends Alice, Bob and Carol tried to split candies evenly. For the sake of their friendship, any candies left over would be smashed. For example, if they collectively bring home 91 candies, they'll take 30 each and smash 1.\n",
    "\n",
    "Below is a simple function that will calculate the number of candies to smash for *any* number of total candies.\n",
    "\n",
    "Modify it so that it optionally takes a second argument representing the number of friends the candies are being split between. If no second argument is provided, it should assume 3 friends, as before.\n",
    "\n",
    "Update the docstring to reflect this new behaviour."
   ]
  },
  {
   "cell_type": "code",
   "execution_count": 6,
   "id": "b6cfd39b",
   "metadata": {
    "execution": {
     "iopub.execute_input": "2022-03-14T12:44:34.451250Z",
     "iopub.status.busy": "2022-03-14T12:44:34.450439Z",
     "iopub.status.idle": "2022-03-14T12:44:34.456129Z",
     "shell.execute_reply": "2022-03-14T12:44:34.455386Z",
     "shell.execute_reply.started": "2022-03-14T12:31:58.837127Z"
    },
    "papermill": {
     "duration": 0.033613,
     "end_time": "2022-03-14T12:44:34.456301",
     "exception": false,
     "start_time": "2022-03-14T12:44:34.422688",
     "status": "completed"
    },
    "tags": []
   },
   "outputs": [
    {
     "data": {
      "application/javascript": [
       "parent.postMessage({\"jupyterEvent\": \"custom.exercise_interaction\", \"data\": {\"outcomeType\": 1, \"valueTowardsCompletion\": 0.16666666666666666, \"interactionType\": 1, \"questionType\": 2, \"questionId\": \"3_CandySmashingFunctionProblem\", \"learnToolsVersion\": \"0.3.4\", \"failureMessage\": \"\", \"exceptionClass\": \"\", \"trace\": \"\"}}, \"*\")"
      ],
      "text/plain": [
       "<IPython.core.display.Javascript object>"
      ]
     },
     "metadata": {},
     "output_type": "display_data"
    },
    {
     "data": {
      "text/markdown": [
       "<span style=\"color:#33cc33\">Correct</span>"
      ],
      "text/plain": [
       "Correct"
      ]
     },
     "metadata": {},
     "output_type": "display_data"
    }
   ],
   "source": [
    "def to_smash(total_candies, num_of_friend = 3):\n",
    "    \"\"\"Return the number of leftover candies that must be smashed after distributing\n",
    "    the given number of candies evenly between 3 friends.\n",
    "    \n",
    "    >>> to_smash(91)\n",
    "    1\n",
    "    \"\"\"\n",
    "    return total_candies % num_of_friend\n",
    "\n",
    "# Check your answer\n",
    "q3.check()"
   ]
  },
  {
   "cell_type": "code",
   "execution_count": 7,
   "id": "9667c027",
   "metadata": {
    "execution": {
     "iopub.execute_input": "2022-03-14T12:44:34.514236Z",
     "iopub.status.busy": "2022-03-14T12:44:34.512798Z",
     "iopub.status.idle": "2022-03-14T12:44:34.517325Z",
     "shell.execute_reply": "2022-03-14T12:44:34.516662Z"
    },
    "papermill": {
     "duration": 0.034823,
     "end_time": "2022-03-14T12:44:34.517492",
     "exception": false,
     "start_time": "2022-03-14T12:44:34.482669",
     "status": "completed"
    },
    "tags": []
   },
   "outputs": [],
   "source": [
    "#q3.hint()"
   ]
  },
  {
   "cell_type": "code",
   "execution_count": 8,
   "id": "e077628b",
   "metadata": {
    "execution": {
     "iopub.execute_input": "2022-03-14T12:44:34.567177Z",
     "iopub.status.busy": "2022-03-14T12:44:34.566430Z",
     "iopub.status.idle": "2022-03-14T12:44:34.569147Z",
     "shell.execute_reply": "2022-03-14T12:44:34.569802Z"
    },
    "papermill": {
     "duration": 0.028731,
     "end_time": "2022-03-14T12:44:34.570003",
     "exception": false,
     "start_time": "2022-03-14T12:44:34.541272",
     "status": "completed"
    },
    "tags": []
   },
   "outputs": [],
   "source": [
    "#q3.solution()"
   ]
  },
  {
   "cell_type": "markdown",
   "id": "6c75c85c",
   "metadata": {
    "papermill": {
     "duration": 0.023764,
     "end_time": "2022-03-14T12:44:34.617030",
     "exception": false,
     "start_time": "2022-03-14T12:44:34.593266",
     "status": "completed"
    },
    "tags": []
   },
   "source": [
    "# 4. (Optional)\n",
    "\n",
    "It may not be fun, but reading and understanding error messages will be an important part of your Python career.\n",
    "\n",
    "Each code cell below contains some commented buggy code. For each cell...\n",
    "\n",
    "1. Read the code and predict what you think will happen when it's run.\n",
    "2. Then uncomment the code and run it to see what happens. (**Tip**: In the kernel editor, you can highlight several lines and press `ctrl`+`/` to toggle commenting.)\n",
    "3. Fix the code (so that it accomplishes its intended purpose without throwing an exception)\n",
    "\n",
    "<!-- TODO: should this be autochecked? Delta is probably pretty small. -->"
   ]
  },
  {
   "cell_type": "code",
   "execution_count": 9,
   "id": "618beff5",
   "metadata": {
    "execution": {
     "iopub.execute_input": "2022-03-14T12:44:34.666593Z",
     "iopub.status.busy": "2022-03-14T12:44:34.665906Z",
     "iopub.status.idle": "2022-03-14T12:44:34.671203Z",
     "shell.execute_reply": "2022-03-14T12:44:34.671745Z",
     "shell.execute_reply.started": "2022-03-14T12:41:28.657228Z"
    },
    "papermill": {
     "duration": 0.032482,
     "end_time": "2022-03-14T12:44:34.671982",
     "exception": false,
     "start_time": "2022-03-14T12:44:34.639500",
     "status": "completed"
    },
    "tags": []
   },
   "outputs": [
    {
     "data": {
      "text/plain": [
       "10.0"
      ]
     },
     "execution_count": 9,
     "metadata": {},
     "output_type": "execute_result"
    }
   ],
   "source": [
    "#name error\n",
    "round_to_two_places(9.9999)"
   ]
  },
  {
   "cell_type": "code",
   "execution_count": 10,
   "id": "08faefb6",
   "metadata": {
    "execution": {
     "iopub.execute_input": "2022-03-14T12:44:34.727377Z",
     "iopub.status.busy": "2022-03-14T12:44:34.726727Z",
     "iopub.status.idle": "2022-03-14T12:44:34.730191Z",
     "shell.execute_reply": "2022-03-14T12:44:34.730650Z",
     "shell.execute_reply.started": "2022-03-14T12:42:17.417855Z"
    },
    "papermill": {
     "duration": 0.03267,
     "end_time": "2022-03-14T12:44:34.730836",
     "exception": false,
     "start_time": "2022-03-14T12:44:34.698166",
     "status": "completed"
    },
    "tags": []
   },
   "outputs": [
    {
     "data": {
      "text/plain": [
       "5"
      ]
     },
     "execution_count": 10,
     "metadata": {},
     "output_type": "execute_result"
    }
   ],
   "source": [
    "#argument matter\n",
    "x = -10\n",
    "y = 5\n",
    "# # Which of the two variables above has the smallest absolute value?\n",
    "smallest_abs = min(abs(x), abs(y))\n",
    "smallest_abs"
   ]
  },
  {
   "cell_type": "code",
   "execution_count": 11,
   "id": "f6a64144",
   "metadata": {
    "execution": {
     "iopub.execute_input": "2022-03-14T12:44:34.780948Z",
     "iopub.status.busy": "2022-03-14T12:44:34.780303Z",
     "iopub.status.idle": "2022-03-14T12:44:34.783680Z",
     "shell.execute_reply": "2022-03-14T12:44:34.783164Z",
     "shell.execute_reply.started": "2022-03-14T12:42:40.213592Z"
    },
    "papermill": {
     "duration": 0.030315,
     "end_time": "2022-03-14T12:44:34.783820",
     "exception": false,
     "start_time": "2022-03-14T12:44:34.753505",
     "status": "completed"
    },
    "tags": []
   },
   "outputs": [
    {
     "name": "stdout",
     "output_type": "stream",
     "text": [
      "5\n"
     ]
    }
   ],
   "source": [
    "#indentation matter\n",
    "def f(x):\n",
    "    y = abs(x)\n",
    "    return y\n",
    "\n",
    "print(f(5))"
   ]
  },
  {
   "cell_type": "markdown",
   "id": "393a98c9",
   "metadata": {
    "papermill": {
     "duration": 0.023686,
     "end_time": "2022-03-14T12:44:34.830812",
     "exception": false,
     "start_time": "2022-03-14T12:44:34.807126",
     "status": "completed"
    },
    "tags": []
   },
   "source": [
    "# Keep Going\n",
    "\n",
    "Nice job with the code. Next up, you'll learn about *conditionals*, which you'll need to **[write interesting programs](https://www.kaggle.com/colinmorris/booleans-and-conditionals)**. "
   ]
  },
  {
   "cell_type": "markdown",
   "id": "fbb19bb9",
   "metadata": {
    "papermill": {
     "duration": 0.022975,
     "end_time": "2022-03-14T12:44:34.876991",
     "exception": false,
     "start_time": "2022-03-14T12:44:34.854016",
     "status": "completed"
    },
    "tags": []
   },
   "source": [
    "---\n",
    "\n",
    "\n",
    "\n",
    "\n",
    "*Have questions or comments? Visit the [course discussion forum](https://www.kaggle.com/learn/python/discussion) to chat with other learners.*"
   ]
  }
 ],
 "metadata": {
  "kernelspec": {
   "display_name": "Python 3",
   "language": "python",
   "name": "python3"
  },
  "language_info": {
   "codemirror_mode": {
    "name": "ipython",
    "version": 3
   },
   "file_extension": ".py",
   "mimetype": "text/x-python",
   "name": "python",
   "nbconvert_exporter": "python",
   "pygments_lexer": "ipython3",
   "version": "3.7.12"
  },
  "papermill": {
   "default_parameters": {},
   "duration": 11.286926,
   "end_time": "2022-03-14T12:44:35.509617",
   "environment_variables": {},
   "exception": null,
   "input_path": "__notebook__.ipynb",
   "output_path": "__notebook__.ipynb",
   "parameters": {},
   "start_time": "2022-03-14T12:44:24.222691",
   "version": "2.3.3"
  }
 },
 "nbformat": 4,
 "nbformat_minor": 5
}
