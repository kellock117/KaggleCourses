{
 "cells": [
  {
   "cell_type": "markdown",
   "id": "ddccbd09",
   "metadata": {
    "papermill": {
     "duration": 0.020317,
     "end_time": "2022-03-16T07:25:49.652641",
     "exception": false,
     "start_time": "2022-03-16T07:25:49.632324",
     "status": "completed"
    },
    "tags": []
   },
   "source": [
    "**This notebook is an exercise in the [Pandas](https://www.kaggle.com/learn/pandas) course.  You can reference the tutorial at [this link](https://www.kaggle.com/residentmario/grouping-and-sorting).**\n",
    "\n",
    "---\n"
   ]
  },
  {
   "cell_type": "markdown",
   "id": "ebb4a06b",
   "metadata": {
    "papermill": {
     "duration": 0.018252,
     "end_time": "2022-03-16T07:25:49.694118",
     "exception": false,
     "start_time": "2022-03-16T07:25:49.675866",
     "status": "completed"
    },
    "tags": []
   },
   "source": [
    "# Introduction\n",
    "\n",
    "In these exercises we'll apply groupwise analysis to our dataset.\n",
    "\n",
    "Run the code cell below to load the data before running the exercises."
   ]
  },
  {
   "cell_type": "code",
   "execution_count": 1,
   "id": "b63eb203",
   "metadata": {
    "execution": {
     "iopub.execute_input": "2022-03-16T07:25:49.745482Z",
     "iopub.status.busy": "2022-03-16T07:25:49.743378Z",
     "iopub.status.idle": "2022-03-16T07:25:52.848235Z",
     "shell.execute_reply": "2022-03-16T07:25:52.847590Z",
     "shell.execute_reply.started": "2022-03-16T06:46:49.328696Z"
    },
    "papermill": {
     "duration": 3.13484,
     "end_time": "2022-03-16T07:25:52.848472",
     "exception": false,
     "start_time": "2022-03-16T07:25:49.713632",
     "status": "completed"
    },
    "tags": []
   },
   "outputs": [
    {
     "name": "stdout",
     "output_type": "stream",
     "text": [
      "Setup complete.\n"
     ]
    }
   ],
   "source": [
    "import pandas as pd\n",
    "\n",
    "reviews = pd.read_csv(\"../input/wine-reviews/winemag-data-130k-v2.csv\", index_col=0)\n",
    "#pd.set_option(\"display.max_rows\", 5)\n",
    "\n",
    "from learntools.core import binder; binder.bind(globals())\n",
    "from learntools.pandas.grouping_and_sorting import *\n",
    "print(\"Setup complete.\")"
   ]
  },
  {
   "cell_type": "markdown",
   "id": "48ca1182",
   "metadata": {
    "papermill": {
     "duration": 0.022959,
     "end_time": "2022-03-16T07:25:52.889632",
     "exception": false,
     "start_time": "2022-03-16T07:25:52.866673",
     "status": "completed"
    },
    "tags": []
   },
   "source": [
    "# Exercises"
   ]
  },
  {
   "cell_type": "markdown",
   "id": "a8cbff16",
   "metadata": {
    "papermill": {
     "duration": 0.027536,
     "end_time": "2022-03-16T07:25:52.944767",
     "exception": false,
     "start_time": "2022-03-16T07:25:52.917231",
     "status": "completed"
    },
    "tags": []
   },
   "source": [
    "## 1.\n",
    "Who are the most common wine reviewers in the dataset? Create a `Series` whose index is the `taster_twitter_handle` category from the dataset, and whose values count how many reviews each person wrote."
   ]
  },
  {
   "cell_type": "code",
   "execution_count": 2,
   "id": "b4f4482a",
   "metadata": {
    "execution": {
     "iopub.execute_input": "2022-03-16T07:25:53.004565Z",
     "iopub.status.busy": "2022-03-16T07:25:53.003522Z",
     "iopub.status.idle": "2022-03-16T07:25:53.047089Z",
     "shell.execute_reply": "2022-03-16T07:25:53.047742Z",
     "shell.execute_reply.started": "2022-03-16T06:47:02.886358Z"
    },
    "papermill": {
     "duration": 0.070529,
     "end_time": "2022-03-16T07:25:53.047949",
     "exception": false,
     "start_time": "2022-03-16T07:25:52.977420",
     "status": "completed"
    },
    "tags": []
   },
   "outputs": [
    {
     "data": {
      "text/html": [
       "<div>\n",
       "<style scoped>\n",
       "    .dataframe tbody tr th:only-of-type {\n",
       "        vertical-align: middle;\n",
       "    }\n",
       "\n",
       "    .dataframe tbody tr th {\n",
       "        vertical-align: top;\n",
       "    }\n",
       "\n",
       "    .dataframe thead th {\n",
       "        text-align: right;\n",
       "    }\n",
       "</style>\n",
       "<table border=\"1\" class=\"dataframe\">\n",
       "  <thead>\n",
       "    <tr style=\"text-align: right;\">\n",
       "      <th></th>\n",
       "      <th>country</th>\n",
       "      <th>description</th>\n",
       "      <th>designation</th>\n",
       "      <th>points</th>\n",
       "      <th>price</th>\n",
       "      <th>province</th>\n",
       "      <th>region_1</th>\n",
       "      <th>region_2</th>\n",
       "      <th>taster_name</th>\n",
       "      <th>taster_twitter_handle</th>\n",
       "      <th>title</th>\n",
       "      <th>variety</th>\n",
       "      <th>winery</th>\n",
       "    </tr>\n",
       "  </thead>\n",
       "  <tbody>\n",
       "    <tr>\n",
       "      <th>0</th>\n",
       "      <td>Italy</td>\n",
       "      <td>Aromas include tropical fruit, broom, brimston...</td>\n",
       "      <td>Vulkà Bianco</td>\n",
       "      <td>87</td>\n",
       "      <td>NaN</td>\n",
       "      <td>Sicily &amp; Sardinia</td>\n",
       "      <td>Etna</td>\n",
       "      <td>NaN</td>\n",
       "      <td>Kerin O’Keefe</td>\n",
       "      <td>@kerinokeefe</td>\n",
       "      <td>Nicosia 2013 Vulkà Bianco  (Etna)</td>\n",
       "      <td>White Blend</td>\n",
       "      <td>Nicosia</td>\n",
       "    </tr>\n",
       "    <tr>\n",
       "      <th>1</th>\n",
       "      <td>Portugal</td>\n",
       "      <td>This is ripe and fruity, a wine that is smooth...</td>\n",
       "      <td>Avidagos</td>\n",
       "      <td>87</td>\n",
       "      <td>15.0</td>\n",
       "      <td>Douro</td>\n",
       "      <td>NaN</td>\n",
       "      <td>NaN</td>\n",
       "      <td>Roger Voss</td>\n",
       "      <td>@vossroger</td>\n",
       "      <td>Quinta dos Avidagos 2011 Avidagos Red (Douro)</td>\n",
       "      <td>Portuguese Red</td>\n",
       "      <td>Quinta dos Avidagos</td>\n",
       "    </tr>\n",
       "    <tr>\n",
       "      <th>2</th>\n",
       "      <td>US</td>\n",
       "      <td>Tart and snappy, the flavors of lime flesh and...</td>\n",
       "      <td>NaN</td>\n",
       "      <td>87</td>\n",
       "      <td>14.0</td>\n",
       "      <td>Oregon</td>\n",
       "      <td>Willamette Valley</td>\n",
       "      <td>Willamette Valley</td>\n",
       "      <td>Paul Gregutt</td>\n",
       "      <td>@paulgwine</td>\n",
       "      <td>Rainstorm 2013 Pinot Gris (Willamette Valley)</td>\n",
       "      <td>Pinot Gris</td>\n",
       "      <td>Rainstorm</td>\n",
       "    </tr>\n",
       "    <tr>\n",
       "      <th>3</th>\n",
       "      <td>US</td>\n",
       "      <td>Pineapple rind, lemon pith and orange blossom ...</td>\n",
       "      <td>Reserve Late Harvest</td>\n",
       "      <td>87</td>\n",
       "      <td>13.0</td>\n",
       "      <td>Michigan</td>\n",
       "      <td>Lake Michigan Shore</td>\n",
       "      <td>NaN</td>\n",
       "      <td>Alexander Peartree</td>\n",
       "      <td>NaN</td>\n",
       "      <td>St. Julian 2013 Reserve Late Harvest Riesling ...</td>\n",
       "      <td>Riesling</td>\n",
       "      <td>St. Julian</td>\n",
       "    </tr>\n",
       "    <tr>\n",
       "      <th>4</th>\n",
       "      <td>US</td>\n",
       "      <td>Much like the regular bottling from 2012, this...</td>\n",
       "      <td>Vintner's Reserve Wild Child Block</td>\n",
       "      <td>87</td>\n",
       "      <td>65.0</td>\n",
       "      <td>Oregon</td>\n",
       "      <td>Willamette Valley</td>\n",
       "      <td>Willamette Valley</td>\n",
       "      <td>Paul Gregutt</td>\n",
       "      <td>@paulgwine</td>\n",
       "      <td>Sweet Cheeks 2012 Vintner's Reserve Wild Child...</td>\n",
       "      <td>Pinot Noir</td>\n",
       "      <td>Sweet Cheeks</td>\n",
       "    </tr>\n",
       "  </tbody>\n",
       "</table>\n",
       "</div>"
      ],
      "text/plain": [
       "    country                                        description  \\\n",
       "0     Italy  Aromas include tropical fruit, broom, brimston...   \n",
       "1  Portugal  This is ripe and fruity, a wine that is smooth...   \n",
       "2        US  Tart and snappy, the flavors of lime flesh and...   \n",
       "3        US  Pineapple rind, lemon pith and orange blossom ...   \n",
       "4        US  Much like the regular bottling from 2012, this...   \n",
       "\n",
       "                          designation  points  price           province  \\\n",
       "0                        Vulkà Bianco      87    NaN  Sicily & Sardinia   \n",
       "1                            Avidagos      87   15.0              Douro   \n",
       "2                                 NaN      87   14.0             Oregon   \n",
       "3                Reserve Late Harvest      87   13.0           Michigan   \n",
       "4  Vintner's Reserve Wild Child Block      87   65.0             Oregon   \n",
       "\n",
       "              region_1           region_2         taster_name  \\\n",
       "0                 Etna                NaN       Kerin O’Keefe   \n",
       "1                  NaN                NaN          Roger Voss   \n",
       "2    Willamette Valley  Willamette Valley        Paul Gregutt   \n",
       "3  Lake Michigan Shore                NaN  Alexander Peartree   \n",
       "4    Willamette Valley  Willamette Valley        Paul Gregutt   \n",
       "\n",
       "  taster_twitter_handle                                              title  \\\n",
       "0          @kerinokeefe                  Nicosia 2013 Vulkà Bianco  (Etna)   \n",
       "1            @vossroger      Quinta dos Avidagos 2011 Avidagos Red (Douro)   \n",
       "2           @paulgwine       Rainstorm 2013 Pinot Gris (Willamette Valley)   \n",
       "3                   NaN  St. Julian 2013 Reserve Late Harvest Riesling ...   \n",
       "4           @paulgwine   Sweet Cheeks 2012 Vintner's Reserve Wild Child...   \n",
       "\n",
       "          variety               winery  \n",
       "0     White Blend              Nicosia  \n",
       "1  Portuguese Red  Quinta dos Avidagos  \n",
       "2      Pinot Gris            Rainstorm  \n",
       "3        Riesling           St. Julian  \n",
       "4      Pinot Noir         Sweet Cheeks  "
      ]
     },
     "execution_count": 2,
     "metadata": {},
     "output_type": "execute_result"
    }
   ],
   "source": [
    "reviews.head()"
   ]
  },
  {
   "cell_type": "code",
   "execution_count": 3,
   "id": "671ff17e",
   "metadata": {
    "execution": {
     "iopub.execute_input": "2022-03-16T07:25:53.102636Z",
     "iopub.status.busy": "2022-03-16T07:25:53.101896Z",
     "iopub.status.idle": "2022-03-16T07:25:53.132291Z",
     "shell.execute_reply": "2022-03-16T07:25:53.133739Z",
     "shell.execute_reply.started": "2022-03-16T06:51:03.907015Z"
    },
    "papermill": {
     "duration": 0.064535,
     "end_time": "2022-03-16T07:25:53.134031",
     "exception": false,
     "start_time": "2022-03-16T07:25:53.069496",
     "status": "completed"
    },
    "tags": []
   },
   "outputs": [
    {
     "data": {
      "application/javascript": [
       "parent.postMessage({\"jupyterEvent\": \"custom.exercise_interaction\", \"data\": {\"outcomeType\": 1, \"valueTowardsCompletion\": 0.16666666666666666, \"interactionType\": 1, \"questionType\": 1, \"questionId\": \"1_ReviewsWritten\", \"learnToolsVersion\": \"0.3.4\", \"failureMessage\": \"\", \"exceptionClass\": \"\", \"trace\": \"\"}}, \"*\")"
      ],
      "text/plain": [
       "<IPython.core.display.Javascript object>"
      ]
     },
     "metadata": {},
     "output_type": "display_data"
    },
    {
     "data": {
      "text/markdown": [
       "<span style=\"color:#33cc33\">Correct:</span> \n",
       "\n",
       "\n",
       "```python\n",
       "reviews_written = reviews.groupby('taster_twitter_handle').size()\n",
       "```\n",
       "or\n",
       "```python\n",
       "reviews_written = reviews.groupby('taster_twitter_handle').taster_twitter_handle.count()\n",
       "```\n"
      ],
      "text/plain": [
       "Correct: \n",
       "\n",
       "\n",
       "```python\n",
       "reviews_written = reviews.groupby('taster_twitter_handle').size()\n",
       "```\n",
       "or\n",
       "```python\n",
       "reviews_written = reviews.groupby('taster_twitter_handle').taster_twitter_handle.count()\n",
       "```"
      ]
     },
     "metadata": {},
     "output_type": "display_data"
    }
   ],
   "source": [
    "# Your code here\n",
    "reviews_written = reviews.groupby('taster_twitter_handle')['taster_twitter_handle'].count()\n",
    "\n",
    "# Check your answer\n",
    "q1.check()"
   ]
  },
  {
   "cell_type": "code",
   "execution_count": 4,
   "id": "8ad03a50",
   "metadata": {
    "execution": {
     "iopub.execute_input": "2022-03-16T07:25:53.196270Z",
     "iopub.status.busy": "2022-03-16T07:25:53.195614Z",
     "iopub.status.idle": "2022-03-16T07:25:53.200086Z",
     "shell.execute_reply": "2022-03-16T07:25:53.199492Z"
    },
    "papermill": {
     "duration": 0.033046,
     "end_time": "2022-03-16T07:25:53.200240",
     "exception": false,
     "start_time": "2022-03-16T07:25:53.167194",
     "status": "completed"
    },
    "tags": []
   },
   "outputs": [],
   "source": [
    "#q1.hint()\n",
    "#q1.solution()"
   ]
  },
  {
   "cell_type": "markdown",
   "id": "c7b3970b",
   "metadata": {
    "papermill": {
     "duration": 0.033267,
     "end_time": "2022-03-16T07:25:53.257905",
     "exception": false,
     "start_time": "2022-03-16T07:25:53.224638",
     "status": "completed"
    },
    "tags": []
   },
   "source": [
    "## 2.\n",
    "What is the best wine I can buy for a given amount of money? Create a `Series` whose index is wine prices and whose values is the maximum number of points a wine costing that much was given in a review. Sort the values by price, ascending (so that `4.0` dollars is at the top and `3300.0` dollars is at the bottom)."
   ]
  },
  {
   "cell_type": "code",
   "execution_count": 5,
   "id": "7787990e",
   "metadata": {
    "execution": {
     "iopub.execute_input": "2022-03-16T07:25:53.332038Z",
     "iopub.status.busy": "2022-03-16T07:25:53.330461Z",
     "iopub.status.idle": "2022-03-16T07:25:53.456729Z",
     "shell.execute_reply": "2022-03-16T07:25:53.455920Z",
     "shell.execute_reply.started": "2022-03-16T07:05:21.104248Z"
    },
    "papermill": {
     "duration": 0.159472,
     "end_time": "2022-03-16T07:25:53.456958",
     "exception": false,
     "start_time": "2022-03-16T07:25:53.297486",
     "status": "completed"
    },
    "tags": []
   },
   "outputs": [
    {
     "name": "stdout",
     "output_type": "stream",
     "text": [
      "price\n",
      "4.0       86\n",
      "5.0       87\n",
      "6.0       88\n",
      "7.0       91\n",
      "8.0       91\n",
      "          ..\n",
      "1900.0    98\n",
      "2000.0    97\n",
      "2013.0    91\n",
      "2500.0    96\n",
      "3300.0    88\n",
      "Length: 390, dtype: int64\n"
     ]
    },
    {
     "data": {
      "application/javascript": [
       "parent.postMessage({\"jupyterEvent\": \"custom.exercise_interaction\", \"data\": {\"outcomeType\": 1, \"valueTowardsCompletion\": 0.16666666666666666, \"interactionType\": 1, \"questionType\": 1, \"questionId\": \"2_BestRatingPerPrice\", \"learnToolsVersion\": \"0.3.4\", \"failureMessage\": \"\", \"exceptionClass\": \"\", \"trace\": \"\"}}, \"*\")"
      ],
      "text/plain": [
       "<IPython.core.display.Javascript object>"
      ]
     },
     "metadata": {},
     "output_type": "display_data"
    },
    {
     "data": {
      "text/markdown": [
       "<span style=\"color:#33cc33\">Correct</span>"
      ],
      "text/plain": [
       "Correct"
      ]
     },
     "metadata": {},
     "output_type": "display_data"
    }
   ],
   "source": [
    "best_rating_per_price = reviews.groupby('price').apply(lambda x: x['points'].max())\n",
    "print(best_rating_per_price)\n",
    "\n",
    "# Check your answer\n",
    "q2.check()"
   ]
  },
  {
   "cell_type": "code",
   "execution_count": 6,
   "id": "9c7cc29a",
   "metadata": {
    "execution": {
     "iopub.execute_input": "2022-03-16T07:25:53.518744Z",
     "iopub.status.busy": "2022-03-16T07:25:53.517931Z",
     "iopub.status.idle": "2022-03-16T07:25:53.520915Z",
     "shell.execute_reply": "2022-03-16T07:25:53.520205Z"
    },
    "papermill": {
     "duration": 0.034393,
     "end_time": "2022-03-16T07:25:53.521070",
     "exception": false,
     "start_time": "2022-03-16T07:25:53.486677",
     "status": "completed"
    },
    "tags": []
   },
   "outputs": [],
   "source": [
    "#q2.hint()\n",
    "#q2.solution()"
   ]
  },
  {
   "cell_type": "markdown",
   "id": "d4824ac6",
   "metadata": {
    "papermill": {
     "duration": 0.024591,
     "end_time": "2022-03-16T07:25:53.571211",
     "exception": false,
     "start_time": "2022-03-16T07:25:53.546620",
     "status": "completed"
    },
    "tags": []
   },
   "source": [
    "## 3.\n",
    "What are the minimum and maximum prices for each `variety` of wine? Create a `DataFrame` whose index is the `variety` category from the dataset and whose values are the `min` and `max` values thereof."
   ]
  },
  {
   "cell_type": "code",
   "execution_count": 7,
   "id": "3a58942c",
   "metadata": {
    "execution": {
     "iopub.execute_input": "2022-03-16T07:25:53.628003Z",
     "iopub.status.busy": "2022-03-16T07:25:53.627075Z",
     "iopub.status.idle": "2022-03-16T07:25:53.657732Z",
     "shell.execute_reply": "2022-03-16T07:25:53.658273Z",
     "shell.execute_reply.started": "2022-03-16T07:07:20.093324Z"
    },
    "papermill": {
     "duration": 0.059138,
     "end_time": "2022-03-16T07:25:53.658474",
     "exception": false,
     "start_time": "2022-03-16T07:25:53.599336",
     "status": "completed"
    },
    "tags": []
   },
   "outputs": [
    {
     "data": {
      "application/javascript": [
       "parent.postMessage({\"jupyterEvent\": \"custom.exercise_interaction\", \"data\": {\"outcomeType\": 1, \"valueTowardsCompletion\": 0.16666666666666666, \"interactionType\": 1, \"questionType\": 1, \"questionId\": \"3_PriceExtremes\", \"learnToolsVersion\": \"0.3.4\", \"failureMessage\": \"\", \"exceptionClass\": \"\", \"trace\": \"\"}}, \"*\")"
      ],
      "text/plain": [
       "<IPython.core.display.Javascript object>"
      ]
     },
     "metadata": {},
     "output_type": "display_data"
    },
    {
     "data": {
      "text/markdown": [
       "<span style=\"color:#33cc33\">Correct</span>"
      ],
      "text/plain": [
       "Correct"
      ]
     },
     "metadata": {},
     "output_type": "display_data"
    }
   ],
   "source": [
    "price_extremes = reviews.groupby('variety')['price'].agg([min, max])\n",
    "\n",
    "# Check your answer\n",
    "q3.check()"
   ]
  },
  {
   "cell_type": "code",
   "execution_count": 8,
   "id": "7a248438",
   "metadata": {
    "execution": {
     "iopub.execute_input": "2022-03-16T07:25:53.711258Z",
     "iopub.status.busy": "2022-03-16T07:25:53.710433Z",
     "iopub.status.idle": "2022-03-16T07:25:53.713713Z",
     "shell.execute_reply": "2022-03-16T07:25:53.714283Z"
    },
    "papermill": {
     "duration": 0.031609,
     "end_time": "2022-03-16T07:25:53.714504",
     "exception": false,
     "start_time": "2022-03-16T07:25:53.682895",
     "status": "completed"
    },
    "tags": []
   },
   "outputs": [],
   "source": [
    "#q3.hint()\n",
    "#q3.solution()"
   ]
  },
  {
   "cell_type": "markdown",
   "id": "d12f49c3",
   "metadata": {
    "papermill": {
     "duration": 0.027355,
     "end_time": "2022-03-16T07:25:53.765786",
     "exception": false,
     "start_time": "2022-03-16T07:25:53.738431",
     "status": "completed"
    },
    "tags": []
   },
   "source": [
    "## 4.\n",
    "What are the most expensive wine varieties? Create a variable `sorted_varieties` containing a copy of the dataframe from the previous question where varieties are sorted in descending order based on minimum price, then on maximum price (to break ties)."
   ]
  },
  {
   "cell_type": "code",
   "execution_count": 9,
   "id": "de2d3f28",
   "metadata": {
    "execution": {
     "iopub.execute_input": "2022-03-16T07:25:53.829371Z",
     "iopub.status.busy": "2022-03-16T07:25:53.828437Z",
     "iopub.status.idle": "2022-03-16T07:25:53.837574Z",
     "shell.execute_reply": "2022-03-16T07:25:53.838111Z",
     "shell.execute_reply.started": "2022-03-16T07:09:37.688845Z"
    },
    "papermill": {
     "duration": 0.041049,
     "end_time": "2022-03-16T07:25:53.838296",
     "exception": false,
     "start_time": "2022-03-16T07:25:53.797247",
     "status": "completed"
    },
    "tags": []
   },
   "outputs": [
    {
     "data": {
      "application/javascript": [
       "parent.postMessage({\"jupyterEvent\": \"custom.exercise_interaction\", \"data\": {\"outcomeType\": 1, \"valueTowardsCompletion\": 0.16666666666666666, \"interactionType\": 1, \"questionType\": 1, \"questionId\": \"4_SortedVarieties\", \"learnToolsVersion\": \"0.3.4\", \"failureMessage\": \"\", \"exceptionClass\": \"\", \"trace\": \"\"}}, \"*\")"
      ],
      "text/plain": [
       "<IPython.core.display.Javascript object>"
      ]
     },
     "metadata": {},
     "output_type": "display_data"
    },
    {
     "data": {
      "text/markdown": [
       "<span style=\"color:#33cc33\">Correct</span>"
      ],
      "text/plain": [
       "Correct"
      ]
     },
     "metadata": {},
     "output_type": "display_data"
    }
   ],
   "source": [
    "sorted_varieties = price_extremes.sort_values(['min', 'max'], ascending = False)\n",
    "\n",
    "# Check your answer\n",
    "q4.check()"
   ]
  },
  {
   "cell_type": "code",
   "execution_count": 10,
   "id": "21b1df19",
   "metadata": {
    "execution": {
     "iopub.execute_input": "2022-03-16T07:25:53.890449Z",
     "iopub.status.busy": "2022-03-16T07:25:53.889773Z",
     "iopub.status.idle": "2022-03-16T07:25:53.892427Z",
     "shell.execute_reply": "2022-03-16T07:25:53.892878Z"
    },
    "papermill": {
     "duration": 0.030296,
     "end_time": "2022-03-16T07:25:53.893065",
     "exception": false,
     "start_time": "2022-03-16T07:25:53.862769",
     "status": "completed"
    },
    "tags": []
   },
   "outputs": [],
   "source": [
    "#q4.hint()\n",
    "#q4.solution()"
   ]
  },
  {
   "cell_type": "markdown",
   "id": "d5b64d92",
   "metadata": {
    "papermill": {
     "duration": 0.026015,
     "end_time": "2022-03-16T07:25:53.945202",
     "exception": false,
     "start_time": "2022-03-16T07:25:53.919187",
     "status": "completed"
    },
    "tags": []
   },
   "source": [
    "## 5.\n",
    "Create a `Series` whose index is reviewers and whose values is the average review score given out by that reviewer. Hint: you will need the `taster_name` and `points` columns."
   ]
  },
  {
   "cell_type": "code",
   "execution_count": 11,
   "id": "b99e4fc3",
   "metadata": {
    "execution": {
     "iopub.execute_input": "2022-03-16T07:25:54.002845Z",
     "iopub.status.busy": "2022-03-16T07:25:54.002041Z",
     "iopub.status.idle": "2022-03-16T07:25:54.066691Z",
     "shell.execute_reply": "2022-03-16T07:25:54.065931Z",
     "shell.execute_reply.started": "2022-03-16T07:11:06.958402Z"
    },
    "papermill": {
     "duration": 0.093313,
     "end_time": "2022-03-16T07:25:54.066850",
     "exception": false,
     "start_time": "2022-03-16T07:25:53.973537",
     "status": "completed"
    },
    "tags": []
   },
   "outputs": [
    {
     "data": {
      "application/javascript": [
       "parent.postMessage({\"jupyterEvent\": \"custom.exercise_interaction\", \"data\": {\"outcomeType\": 1, \"valueTowardsCompletion\": 0.16666666666666666, \"interactionType\": 1, \"questionType\": 1, \"questionId\": \"5_ReviewerMeanRatings\", \"learnToolsVersion\": \"0.3.4\", \"failureMessage\": \"\", \"exceptionClass\": \"\", \"trace\": \"\"}}, \"*\")"
      ],
      "text/plain": [
       "<IPython.core.display.Javascript object>"
      ]
     },
     "metadata": {},
     "output_type": "display_data"
    },
    {
     "data": {
      "text/markdown": [
       "<span style=\"color:#33cc33\">Correct</span>"
      ],
      "text/plain": [
       "Correct"
      ]
     },
     "metadata": {},
     "output_type": "display_data"
    }
   ],
   "source": [
    "reviewer_mean_ratings = reviews.groupby('taster_name').apply(lambda x: x['points'].mean())\n",
    "\n",
    "# Check your answer\n",
    "q5.check()"
   ]
  },
  {
   "cell_type": "code",
   "execution_count": 12,
   "id": "90001ead",
   "metadata": {
    "execution": {
     "iopub.execute_input": "2022-03-16T07:25:54.128688Z",
     "iopub.status.busy": "2022-03-16T07:25:54.127944Z",
     "iopub.status.idle": "2022-03-16T07:25:54.130216Z",
     "shell.execute_reply": "2022-03-16T07:25:54.129704Z"
    },
    "papermill": {
     "duration": 0.034821,
     "end_time": "2022-03-16T07:25:54.130358",
     "exception": false,
     "start_time": "2022-03-16T07:25:54.095537",
     "status": "completed"
    },
    "tags": []
   },
   "outputs": [],
   "source": [
    "#q5.hint()\n",
    "#q5.solution()"
   ]
  },
  {
   "cell_type": "markdown",
   "id": "b4108c52",
   "metadata": {
    "papermill": {
     "duration": 0.025045,
     "end_time": "2022-03-16T07:25:54.182617",
     "exception": false,
     "start_time": "2022-03-16T07:25:54.157572",
     "status": "completed"
    },
    "tags": []
   },
   "source": [
    "Are there significant differences in the average scores assigned by the various reviewers? Run the cell below to use the `describe()` method to see a summary of the range of values."
   ]
  },
  {
   "cell_type": "code",
   "execution_count": 13,
   "id": "8dbb4ebb",
   "metadata": {
    "execution": {
     "iopub.execute_input": "2022-03-16T07:25:54.248290Z",
     "iopub.status.busy": "2022-03-16T07:25:54.247612Z",
     "iopub.status.idle": "2022-03-16T07:25:54.258575Z",
     "shell.execute_reply": "2022-03-16T07:25:54.259708Z",
     "shell.execute_reply.started": "2022-03-16T07:11:11.330147Z"
    },
    "papermill": {
     "duration": 0.048774,
     "end_time": "2022-03-16T07:25:54.259930",
     "exception": false,
     "start_time": "2022-03-16T07:25:54.211156",
     "status": "completed"
    },
    "tags": []
   },
   "outputs": [
    {
     "data": {
      "text/plain": [
       "count    19.000000\n",
       "mean     88.233026\n",
       "std       1.243610\n",
       "min      85.855422\n",
       "25%      87.323501\n",
       "50%      88.536235\n",
       "75%      88.975256\n",
       "max      90.562551\n",
       "dtype: float64"
      ]
     },
     "execution_count": 13,
     "metadata": {},
     "output_type": "execute_result"
    }
   ],
   "source": [
    "reviewer_mean_ratings.describe()"
   ]
  },
  {
   "cell_type": "markdown",
   "id": "3326888d",
   "metadata": {
    "papermill": {
     "duration": 0.027179,
     "end_time": "2022-03-16T07:25:54.315496",
     "exception": false,
     "start_time": "2022-03-16T07:25:54.288317",
     "status": "completed"
    },
    "tags": []
   },
   "source": [
    "## 6.\n",
    "What combination of countries and varieties are most common? Create a `Series` whose index is a `MultiIndex`of `{country, variety}` pairs. For example, a pinot noir produced in the US should map to `{\"US\", \"Pinot Noir\"}`. Sort the values in the `Series` in descending order based on wine count."
   ]
  },
  {
   "cell_type": "code",
   "execution_count": 14,
   "id": "bf6bdf7f",
   "metadata": {
    "execution": {
     "iopub.execute_input": "2022-03-16T07:25:54.377092Z",
     "iopub.status.busy": "2022-03-16T07:25:54.376320Z",
     "iopub.status.idle": "2022-03-16T07:25:54.444904Z",
     "shell.execute_reply": "2022-03-16T07:25:54.442622Z",
     "shell.execute_reply.started": "2022-03-16T07:21:21.929831Z"
    },
    "papermill": {
     "duration": 0.100979,
     "end_time": "2022-03-16T07:25:54.445088",
     "exception": false,
     "start_time": "2022-03-16T07:25:54.344109",
     "status": "completed"
    },
    "tags": []
   },
   "outputs": [
    {
     "name": "stdout",
     "output_type": "stream",
     "text": [
      "country  variety                 \n",
      "US       Pinot Noir                  9885\n",
      "         Cabernet Sauvignon          7315\n",
      "         Chardonnay                  6801\n",
      "France   Bordeaux-style Red Blend    4725\n",
      "Italy    Red Blend                   3624\n",
      "                                     ... \n",
      "Mexico   Cinsault                       1\n",
      "         Grenache                       1\n",
      "         Merlot                         1\n",
      "         Rosado                         1\n",
      "Uruguay  White Blend                    1\n",
      "Name: description, Length: 1612, dtype: int64\n",
      "<class 'pandas.core.series.Series'>\n"
     ]
    },
    {
     "data": {
      "application/javascript": [
       "parent.postMessage({\"jupyterEvent\": \"custom.exercise_interaction\", \"data\": {\"outcomeType\": 1, \"valueTowardsCompletion\": 0.16666666666666666, \"interactionType\": 1, \"questionType\": 1, \"questionId\": \"6_GroupbyCountryVariety\", \"learnToolsVersion\": \"0.3.4\", \"failureMessage\": \"\", \"exceptionClass\": \"\", \"trace\": \"\"}}, \"*\")"
      ],
      "text/plain": [
       "<IPython.core.display.Javascript object>"
      ]
     },
     "metadata": {},
     "output_type": "display_data"
    },
    {
     "data": {
      "text/markdown": [
       "<span style=\"color:#33cc33\">Correct</span>"
      ],
      "text/plain": [
       "Correct"
      ]
     },
     "metadata": {},
     "output_type": "display_data"
    }
   ],
   "source": [
    "country_variety_counts = reviews.groupby(['country', 'variety'])['description'].agg(len).sort_values(ascending = False)\n",
    "print(country_variety_counts)\n",
    "print(type(country_variety_counts))\n",
    "\n",
    "q6.check()"
   ]
  },
  {
   "cell_type": "code",
   "execution_count": 15,
   "id": "72feefc9",
   "metadata": {
    "execution": {
     "iopub.execute_input": "2022-03-16T07:25:54.517568Z",
     "iopub.status.busy": "2022-03-16T07:25:54.516624Z",
     "iopub.status.idle": "2022-03-16T07:25:54.540464Z",
     "shell.execute_reply": "2022-03-16T07:25:54.540951Z",
     "shell.execute_reply.started": "2022-03-16T07:20:08.098795Z"
    },
    "papermill": {
     "duration": 0.067801,
     "end_time": "2022-03-16T07:25:54.541133",
     "exception": false,
     "start_time": "2022-03-16T07:25:54.473332",
     "status": "completed"
    },
    "tags": []
   },
   "outputs": [
    {
     "data": {
      "application/javascript": [
       "parent.postMessage({\"jupyterEvent\": \"custom.exercise_interaction\", \"data\": {\"outcomeType\": 1, \"valueTowardsCompletion\": 0.16666666666666666, \"interactionType\": 1, \"questionType\": 1, \"questionId\": \"6_GroupbyCountryVariety\", \"learnToolsVersion\": \"0.3.4\", \"failureMessage\": \"\", \"exceptionClass\": \"\", \"trace\": \"\"}}, \"*\")"
      ],
      "text/plain": [
       "<IPython.core.display.Javascript object>"
      ]
     },
     "metadata": {},
     "output_type": "display_data"
    },
    {
     "data": {
      "text/markdown": [
       "<span style=\"color:#33cc33\">Correct</span>"
      ],
      "text/plain": [
       "Correct"
      ]
     },
     "metadata": {},
     "output_type": "display_data"
    }
   ],
   "source": [
    "country_variety_counts = reviews.groupby(['country', 'variety'])['description'].size().sort_values(ascending = False)\n",
    "\n",
    "# Check your answer\n",
    "q6.check()"
   ]
  },
  {
   "cell_type": "code",
   "execution_count": 16,
   "id": "8c7b739d",
   "metadata": {
    "execution": {
     "iopub.execute_input": "2022-03-16T07:25:54.607617Z",
     "iopub.status.busy": "2022-03-16T07:25:54.606507Z",
     "iopub.status.idle": "2022-03-16T07:25:54.619067Z",
     "shell.execute_reply": "2022-03-16T07:25:54.619698Z",
     "shell.execute_reply.started": "2022-03-16T07:19:38.207480Z"
    },
    "papermill": {
     "duration": 0.048967,
     "end_time": "2022-03-16T07:25:54.619883",
     "exception": false,
     "start_time": "2022-03-16T07:25:54.570916",
     "status": "completed"
    },
    "tags": []
   },
   "outputs": [
    {
     "data": {
      "application/javascript": [
       "parent.postMessage({\"jupyterEvent\": \"custom.exercise_interaction\", \"data\": {\"interactionType\": 2, \"questionType\": 1, \"questionId\": \"6_GroupbyCountryVariety\", \"learnToolsVersion\": \"0.3.4\", \"valueTowardsCompletion\": 0.0, \"failureMessage\": \"\", \"exceptionClass\": \"\", \"trace\": \"\", \"outcomeType\": 4}}, \"*\")"
      ],
      "text/plain": [
       "<IPython.core.display.Javascript object>"
      ]
     },
     "metadata": {},
     "output_type": "display_data"
    },
    {
     "data": {
      "text/markdown": [
       "<span style=\"color:#3366cc\">Hint:</span> Use `groupby()`, and provide a list of columns to group by.  You may also find `size()` and `sort_values()` to be useful!"
      ],
      "text/plain": [
       "Hint: Use `groupby()`, and provide a list of columns to group by.  You may also find `size()` and `sort_values()` to be useful!"
      ]
     },
     "metadata": {},
     "output_type": "display_data"
    },
    {
     "data": {
      "application/javascript": [
       "parent.postMessage({\"jupyterEvent\": \"custom.exercise_interaction\", \"data\": {\"interactionType\": 3, \"questionType\": 1, \"questionId\": \"6_GroupbyCountryVariety\", \"learnToolsVersion\": \"0.3.4\", \"valueTowardsCompletion\": 0.0, \"failureMessage\": \"\", \"exceptionClass\": \"\", \"trace\": \"\", \"outcomeType\": 4}}, \"*\")"
      ],
      "text/plain": [
       "<IPython.core.display.Javascript object>"
      ]
     },
     "metadata": {},
     "output_type": "display_data"
    },
    {
     "data": {
      "text/markdown": [
       "<span style=\"color:#33cc99\">Solution:</span> \n",
       "```python\n",
       "country_variety_counts = reviews.groupby(['country', 'variety']).size().sort_values(ascending=False)\n",
       "```"
      ],
      "text/plain": [
       "Solution: \n",
       "```python\n",
       "country_variety_counts = reviews.groupby(['country', 'variety']).size().sort_values(ascending=False)\n",
       "```"
      ]
     },
     "metadata": {},
     "output_type": "display_data"
    }
   ],
   "source": [
    "q6.hint()\n",
    "q6.solution()"
   ]
  },
  {
   "cell_type": "markdown",
   "id": "f69718ae",
   "metadata": {
    "papermill": {
     "duration": 0.039314,
     "end_time": "2022-03-16T07:25:54.691618",
     "exception": false,
     "start_time": "2022-03-16T07:25:54.652304",
     "status": "completed"
    },
    "tags": []
   },
   "source": [
    "# Keep going\n",
    "\n",
    "Move on to the [**data types and missing data**](https://www.kaggle.com/residentmario/data-types-and-missing-values)."
   ]
  },
  {
   "cell_type": "markdown",
   "id": "3f49ee46",
   "metadata": {
    "papermill": {
     "duration": 0.036923,
     "end_time": "2022-03-16T07:25:54.762222",
     "exception": false,
     "start_time": "2022-03-16T07:25:54.725299",
     "status": "completed"
    },
    "tags": []
   },
   "source": [
    "---\n",
    "\n",
    "\n",
    "\n",
    "\n",
    "*Have questions or comments? Visit the [course discussion forum](https://www.kaggle.com/learn/pandas/discussion) to chat with other learners.*"
   ]
  }
 ],
 "metadata": {
  "kernelspec": {
   "display_name": "Python 3",
   "language": "python",
   "name": "python3"
  },
  "language_info": {
   "codemirror_mode": {
    "name": "ipython",
    "version": 3
   },
   "file_extension": ".py",
   "mimetype": "text/x-python",
   "name": "python",
   "nbconvert_exporter": "python",
   "pygments_lexer": "ipython3",
   "version": "3.7.12"
  },
  "papermill": {
   "default_parameters": {},
   "duration": 22.64739,
   "end_time": "2022-03-16T07:25:55.913840",
   "environment_variables": {},
   "exception": null,
   "input_path": "__notebook__.ipynb",
   "output_path": "__notebook__.ipynb",
   "parameters": {},
   "start_time": "2022-03-16T07:25:33.266450",
   "version": "2.3.3"
  }
 },
 "nbformat": 4,
 "nbformat_minor": 5
}
