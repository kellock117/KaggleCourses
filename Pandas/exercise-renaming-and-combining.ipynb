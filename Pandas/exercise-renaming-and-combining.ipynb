{
 "cells": [
  {
   "cell_type": "markdown",
   "id": "0cbc09fd",
   "metadata": {
    "papermill": {
     "duration": 0.014942,
     "end_time": "2022-03-16T07:51:47.976621",
     "exception": false,
     "start_time": "2022-03-16T07:51:47.961679",
     "status": "completed"
    },
    "tags": []
   },
   "source": [
    "**This notebook is an exercise in the [Pandas](https://www.kaggle.com/learn/pandas) course.  You can reference the tutorial at [this link](https://www.kaggle.com/residentmario/renaming-and-combining).**\n",
    "\n",
    "---\n"
   ]
  },
  {
   "cell_type": "markdown",
   "id": "ed3aeb8d",
   "metadata": {
    "papermill": {
     "duration": 0.013519,
     "end_time": "2022-03-16T07:51:48.004395",
     "exception": false,
     "start_time": "2022-03-16T07:51:47.990876",
     "status": "completed"
    },
    "tags": []
   },
   "source": [
    "# Introduction\n",
    "\n",
    "Run the following cell to load your data and some utility functions."
   ]
  },
  {
   "cell_type": "code",
   "execution_count": 1,
   "id": "81fca28f",
   "metadata": {
    "execution": {
     "iopub.execute_input": "2022-03-16T07:51:48.041530Z",
     "iopub.status.busy": "2022-03-16T07:51:48.040903Z",
     "iopub.status.idle": "2022-03-16T07:51:51.921442Z",
     "shell.execute_reply": "2022-03-16T07:51:51.920746Z",
     "shell.execute_reply.started": "2022-03-16T07:43:37.032952Z"
    },
    "papermill": {
     "duration": 3.903324,
     "end_time": "2022-03-16T07:51:51.921603",
     "exception": false,
     "start_time": "2022-03-16T07:51:48.018279",
     "status": "completed"
    },
    "tags": []
   },
   "outputs": [
    {
     "name": "stdout",
     "output_type": "stream",
     "text": [
      "Setup complete.\n"
     ]
    }
   ],
   "source": [
    "import pandas as pd\n",
    "\n",
    "reviews = pd.read_csv(\"../input/wine-reviews/winemag-data-130k-v2.csv\", index_col=0)\n",
    "\n",
    "from learntools.core import binder; binder.bind(globals())\n",
    "from learntools.pandas.renaming_and_combining import *\n",
    "print(\"Setup complete.\")"
   ]
  },
  {
   "cell_type": "markdown",
   "id": "2db2656f",
   "metadata": {
    "papermill": {
     "duration": 0.014323,
     "end_time": "2022-03-16T07:51:51.950767",
     "exception": false,
     "start_time": "2022-03-16T07:51:51.936444",
     "status": "completed"
    },
    "tags": []
   },
   "source": [
    "# Exercises\n",
    "\n",
    "View the first several lines of your data by running the cell below:"
   ]
  },
  {
   "cell_type": "code",
   "execution_count": 2,
   "id": "12f6ca0d",
   "metadata": {
    "execution": {
     "iopub.execute_input": "2022-03-16T07:51:51.988080Z",
     "iopub.status.busy": "2022-03-16T07:51:51.987461Z",
     "iopub.status.idle": "2022-03-16T07:51:52.006322Z",
     "shell.execute_reply": "2022-03-16T07:51:52.006778Z",
     "shell.execute_reply.started": "2022-03-16T07:43:41.379198Z"
    },
    "papermill": {
     "duration": 0.040749,
     "end_time": "2022-03-16T07:51:52.006938",
     "exception": false,
     "start_time": "2022-03-16T07:51:51.966189",
     "status": "completed"
    },
    "tags": []
   },
   "outputs": [
    {
     "data": {
      "text/html": [
       "<div>\n",
       "<style scoped>\n",
       "    .dataframe tbody tr th:only-of-type {\n",
       "        vertical-align: middle;\n",
       "    }\n",
       "\n",
       "    .dataframe tbody tr th {\n",
       "        vertical-align: top;\n",
       "    }\n",
       "\n",
       "    .dataframe thead th {\n",
       "        text-align: right;\n",
       "    }\n",
       "</style>\n",
       "<table border=\"1\" class=\"dataframe\">\n",
       "  <thead>\n",
       "    <tr style=\"text-align: right;\">\n",
       "      <th></th>\n",
       "      <th>country</th>\n",
       "      <th>description</th>\n",
       "      <th>designation</th>\n",
       "      <th>points</th>\n",
       "      <th>price</th>\n",
       "      <th>province</th>\n",
       "      <th>region_1</th>\n",
       "      <th>region_2</th>\n",
       "      <th>taster_name</th>\n",
       "      <th>taster_twitter_handle</th>\n",
       "      <th>title</th>\n",
       "      <th>variety</th>\n",
       "      <th>winery</th>\n",
       "    </tr>\n",
       "  </thead>\n",
       "  <tbody>\n",
       "    <tr>\n",
       "      <th>0</th>\n",
       "      <td>Italy</td>\n",
       "      <td>Aromas include tropical fruit, broom, brimston...</td>\n",
       "      <td>Vulkà Bianco</td>\n",
       "      <td>87</td>\n",
       "      <td>NaN</td>\n",
       "      <td>Sicily &amp; Sardinia</td>\n",
       "      <td>Etna</td>\n",
       "      <td>NaN</td>\n",
       "      <td>Kerin O’Keefe</td>\n",
       "      <td>@kerinokeefe</td>\n",
       "      <td>Nicosia 2013 Vulkà Bianco  (Etna)</td>\n",
       "      <td>White Blend</td>\n",
       "      <td>Nicosia</td>\n",
       "    </tr>\n",
       "    <tr>\n",
       "      <th>1</th>\n",
       "      <td>Portugal</td>\n",
       "      <td>This is ripe and fruity, a wine that is smooth...</td>\n",
       "      <td>Avidagos</td>\n",
       "      <td>87</td>\n",
       "      <td>15.0</td>\n",
       "      <td>Douro</td>\n",
       "      <td>NaN</td>\n",
       "      <td>NaN</td>\n",
       "      <td>Roger Voss</td>\n",
       "      <td>@vossroger</td>\n",
       "      <td>Quinta dos Avidagos 2011 Avidagos Red (Douro)</td>\n",
       "      <td>Portuguese Red</td>\n",
       "      <td>Quinta dos Avidagos</td>\n",
       "    </tr>\n",
       "    <tr>\n",
       "      <th>2</th>\n",
       "      <td>US</td>\n",
       "      <td>Tart and snappy, the flavors of lime flesh and...</td>\n",
       "      <td>NaN</td>\n",
       "      <td>87</td>\n",
       "      <td>14.0</td>\n",
       "      <td>Oregon</td>\n",
       "      <td>Willamette Valley</td>\n",
       "      <td>Willamette Valley</td>\n",
       "      <td>Paul Gregutt</td>\n",
       "      <td>@paulgwine</td>\n",
       "      <td>Rainstorm 2013 Pinot Gris (Willamette Valley)</td>\n",
       "      <td>Pinot Gris</td>\n",
       "      <td>Rainstorm</td>\n",
       "    </tr>\n",
       "    <tr>\n",
       "      <th>3</th>\n",
       "      <td>US</td>\n",
       "      <td>Pineapple rind, lemon pith and orange blossom ...</td>\n",
       "      <td>Reserve Late Harvest</td>\n",
       "      <td>87</td>\n",
       "      <td>13.0</td>\n",
       "      <td>Michigan</td>\n",
       "      <td>Lake Michigan Shore</td>\n",
       "      <td>NaN</td>\n",
       "      <td>Alexander Peartree</td>\n",
       "      <td>NaN</td>\n",
       "      <td>St. Julian 2013 Reserve Late Harvest Riesling ...</td>\n",
       "      <td>Riesling</td>\n",
       "      <td>St. Julian</td>\n",
       "    </tr>\n",
       "    <tr>\n",
       "      <th>4</th>\n",
       "      <td>US</td>\n",
       "      <td>Much like the regular bottling from 2012, this...</td>\n",
       "      <td>Vintner's Reserve Wild Child Block</td>\n",
       "      <td>87</td>\n",
       "      <td>65.0</td>\n",
       "      <td>Oregon</td>\n",
       "      <td>Willamette Valley</td>\n",
       "      <td>Willamette Valley</td>\n",
       "      <td>Paul Gregutt</td>\n",
       "      <td>@paulgwine</td>\n",
       "      <td>Sweet Cheeks 2012 Vintner's Reserve Wild Child...</td>\n",
       "      <td>Pinot Noir</td>\n",
       "      <td>Sweet Cheeks</td>\n",
       "    </tr>\n",
       "  </tbody>\n",
       "</table>\n",
       "</div>"
      ],
      "text/plain": [
       "    country                                        description  \\\n",
       "0     Italy  Aromas include tropical fruit, broom, brimston...   \n",
       "1  Portugal  This is ripe and fruity, a wine that is smooth...   \n",
       "2        US  Tart and snappy, the flavors of lime flesh and...   \n",
       "3        US  Pineapple rind, lemon pith and orange blossom ...   \n",
       "4        US  Much like the regular bottling from 2012, this...   \n",
       "\n",
       "                          designation  points  price           province  \\\n",
       "0                        Vulkà Bianco      87    NaN  Sicily & Sardinia   \n",
       "1                            Avidagos      87   15.0              Douro   \n",
       "2                                 NaN      87   14.0             Oregon   \n",
       "3                Reserve Late Harvest      87   13.0           Michigan   \n",
       "4  Vintner's Reserve Wild Child Block      87   65.0             Oregon   \n",
       "\n",
       "              region_1           region_2         taster_name  \\\n",
       "0                 Etna                NaN       Kerin O’Keefe   \n",
       "1                  NaN                NaN          Roger Voss   \n",
       "2    Willamette Valley  Willamette Valley        Paul Gregutt   \n",
       "3  Lake Michigan Shore                NaN  Alexander Peartree   \n",
       "4    Willamette Valley  Willamette Valley        Paul Gregutt   \n",
       "\n",
       "  taster_twitter_handle                                              title  \\\n",
       "0          @kerinokeefe                  Nicosia 2013 Vulkà Bianco  (Etna)   \n",
       "1            @vossroger      Quinta dos Avidagos 2011 Avidagos Red (Douro)   \n",
       "2           @paulgwine       Rainstorm 2013 Pinot Gris (Willamette Valley)   \n",
       "3                   NaN  St. Julian 2013 Reserve Late Harvest Riesling ...   \n",
       "4           @paulgwine   Sweet Cheeks 2012 Vintner's Reserve Wild Child...   \n",
       "\n",
       "          variety               winery  \n",
       "0     White Blend              Nicosia  \n",
       "1  Portuguese Red  Quinta dos Avidagos  \n",
       "2      Pinot Gris            Rainstorm  \n",
       "3        Riesling           St. Julian  \n",
       "4      Pinot Noir         Sweet Cheeks  "
      ]
     },
     "execution_count": 2,
     "metadata": {},
     "output_type": "execute_result"
    }
   ],
   "source": [
    "reviews.head()"
   ]
  },
  {
   "cell_type": "markdown",
   "id": "c05dda94",
   "metadata": {
    "papermill": {
     "duration": 0.014607,
     "end_time": "2022-03-16T07:51:52.036544",
     "exception": false,
     "start_time": "2022-03-16T07:51:52.021937",
     "status": "completed"
    },
    "tags": []
   },
   "source": [
    "## 1.\n",
    "`region_1` and `region_2` are pretty uninformative names for locale columns in the dataset. Create a copy of `reviews` with these columns renamed to `region` and `locale`, respectively."
   ]
  },
  {
   "cell_type": "code",
   "execution_count": 3,
   "id": "738de16a",
   "metadata": {
    "execution": {
     "iopub.execute_input": "2022-03-16T07:51:52.073476Z",
     "iopub.status.busy": "2022-03-16T07:51:52.072452Z",
     "iopub.status.idle": "2022-03-16T07:51:52.105164Z",
     "shell.execute_reply": "2022-03-16T07:51:52.104619Z",
     "shell.execute_reply.started": "2022-03-16T07:44:59.879968Z"
    },
    "papermill": {
     "duration": 0.052765,
     "end_time": "2022-03-16T07:51:52.105307",
     "exception": false,
     "start_time": "2022-03-16T07:51:52.052542",
     "status": "completed"
    },
    "tags": []
   },
   "outputs": [
    {
     "data": {
      "application/javascript": [
       "parent.postMessage({\"jupyterEvent\": \"custom.exercise_interaction\", \"data\": {\"outcomeType\": 1, \"valueTowardsCompletion\": 0.25, \"interactionType\": 1, \"questionType\": 1, \"questionId\": \"1_RenameCols\", \"learnToolsVersion\": \"0.3.4\", \"failureMessage\": \"\", \"exceptionClass\": \"\", \"trace\": \"\"}}, \"*\")"
      ],
      "text/plain": [
       "<IPython.core.display.Javascript object>"
      ]
     },
     "metadata": {},
     "output_type": "display_data"
    },
    {
     "data": {
      "text/markdown": [
       "<span style=\"color:#33cc33\">Correct</span>"
      ],
      "text/plain": [
       "Correct"
      ]
     },
     "metadata": {},
     "output_type": "display_data"
    }
   ],
   "source": [
    "# Your code here\n",
    "renamed = reviews.rename(columns = {'region_1': 'region', 'region_2': 'locale'})\n",
    "\n",
    "# Check your answer\n",
    "q1.check()"
   ]
  },
  {
   "cell_type": "code",
   "execution_count": 4,
   "id": "d0e64818",
   "metadata": {
    "execution": {
     "iopub.execute_input": "2022-03-16T07:51:52.141612Z",
     "iopub.status.busy": "2022-03-16T07:51:52.140948Z",
     "iopub.status.idle": "2022-03-16T07:51:52.142527Z",
     "shell.execute_reply": "2022-03-16T07:51:52.142945Z"
    },
    "papermill": {
     "duration": 0.021746,
     "end_time": "2022-03-16T07:51:52.143124",
     "exception": false,
     "start_time": "2022-03-16T07:51:52.121378",
     "status": "completed"
    },
    "tags": []
   },
   "outputs": [],
   "source": [
    "#q1.hint()\n",
    "#q1.solution()"
   ]
  },
  {
   "cell_type": "markdown",
   "id": "45eacdc0",
   "metadata": {
    "papermill": {
     "duration": 0.015569,
     "end_time": "2022-03-16T07:51:52.174916",
     "exception": false,
     "start_time": "2022-03-16T07:51:52.159347",
     "status": "completed"
    },
    "tags": []
   },
   "source": [
    "## 2.\n",
    "Set the index name in the dataset to `wines`."
   ]
  },
  {
   "cell_type": "code",
   "execution_count": 5,
   "id": "2756d704",
   "metadata": {
    "execution": {
     "iopub.execute_input": "2022-03-16T07:51:52.211670Z",
     "iopub.status.busy": "2022-03-16T07:51:52.211060Z",
     "iopub.status.idle": "2022-03-16T07:51:52.240959Z",
     "shell.execute_reply": "2022-03-16T07:51:52.241530Z",
     "shell.execute_reply.started": "2022-03-16T07:46:24.662146Z"
    },
    "papermill": {
     "duration": 0.048954,
     "end_time": "2022-03-16T07:51:52.241697",
     "exception": false,
     "start_time": "2022-03-16T07:51:52.192743",
     "status": "completed"
    },
    "tags": []
   },
   "outputs": [
    {
     "data": {
      "application/javascript": [
       "parent.postMessage({\"jupyterEvent\": \"custom.exercise_interaction\", \"data\": {\"outcomeType\": 1, \"valueTowardsCompletion\": 0.25, \"interactionType\": 1, \"questionType\": 1, \"questionId\": \"2_RenameIndex\", \"learnToolsVersion\": \"0.3.4\", \"failureMessage\": \"\", \"exceptionClass\": \"\", \"trace\": \"\"}}, \"*\")"
      ],
      "text/plain": [
       "<IPython.core.display.Javascript object>"
      ]
     },
     "metadata": {},
     "output_type": "display_data"
    },
    {
     "data": {
      "text/markdown": [
       "<span style=\"color:#33cc33\">Correct</span>"
      ],
      "text/plain": [
       "Correct"
      ]
     },
     "metadata": {},
     "output_type": "display_data"
    }
   ],
   "source": [
    "reindexed = reviews.rename_axis('wines', axis = 'rows')\n",
    "\n",
    "# Check your answer\n",
    "q2.check()"
   ]
  },
  {
   "cell_type": "code",
   "execution_count": 6,
   "id": "8c86533c",
   "metadata": {
    "execution": {
     "iopub.execute_input": "2022-03-16T07:51:52.280575Z",
     "iopub.status.busy": "2022-03-16T07:51:52.279696Z",
     "iopub.status.idle": "2022-03-16T07:51:52.282607Z",
     "shell.execute_reply": "2022-03-16T07:51:52.283024Z"
    },
    "papermill": {
     "duration": 0.024058,
     "end_time": "2022-03-16T07:51:52.283193",
     "exception": false,
     "start_time": "2022-03-16T07:51:52.259135",
     "status": "completed"
    },
    "tags": []
   },
   "outputs": [],
   "source": [
    "#q2.hint()\n",
    "#q2.solution()"
   ]
  },
  {
   "cell_type": "markdown",
   "id": "f107b09f",
   "metadata": {
    "papermill": {
     "duration": 0.017196,
     "end_time": "2022-03-16T07:51:52.317311",
     "exception": false,
     "start_time": "2022-03-16T07:51:52.300115",
     "status": "completed"
    },
    "tags": []
   },
   "source": [
    "## 3.\n",
    "The [Things on Reddit](https://www.kaggle.com/residentmario/things-on-reddit/data) dataset includes product links from a selection of top-ranked forums (\"subreddits\") on reddit.com. Run the cell below to load a dataframe of products mentioned on the */r/gaming* subreddit and another dataframe for products mentioned on the *r//movies* subreddit."
   ]
  },
  {
   "cell_type": "code",
   "execution_count": 7,
   "id": "1fc34105",
   "metadata": {
    "execution": {
     "iopub.execute_input": "2022-03-16T07:51:52.354272Z",
     "iopub.status.busy": "2022-03-16T07:51:52.353587Z",
     "iopub.status.idle": "2022-03-16T07:51:52.367550Z",
     "shell.execute_reply": "2022-03-16T07:51:52.368062Z",
     "shell.execute_reply.started": "2022-03-16T07:46:30.268285Z"
    },
    "papermill": {
     "duration": 0.034073,
     "end_time": "2022-03-16T07:51:52.368238",
     "exception": false,
     "start_time": "2022-03-16T07:51:52.334165",
     "status": "completed"
    },
    "tags": []
   },
   "outputs": [],
   "source": [
    "gaming_products = pd.read_csv(\"../input/things-on-reddit/top-things/top-things/reddits/g/gaming.csv\")\n",
    "gaming_products['subreddit'] = \"r/gaming\"\n",
    "movie_products = pd.read_csv(\"../input/things-on-reddit/top-things/top-things/reddits/m/movies.csv\")\n",
    "movie_products['subreddit'] = \"r/movies\""
   ]
  },
  {
   "cell_type": "markdown",
   "id": "9b02d18a",
   "metadata": {
    "papermill": {
     "duration": 0.016449,
     "end_time": "2022-03-16T07:51:52.401732",
     "exception": false,
     "start_time": "2022-03-16T07:51:52.385283",
     "status": "completed"
    },
    "tags": []
   },
   "source": [
    "Create a `DataFrame` of products mentioned on *either* subreddit."
   ]
  },
  {
   "cell_type": "code",
   "execution_count": 8,
   "id": "a2ae55a6",
   "metadata": {
    "execution": {
     "iopub.execute_input": "2022-03-16T07:51:52.438844Z",
     "iopub.status.busy": "2022-03-16T07:51:52.438252Z",
     "iopub.status.idle": "2022-03-16T07:51:52.448105Z",
     "shell.execute_reply": "2022-03-16T07:51:52.448542Z",
     "shell.execute_reply.started": "2022-03-16T07:48:23.314231Z"
    },
    "papermill": {
     "duration": 0.02997,
     "end_time": "2022-03-16T07:51:52.448703",
     "exception": false,
     "start_time": "2022-03-16T07:51:52.418733",
     "status": "completed"
    },
    "tags": []
   },
   "outputs": [
    {
     "data": {
      "application/javascript": [
       "parent.postMessage({\"jupyterEvent\": \"custom.exercise_interaction\", \"data\": {\"outcomeType\": 1, \"valueTowardsCompletion\": 0.25, \"interactionType\": 1, \"questionType\": 2, \"questionId\": \"3_ConcatReddit\", \"learnToolsVersion\": \"0.3.4\", \"failureMessage\": \"\", \"exceptionClass\": \"\", \"trace\": \"\"}}, \"*\")"
      ],
      "text/plain": [
       "<IPython.core.display.Javascript object>"
      ]
     },
     "metadata": {},
     "output_type": "display_data"
    },
    {
     "data": {
      "text/markdown": [
       "<span style=\"color:#33cc33\">Correct</span>"
      ],
      "text/plain": [
       "Correct"
      ]
     },
     "metadata": {},
     "output_type": "display_data"
    }
   ],
   "source": [
    "# combined_products = pd.concat(['gaming_products, movie_products'])\n",
    "combined_products = pd.concat([gaming_products, movie_products])\n",
    "\n",
    "# Check your answer\n",
    "q3.check()"
   ]
  },
  {
   "cell_type": "code",
   "execution_count": 9,
   "id": "50e41ff5",
   "metadata": {
    "execution": {
     "iopub.execute_input": "2022-03-16T07:51:52.487754Z",
     "iopub.status.busy": "2022-03-16T07:51:52.487161Z",
     "iopub.status.idle": "2022-03-16T07:51:52.489658Z",
     "shell.execute_reply": "2022-03-16T07:51:52.490076Z"
    },
    "papermill": {
     "duration": 0.023482,
     "end_time": "2022-03-16T07:51:52.490246",
     "exception": false,
     "start_time": "2022-03-16T07:51:52.466764",
     "status": "completed"
    },
    "tags": []
   },
   "outputs": [],
   "source": [
    "#q3.hint()\n",
    "#q3.solution()"
   ]
  },
  {
   "cell_type": "markdown",
   "id": "33418b13",
   "metadata": {
    "papermill": {
     "duration": 0.017811,
     "end_time": "2022-03-16T07:51:52.526153",
     "exception": false,
     "start_time": "2022-03-16T07:51:52.508342",
     "status": "completed"
    },
    "tags": []
   },
   "source": [
    "## 4.\n",
    "The [Powerlifting Database](https://www.kaggle.com/open-powerlifting/powerlifting-database) dataset on Kaggle includes one CSV table for powerlifting meets and a separate one for powerlifting competitors. Run the cell below to load these datasets into dataframes:"
   ]
  },
  {
   "cell_type": "code",
   "execution_count": 10,
   "id": "cefea14d",
   "metadata": {
    "execution": {
     "iopub.execute_input": "2022-03-16T07:51:52.565392Z",
     "iopub.status.busy": "2022-03-16T07:51:52.564797Z",
     "iopub.status.idle": "2022-03-16T07:51:53.273146Z",
     "shell.execute_reply": "2022-03-16T07:51:53.272574Z",
     "shell.execute_reply.started": "2022-03-16T07:50:03.698829Z"
    },
    "papermill": {
     "duration": 0.729009,
     "end_time": "2022-03-16T07:51:53.273292",
     "exception": false,
     "start_time": "2022-03-16T07:51:52.544283",
     "status": "completed"
    },
    "tags": []
   },
   "outputs": [],
   "source": [
    "powerlifting_meets = pd.read_csv(\"../input/powerlifting-database/meets.csv\")\n",
    "powerlifting_competitors = pd.read_csv(\"../input/powerlifting-database/openpowerlifting.csv\")"
   ]
  },
  {
   "cell_type": "markdown",
   "id": "294441bc",
   "metadata": {
    "papermill": {
     "duration": 0.017534,
     "end_time": "2022-03-16T07:51:53.309144",
     "exception": false,
     "start_time": "2022-03-16T07:51:53.291610",
     "status": "completed"
    },
    "tags": []
   },
   "source": [
    "Both tables include references to a `MeetID`, a unique key for each meet (competition) included in the database. Using this, generate a dataset combining the two tables into one."
   ]
  },
  {
   "cell_type": "code",
   "execution_count": 11,
   "id": "4504bcaf",
   "metadata": {
    "execution": {
     "iopub.execute_input": "2022-03-16T07:51:53.348655Z",
     "iopub.status.busy": "2022-03-16T07:51:53.347684Z",
     "iopub.status.idle": "2022-03-16T07:51:54.113851Z",
     "shell.execute_reply": "2022-03-16T07:51:54.113275Z",
     "shell.execute_reply.started": "2022-03-16T07:51:17.200446Z"
    },
    "papermill": {
     "duration": 0.787031,
     "end_time": "2022-03-16T07:51:54.113989",
     "exception": false,
     "start_time": "2022-03-16T07:51:53.326958",
     "status": "completed"
    },
    "tags": []
   },
   "outputs": [
    {
     "data": {
      "application/javascript": [
       "parent.postMessage({\"jupyterEvent\": \"custom.exercise_interaction\", \"data\": {\"outcomeType\": 1, \"valueTowardsCompletion\": 0.25, \"interactionType\": 1, \"questionType\": 2, \"questionId\": \"4_JoinLifting\", \"learnToolsVersion\": \"0.3.4\", \"failureMessage\": \"\", \"exceptionClass\": \"\", \"trace\": \"\"}}, \"*\")"
      ],
      "text/plain": [
       "<IPython.core.display.Javascript object>"
      ]
     },
     "metadata": {},
     "output_type": "display_data"
    },
    {
     "data": {
      "text/markdown": [
       "<span style=\"color:#33cc33\">Correct</span>"
      ],
      "text/plain": [
       "Correct"
      ]
     },
     "metadata": {},
     "output_type": "display_data"
    }
   ],
   "source": [
    "powerlifting_combined = powerlifting_meets.set_index('MeetID').join(powerlifting_competitors.set_index('MeetID'))\n",
    "\n",
    "# Check your answer\n",
    "q4.check()"
   ]
  },
  {
   "cell_type": "code",
   "execution_count": 12,
   "id": "31907618",
   "metadata": {
    "execution": {
     "iopub.execute_input": "2022-03-16T07:51:54.156018Z",
     "iopub.status.busy": "2022-03-16T07:51:54.155380Z",
     "iopub.status.idle": "2022-03-16T07:51:54.158535Z",
     "shell.execute_reply": "2022-03-16T07:51:54.159053Z"
    },
    "papermill": {
     "duration": 0.02612,
     "end_time": "2022-03-16T07:51:54.159231",
     "exception": false,
     "start_time": "2022-03-16T07:51:54.133111",
     "status": "completed"
    },
    "tags": []
   },
   "outputs": [],
   "source": [
    "#q4.hint()\n",
    "#q4.solution()"
   ]
  },
  {
   "cell_type": "markdown",
   "id": "8562af93",
   "metadata": {
    "papermill": {
     "duration": 0.018682,
     "end_time": "2022-03-16T07:51:54.197764",
     "exception": false,
     "start_time": "2022-03-16T07:51:54.179082",
     "status": "completed"
    },
    "tags": []
   },
   "source": [
    "# Congratulations!\n",
    "\n",
    "You've finished the Pandas micro-course.  Many data scientists feel efficiency with Pandas is the most useful and practical skill they have, because it allows you to progress quickly in any project you have.\n",
    "\n",
    "If you'd like to apply your new skills to examining geospatial data, you're encouraged to check out our **[Geospatial Analysis](https://www.kaggle.com/learn/geospatial-analysis)** micro-course.\n",
    "\n",
    "You can also take advantage of your Pandas skills by entering a **[Kaggle Competition](https://www.kaggle.com/competitions)** or by answering a question you find interesting using **[Kaggle Datasets](https://www.kaggle.com/datasets)**."
   ]
  },
  {
   "cell_type": "markdown",
   "id": "5d0962a3",
   "metadata": {
    "papermill": {
     "duration": 0.01872,
     "end_time": "2022-03-16T07:51:54.235429",
     "exception": false,
     "start_time": "2022-03-16T07:51:54.216709",
     "status": "completed"
    },
    "tags": []
   },
   "source": [
    "---\n",
    "\n",
    "\n",
    "\n",
    "\n",
    "*Have questions or comments? Visit the [course discussion forum](https://www.kaggle.com/learn/pandas/discussion) to chat with other learners.*"
   ]
  }
 ],
 "metadata": {
  "kernelspec": {
   "display_name": "Python 3",
   "language": "python",
   "name": "python3"
  },
  "language_info": {
   "codemirror_mode": {
    "name": "ipython",
    "version": 3
   },
   "file_extension": ".py",
   "mimetype": "text/x-python",
   "name": "python",
   "nbconvert_exporter": "python",
   "pygments_lexer": "ipython3",
   "version": "3.7.12"
  },
  "papermill": {
   "default_parameters": {},
   "duration": 15.941756,
   "end_time": "2022-03-16T07:51:54.964608",
   "environment_variables": {},
   "exception": null,
   "input_path": "__notebook__.ipynb",
   "output_path": "__notebook__.ipynb",
   "parameters": {},
   "start_time": "2022-03-16T07:51:39.022852",
   "version": "2.3.3"
  }
 },
 "nbformat": 4,
 "nbformat_minor": 5
}
