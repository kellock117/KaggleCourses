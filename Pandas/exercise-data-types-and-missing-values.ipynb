{
 "cells": [
  {
   "cell_type": "markdown",
   "id": "cb338ecb",
   "metadata": {
    "papermill": {
     "duration": 0.024024,
     "end_time": "2022-03-16T07:38:23.861452",
     "exception": false,
     "start_time": "2022-03-16T07:38:23.837428",
     "status": "completed"
    },
    "tags": []
   },
   "source": [
    "**This notebook is an exercise in the [Pandas](https://www.kaggle.com/learn/pandas) course.  You can reference the tutorial at [this link](https://www.kaggle.com/residentmario/data-types-and-missing-values).**\n",
    "\n",
    "---\n"
   ]
  },
  {
   "cell_type": "markdown",
   "id": "efd1e345",
   "metadata": {
    "papermill": {
     "duration": 0.019157,
     "end_time": "2022-03-16T07:38:23.905007",
     "exception": false,
     "start_time": "2022-03-16T07:38:23.885850",
     "status": "completed"
    },
    "tags": []
   },
   "source": [
    "# Introduction\n",
    "\n",
    "Run the following cell to load your data and some utility functions."
   ]
  },
  {
   "cell_type": "code",
   "execution_count": 1,
   "id": "873b8bc8",
   "metadata": {
    "execution": {
     "iopub.execute_input": "2022-03-16T07:38:23.947994Z",
     "iopub.status.busy": "2022-03-16T07:38:23.946758Z",
     "iopub.status.idle": "2022-03-16T07:38:26.432776Z",
     "shell.execute_reply": "2022-03-16T07:38:26.431836Z",
     "shell.execute_reply.started": "2022-03-16T07:27:53.231189Z"
    },
    "papermill": {
     "duration": 2.50872,
     "end_time": "2022-03-16T07:38:26.432964",
     "exception": false,
     "start_time": "2022-03-16T07:38:23.924244",
     "status": "completed"
    },
    "tags": []
   },
   "outputs": [
    {
     "name": "stdout",
     "output_type": "stream",
     "text": [
      "Setup complete.\n"
     ]
    }
   ],
   "source": [
    "import pandas as pd\n",
    "\n",
    "reviews = pd.read_csv(\"../input/wine-reviews/winemag-data-130k-v2.csv\", index_col=0)\n",
    "\n",
    "from learntools.core import binder; binder.bind(globals())\n",
    "from learntools.pandas.data_types_and_missing_data import *\n",
    "print(\"Setup complete.\")"
   ]
  },
  {
   "cell_type": "markdown",
   "id": "6b150e2b",
   "metadata": {
    "papermill": {
     "duration": 0.019055,
     "end_time": "2022-03-16T07:38:26.472440",
     "exception": false,
     "start_time": "2022-03-16T07:38:26.453385",
     "status": "completed"
    },
    "tags": []
   },
   "source": [
    "# Exercises"
   ]
  },
  {
   "cell_type": "markdown",
   "id": "7e15ae2b",
   "metadata": {
    "papermill": {
     "duration": 0.019249,
     "end_time": "2022-03-16T07:38:26.511149",
     "exception": false,
     "start_time": "2022-03-16T07:38:26.491900",
     "status": "completed"
    },
    "tags": []
   },
   "source": [
    "## 1. \n",
    "What is the data type of the `points` column in the dataset?"
   ]
  },
  {
   "cell_type": "code",
   "execution_count": 2,
   "id": "fbb5f01b",
   "metadata": {
    "execution": {
     "iopub.execute_input": "2022-03-16T07:38:26.555137Z",
     "iopub.status.busy": "2022-03-16T07:38:26.554235Z",
     "iopub.status.idle": "2022-03-16T07:38:26.563971Z",
     "shell.execute_reply": "2022-03-16T07:38:26.563399Z",
     "shell.execute_reply.started": "2022-03-16T07:27:59.870498Z"
    },
    "papermill": {
     "duration": 0.033183,
     "end_time": "2022-03-16T07:38:26.564131",
     "exception": false,
     "start_time": "2022-03-16T07:38:26.530948",
     "status": "completed"
    },
    "tags": []
   },
   "outputs": [
    {
     "data": {
      "application/javascript": [
       "parent.postMessage({\"jupyterEvent\": \"custom.exercise_interaction\", \"data\": {\"outcomeType\": 1, \"valueTowardsCompletion\": 0.25, \"interactionType\": 1, \"questionType\": 1, \"questionId\": \"1_PointsDtype\", \"learnToolsVersion\": \"0.3.4\", \"failureMessage\": \"\", \"exceptionClass\": \"\", \"trace\": \"\"}}, \"*\")"
      ],
      "text/plain": [
       "<IPython.core.display.Javascript object>"
      ]
     },
     "metadata": {},
     "output_type": "display_data"
    },
    {
     "data": {
      "text/markdown": [
       "<span style=\"color:#33cc33\">Correct</span>"
      ],
      "text/plain": [
       "Correct"
      ]
     },
     "metadata": {},
     "output_type": "display_data"
    }
   ],
   "source": [
    "# Your code here\n",
    "dtype = reviews['points'].dtype\n",
    "\n",
    "# Check your answer\n",
    "q1.check()"
   ]
  },
  {
   "cell_type": "code",
   "execution_count": 3,
   "id": "8a742619",
   "metadata": {
    "execution": {
     "iopub.execute_input": "2022-03-16T07:38:26.610547Z",
     "iopub.status.busy": "2022-03-16T07:38:26.609872Z",
     "iopub.status.idle": "2022-03-16T07:38:26.611866Z",
     "shell.execute_reply": "2022-03-16T07:38:26.612413Z"
    },
    "papermill": {
     "duration": 0.027286,
     "end_time": "2022-03-16T07:38:26.612574",
     "exception": false,
     "start_time": "2022-03-16T07:38:26.585288",
     "status": "completed"
    },
    "tags": []
   },
   "outputs": [],
   "source": [
    "#q1.hint()\n",
    "#q1.solution()"
   ]
  },
  {
   "cell_type": "markdown",
   "id": "3f60b80b",
   "metadata": {
    "papermill": {
     "duration": 0.020789,
     "end_time": "2022-03-16T07:38:26.655264",
     "exception": false,
     "start_time": "2022-03-16T07:38:26.634475",
     "status": "completed"
    },
    "tags": []
   },
   "source": [
    "## 2. \n",
    "Create a Series from entries in the `points` column, but convert the entries to strings. Hint: strings are `str` in native Python."
   ]
  },
  {
   "cell_type": "code",
   "execution_count": 4,
   "id": "9f79a8c7",
   "metadata": {
    "execution": {
     "iopub.execute_input": "2022-03-16T07:38:26.702560Z",
     "iopub.status.busy": "2022-03-16T07:38:26.701792Z",
     "iopub.status.idle": "2022-03-16T07:38:26.837268Z",
     "shell.execute_reply": "2022-03-16T07:38:26.836586Z",
     "shell.execute_reply.started": "2022-03-16T07:28:21.465221Z"
    },
    "papermill": {
     "duration": 0.160723,
     "end_time": "2022-03-16T07:38:26.837426",
     "exception": false,
     "start_time": "2022-03-16T07:38:26.676703",
     "status": "completed"
    },
    "tags": []
   },
   "outputs": [
    {
     "data": {
      "application/javascript": [
       "parent.postMessage({\"jupyterEvent\": \"custom.exercise_interaction\", \"data\": {\"outcomeType\": 1, \"valueTowardsCompletion\": 0.25, \"interactionType\": 1, \"questionType\": 1, \"questionId\": \"2_StrPoints\", \"learnToolsVersion\": \"0.3.4\", \"failureMessage\": \"\", \"exceptionClass\": \"\", \"trace\": \"\"}}, \"*\")"
      ],
      "text/plain": [
       "<IPython.core.display.Javascript object>"
      ]
     },
     "metadata": {},
     "output_type": "display_data"
    },
    {
     "data": {
      "text/markdown": [
       "<span style=\"color:#33cc33\">Correct</span>"
      ],
      "text/plain": [
       "Correct"
      ]
     },
     "metadata": {},
     "output_type": "display_data"
    }
   ],
   "source": [
    "point_strings = reviews['points'].astype(str)\n",
    "\n",
    "# Check your answer\n",
    "q2.check()"
   ]
  },
  {
   "cell_type": "code",
   "execution_count": 5,
   "id": "24c276fc",
   "metadata": {
    "execution": {
     "iopub.execute_input": "2022-03-16T07:38:26.887939Z",
     "iopub.status.busy": "2022-03-16T07:38:26.887026Z",
     "iopub.status.idle": "2022-03-16T07:38:26.889904Z",
     "shell.execute_reply": "2022-03-16T07:38:26.890508Z"
    },
    "papermill": {
     "duration": 0.029465,
     "end_time": "2022-03-16T07:38:26.890706",
     "exception": false,
     "start_time": "2022-03-16T07:38:26.861241",
     "status": "completed"
    },
    "tags": []
   },
   "outputs": [],
   "source": [
    "#q2.hint()\n",
    "#q2.solution()"
   ]
  },
  {
   "cell_type": "markdown",
   "id": "7b05d6a3",
   "metadata": {
    "papermill": {
     "duration": 0.026259,
     "end_time": "2022-03-16T07:38:26.940342",
     "exception": false,
     "start_time": "2022-03-16T07:38:26.914083",
     "status": "completed"
    },
    "tags": []
   },
   "source": [
    "## 3.\n",
    "Sometimes the price column is null. How many reviews in the dataset are missing a price?"
   ]
  },
  {
   "cell_type": "code",
   "execution_count": 6,
   "id": "d57d9496",
   "metadata": {
    "execution": {
     "iopub.execute_input": "2022-03-16T07:38:26.990343Z",
     "iopub.status.busy": "2022-03-16T07:38:26.989409Z",
     "iopub.status.idle": "2022-03-16T07:38:26.996185Z",
     "shell.execute_reply": "2022-03-16T07:38:26.996853Z",
     "shell.execute_reply.started": "2022-03-16T07:34:02.508959Z"
    },
    "papermill": {
     "duration": 0.033255,
     "end_time": "2022-03-16T07:38:26.997029",
     "exception": false,
     "start_time": "2022-03-16T07:38:26.963774",
     "status": "completed"
    },
    "tags": []
   },
   "outputs": [
    {
     "data": {
      "application/javascript": [
       "parent.postMessage({\"jupyterEvent\": \"custom.exercise_interaction\", \"data\": {\"outcomeType\": 1, \"valueTowardsCompletion\": 0.25, \"interactionType\": 1, \"questionType\": 1, \"questionId\": \"3_CountMissingPrices\", \"learnToolsVersion\": \"0.3.4\", \"failureMessage\": \"\", \"exceptionClass\": \"\", \"trace\": \"\"}}, \"*\")"
      ],
      "text/plain": [
       "<IPython.core.display.Javascript object>"
      ]
     },
     "metadata": {},
     "output_type": "display_data"
    },
    {
     "data": {
      "text/markdown": [
       "<span style=\"color:#33cc33\">Correct</span>"
      ],
      "text/plain": [
       "Correct"
      ]
     },
     "metadata": {},
     "output_type": "display_data"
    }
   ],
   "source": [
    "n_missing_prices = reviews['price'].isnull().sum()\n",
    "\n",
    "# Check your answer\n",
    "q3.check()"
   ]
  },
  {
   "cell_type": "code",
   "execution_count": 7,
   "id": "38b693dd",
   "metadata": {
    "execution": {
     "iopub.execute_input": "2022-03-16T07:38:27.050328Z",
     "iopub.status.busy": "2022-03-16T07:38:27.049289Z",
     "iopub.status.idle": "2022-03-16T07:38:27.055585Z",
     "shell.execute_reply": "2022-03-16T07:38:27.056168Z",
     "shell.execute_reply.started": "2022-03-16T07:34:08.281707Z"
    },
    "papermill": {
     "duration": 0.03462,
     "end_time": "2022-03-16T07:38:27.056346",
     "exception": false,
     "start_time": "2022-03-16T07:38:27.021726",
     "status": "completed"
    },
    "tags": []
   },
   "outputs": [
    {
     "data": {
      "application/javascript": [
       "parent.postMessage({\"jupyterEvent\": \"custom.exercise_interaction\", \"data\": {\"interactionType\": 3, \"questionType\": 1, \"questionId\": \"3_CountMissingPrices\", \"learnToolsVersion\": \"0.3.4\", \"valueTowardsCompletion\": 0.0, \"failureMessage\": \"\", \"exceptionClass\": \"\", \"trace\": \"\", \"outcomeType\": 4}}, \"*\")"
      ],
      "text/plain": [
       "<IPython.core.display.Javascript object>"
      ]
     },
     "metadata": {},
     "output_type": "display_data"
    },
    {
     "data": {
      "text/markdown": [
       "<span style=\"color:#33cc99\">Solution:</span> \n",
       "```python\n",
       "missing_price_reviews = reviews[reviews.price.isnull()]\n",
       "n_missing_prices = len(missing_price_reviews)\n",
       "# Cute alternative solution: if we sum a boolean series, True is treated as 1 and False as 0\n",
       "n_missing_prices = reviews.price.isnull().sum()\n",
       "# or equivalently:\n",
       "n_missing_prices = pd.isnull(reviews.price).sum()\n",
       "\n",
       "```"
      ],
      "text/plain": [
       "Solution: \n",
       "```python\n",
       "missing_price_reviews = reviews[reviews.price.isnull()]\n",
       "n_missing_prices = len(missing_price_reviews)\n",
       "# Cute alternative solution: if we sum a boolean series, True is treated as 1 and False as 0\n",
       "n_missing_prices = reviews.price.isnull().sum()\n",
       "# or equivalently:\n",
       "n_missing_prices = pd.isnull(reviews.price).sum()\n",
       "\n",
       "```"
      ]
     },
     "metadata": {},
     "output_type": "display_data"
    }
   ],
   "source": [
    "#q3.hint()\n",
    "q3.solution()"
   ]
  },
  {
   "cell_type": "markdown",
   "id": "8f336e39",
   "metadata": {
    "papermill": {
     "duration": 0.026413,
     "end_time": "2022-03-16T07:38:27.109965",
     "exception": false,
     "start_time": "2022-03-16T07:38:27.083552",
     "status": "completed"
    },
    "tags": []
   },
   "source": [
    "## 4.\n",
    "What are the most common wine-producing regions? Create a Series counting the number of times each value occurs in the `region_1` field. This field is often missing data, so replace missing values with `Unknown`. Sort in descending order.  Your output should look something like this:\n",
    "\n",
    "```\n",
    "Unknown                    21247\n",
    "Napa Valley                 4480\n",
    "                           ...  \n",
    "Bardolino Superiore            1\n",
    "Primitivo del Tarantino        1\n",
    "Name: region_1, Length: 1230, dtype: int64\n",
    "```"
   ]
  },
  {
   "cell_type": "code",
   "execution_count": 8,
   "id": "65cba61c",
   "metadata": {
    "execution": {
     "iopub.execute_input": "2022-03-16T07:38:27.166488Z",
     "iopub.status.busy": "2022-03-16T07:38:27.165571Z",
     "iopub.status.idle": "2022-03-16T07:38:27.212932Z",
     "shell.execute_reply": "2022-03-16T07:38:27.212306Z",
     "shell.execute_reply.started": "2022-03-16T07:37:55.016284Z"
    },
    "papermill": {
     "duration": 0.076557,
     "end_time": "2022-03-16T07:38:27.213103",
     "exception": false,
     "start_time": "2022-03-16T07:38:27.136546",
     "status": "completed"
    },
    "tags": []
   },
   "outputs": [
    {
     "name": "stdout",
     "output_type": "stream",
     "text": [
      "False\n"
     ]
    },
    {
     "data": {
      "application/javascript": [
       "parent.postMessage({\"jupyterEvent\": \"custom.exercise_interaction\", \"data\": {\"outcomeType\": 1, \"valueTowardsCompletion\": 0.25, \"interactionType\": 1, \"questionType\": 2, \"questionId\": \"4_ReviewsPerRegion\", \"learnToolsVersion\": \"0.3.4\", \"failureMessage\": \"\", \"exceptionClass\": \"\", \"trace\": \"\"}}, \"*\")"
      ],
      "text/plain": [
       "<IPython.core.display.Javascript object>"
      ]
     },
     "metadata": {},
     "output_type": "display_data"
    },
    {
     "data": {
      "text/markdown": [
       "<span style=\"color:#33cc33\">Correct</span>"
      ],
      "text/plain": [
       "Correct"
      ]
     },
     "metadata": {},
     "output_type": "display_data"
    }
   ],
   "source": [
    "reviews['region_1'].fillna('Unknown', inplace = True)\n",
    "print(reviews['region_1'].isnull().any())\n",
    "\n",
    "reviews_per_region = reviews.groupby('region_1').size().sort_values(ascending = False)\n",
    "\n",
    "# Check your answer\n",
    "q4.check()"
   ]
  },
  {
   "cell_type": "code",
   "execution_count": 9,
   "id": "584063c8",
   "metadata": {
    "execution": {
     "iopub.execute_input": "2022-03-16T07:38:27.274909Z",
     "iopub.status.busy": "2022-03-16T07:38:27.274249Z",
     "iopub.status.idle": "2022-03-16T07:38:27.277401Z",
     "shell.execute_reply": "2022-03-16T07:38:27.276856Z"
    },
    "papermill": {
     "duration": 0.035793,
     "end_time": "2022-03-16T07:38:27.277537",
     "exception": false,
     "start_time": "2022-03-16T07:38:27.241744",
     "status": "completed"
    },
    "tags": []
   },
   "outputs": [],
   "source": [
    "#q4.hint()\n",
    "#q4.solution()"
   ]
  },
  {
   "cell_type": "markdown",
   "id": "b59b59fc",
   "metadata": {
    "papermill": {
     "duration": 0.018588,
     "end_time": "2022-03-16T07:38:27.315367",
     "exception": false,
     "start_time": "2022-03-16T07:38:27.296779",
     "status": "completed"
    },
    "tags": []
   },
   "source": [
    "# Keep going\n",
    "\n",
    "Move on to **[renaming and combining](https://www.kaggle.com/residentmario/renaming-and-combining)**."
   ]
  },
  {
   "cell_type": "markdown",
   "id": "8ab90d55",
   "metadata": {
    "papermill": {
     "duration": 0.01825,
     "end_time": "2022-03-16T07:38:27.352393",
     "exception": false,
     "start_time": "2022-03-16T07:38:27.334143",
     "status": "completed"
    },
    "tags": []
   },
   "source": [
    "---\n",
    "\n",
    "\n",
    "\n",
    "\n",
    "*Have questions or comments? Visit the [course discussion forum](https://www.kaggle.com/learn/pandas/discussion) to chat with other learners.*"
   ]
  }
 ],
 "metadata": {
  "kernelspec": {
   "display_name": "Python 3",
   "language": "python",
   "name": "python3"
  },
  "language_info": {
   "codemirror_mode": {
    "name": "ipython",
    "version": 3
   },
   "file_extension": ".py",
   "mimetype": "text/x-python",
   "name": "python",
   "nbconvert_exporter": "python",
   "pygments_lexer": "ipython3",
   "version": "3.7.12"
  },
  "papermill": {
   "default_parameters": {},
   "duration": 13.211748,
   "end_time": "2022-03-16T07:38:28.182247",
   "environment_variables": {},
   "exception": null,
   "input_path": "__notebook__.ipynb",
   "output_path": "__notebook__.ipynb",
   "parameters": {},
   "start_time": "2022-03-16T07:38:14.970499",
   "version": "2.3.3"
  }
 },
 "nbformat": 4,
 "nbformat_minor": 5
}
