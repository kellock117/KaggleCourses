{
 "cells": [
  {
   "cell_type": "markdown",
   "id": "b215c8d7",
   "metadata": {
    "papermill": {
     "duration": 0.027289,
     "end_time": "2022-03-14T14:09:41.469081",
     "exception": false,
     "start_time": "2022-03-14T14:09:41.441792",
     "status": "completed"
    },
    "tags": []
   },
   "source": [
    "**This notebook is an exercise in the [Python](https://www.kaggle.com/learn/python) course.  You can reference the tutorial at [this link](https://www.kaggle.com/colinmorris/booleans-and-conditionals).**\n",
    "\n",
    "---\n"
   ]
  },
  {
   "cell_type": "markdown",
   "id": "a8e1de78",
   "metadata": {
    "papermill": {
     "duration": 0.02583,
     "end_time": "2022-03-14T14:09:41.521433",
     "exception": false,
     "start_time": "2022-03-14T14:09:41.495603",
     "status": "completed"
    },
    "tags": []
   },
   "source": [
    "In this exercise, you'll put to work what you have learned about booleans and conditionals.\n",
    "\n",
    "To get started, **run the setup code below** before writing your own code (and if you leave this notebook and come back later, don't forget to run the setup code again)."
   ]
  },
  {
   "cell_type": "code",
   "execution_count": 1,
   "id": "3de99998",
   "metadata": {
    "execution": {
     "iopub.execute_input": "2022-03-14T14:09:41.577041Z",
     "iopub.status.busy": "2022-03-14T14:09:41.575941Z",
     "iopub.status.idle": "2022-03-14T14:09:41.614263Z",
     "shell.execute_reply": "2022-03-14T14:09:41.615030Z",
     "shell.execute_reply.started": "2022-03-14T12:59:11.528282Z"
    },
    "papermill": {
     "duration": 0.06798,
     "end_time": "2022-03-14T14:09:41.615498",
     "exception": false,
     "start_time": "2022-03-14T14:09:41.547518",
     "status": "completed"
    },
    "tags": []
   },
   "outputs": [
    {
     "name": "stdout",
     "output_type": "stream",
     "text": [
      "Setup complete.\n"
     ]
    }
   ],
   "source": [
    "from learntools.core import binder; binder.bind(globals())\n",
    "from learntools.python.ex3 import *\n",
    "print('Setup complete.')"
   ]
  },
  {
   "cell_type": "markdown",
   "id": "11a610c4",
   "metadata": {
    "papermill": {
     "duration": 0.026063,
     "end_time": "2022-03-14T14:09:41.672366",
     "exception": false,
     "start_time": "2022-03-14T14:09:41.646303",
     "status": "completed"
    },
    "tags": []
   },
   "source": [
    "# 1.\n",
    "\n",
    "Many programming languages have [`sign`](https://en.wikipedia.org/wiki/Sign_function) available as a built-in function. Python doesn't, but we can define our own!\n",
    "\n",
    "In the cell below, define a function called `sign` which takes a numerical argument and returns -1 if it's negative, 1 if it's positive, and 0 if it's 0."
   ]
  },
  {
   "cell_type": "code",
   "execution_count": 2,
   "id": "21535a92",
   "metadata": {
    "execution": {
     "iopub.execute_input": "2022-03-14T14:09:41.732486Z",
     "iopub.status.busy": "2022-03-14T14:09:41.731511Z",
     "iopub.status.idle": "2022-03-14T14:09:41.736759Z",
     "shell.execute_reply": "2022-03-14T14:09:41.737234Z",
     "shell.execute_reply.started": "2022-03-14T13:00:28.088821Z"
    },
    "papermill": {
     "duration": 0.039044,
     "end_time": "2022-03-14T14:09:41.737394",
     "exception": false,
     "start_time": "2022-03-14T14:09:41.698350",
     "status": "completed"
    },
    "tags": []
   },
   "outputs": [
    {
     "data": {
      "application/javascript": [
       "parent.postMessage({\"jupyterEvent\": \"custom.exercise_interaction\", \"data\": {\"outcomeType\": 1, \"valueTowardsCompletion\": 0.2, \"interactionType\": 1, \"questionType\": 2, \"questionId\": \"1_SignFunctionProblem\", \"learnToolsVersion\": \"0.3.4\", \"failureMessage\": \"\", \"exceptionClass\": \"\", \"trace\": \"\"}}, \"*\")"
      ],
      "text/plain": [
       "<IPython.core.display.Javascript object>"
      ]
     },
     "metadata": {},
     "output_type": "display_data"
    },
    {
     "data": {
      "text/markdown": [
       "<span style=\"color:#33cc33\">Correct</span>"
      ],
      "text/plain": [
       "Correct"
      ]
     },
     "metadata": {},
     "output_type": "display_data"
    }
   ],
   "source": [
    "# Your code goes here. Define a function called 'sign'\n",
    "def sign(num):\n",
    "    if num > 0:\n",
    "        return 1\n",
    "    elif num < 0:\n",
    "        return -1\n",
    "    else:\n",
    "        return 0\n",
    "    \n",
    "# Check your answer\n",
    "q1.check()"
   ]
  },
  {
   "cell_type": "code",
   "execution_count": 3,
   "id": "6b4eafbd",
   "metadata": {
    "execution": {
     "iopub.execute_input": "2022-03-14T14:09:41.794661Z",
     "iopub.status.busy": "2022-03-14T14:09:41.793760Z",
     "iopub.status.idle": "2022-03-14T14:09:41.797375Z",
     "shell.execute_reply": "2022-03-14T14:09:41.797898Z"
    },
    "papermill": {
     "duration": 0.033667,
     "end_time": "2022-03-14T14:09:41.798061",
     "exception": false,
     "start_time": "2022-03-14T14:09:41.764394",
     "status": "completed"
    },
    "tags": []
   },
   "outputs": [],
   "source": [
    "#q1.solution()"
   ]
  },
  {
   "cell_type": "markdown",
   "id": "86e3a1cf",
   "metadata": {
    "papermill": {
     "duration": 0.035966,
     "end_time": "2022-03-14T14:09:41.862344",
     "exception": false,
     "start_time": "2022-03-14T14:09:41.826378",
     "status": "completed"
    },
    "tags": []
   },
   "source": [
    "# 2.\n",
    "\n",
    "We've decided to add \"logging\" to our `to_smash` function from the previous exercise."
   ]
  },
  {
   "cell_type": "code",
   "execution_count": 4,
   "id": "ff3826fc",
   "metadata": {
    "execution": {
     "iopub.execute_input": "2022-03-14T14:09:41.934187Z",
     "iopub.status.busy": "2022-03-14T14:09:41.933292Z",
     "iopub.status.idle": "2022-03-14T14:09:41.941625Z",
     "shell.execute_reply": "2022-03-14T14:09:41.942380Z",
     "shell.execute_reply.started": "2022-03-14T13:01:20.800183Z"
    },
    "papermill": {
     "duration": 0.04642,
     "end_time": "2022-03-14T14:09:41.942544",
     "exception": false,
     "start_time": "2022-03-14T14:09:41.896124",
     "status": "completed"
    },
    "tags": []
   },
   "outputs": [
    {
     "name": "stdout",
     "output_type": "stream",
     "text": [
      "Splitting 91 candies\n"
     ]
    },
    {
     "data": {
      "text/plain": [
       "1"
      ]
     },
     "execution_count": 4,
     "metadata": {},
     "output_type": "execute_result"
    }
   ],
   "source": [
    "def to_smash(total_candies):\n",
    "    \"\"\"Return the number of leftover candies that must be smashed after distributing\n",
    "    the given number of candies evenly between 3 friends.\n",
    "    \n",
    "    >>> to_smash(91)\n",
    "    1\n",
    "    \"\"\"\n",
    "    print(\"Splitting\", total_candies, \"candies\")\n",
    "    return total_candies % 3\n",
    "\n",
    "to_smash(91)"
   ]
  },
  {
   "cell_type": "markdown",
   "id": "ec8cbd28",
   "metadata": {
    "papermill": {
     "duration": 0.027367,
     "end_time": "2022-03-14T14:09:41.998638",
     "exception": false,
     "start_time": "2022-03-14T14:09:41.971271",
     "status": "completed"
    },
    "tags": []
   },
   "source": [
    "What happens if we call it with `total_candies = 1`?"
   ]
  },
  {
   "cell_type": "code",
   "execution_count": 5,
   "id": "cce67189",
   "metadata": {
    "execution": {
     "iopub.execute_input": "2022-03-14T14:09:42.058666Z",
     "iopub.status.busy": "2022-03-14T14:09:42.057728Z",
     "iopub.status.idle": "2022-03-14T14:09:42.064317Z",
     "shell.execute_reply": "2022-03-14T14:09:42.064756Z",
     "shell.execute_reply.started": "2022-03-14T13:01:27.369826Z"
    },
    "papermill": {
     "duration": 0.038027,
     "end_time": "2022-03-14T14:09:42.064944",
     "exception": false,
     "start_time": "2022-03-14T14:09:42.026917",
     "status": "completed"
    },
    "tags": []
   },
   "outputs": [
    {
     "name": "stdout",
     "output_type": "stream",
     "text": [
      "Splitting 1 candies\n"
     ]
    },
    {
     "data": {
      "text/plain": [
       "1"
      ]
     },
     "execution_count": 5,
     "metadata": {},
     "output_type": "execute_result"
    }
   ],
   "source": [
    "to_smash(1)"
   ]
  },
  {
   "cell_type": "markdown",
   "id": "3a603b8f",
   "metadata": {
    "papermill": {
     "duration": 0.027917,
     "end_time": "2022-03-14T14:09:42.121250",
     "exception": false,
     "start_time": "2022-03-14T14:09:42.093333",
     "status": "completed"
    },
    "tags": []
   },
   "source": [
    "That isn't great grammar!\n",
    "\n",
    "Modify the definition in the cell below to correct the grammar of our print statement. (If there's only one candy, we should use the singular \"candy\" instead of the plural \"candies\")"
   ]
  },
  {
   "cell_type": "code",
   "execution_count": 6,
   "id": "0ac8dd25",
   "metadata": {
    "execution": {
     "iopub.execute_input": "2022-03-14T14:09:42.184528Z",
     "iopub.status.busy": "2022-03-14T14:09:42.180608Z",
     "iopub.status.idle": "2022-03-14T14:09:42.189322Z",
     "shell.execute_reply": "2022-03-14T14:09:42.188844Z",
     "shell.execute_reply.started": "2022-03-14T13:02:58.861907Z"
    },
    "papermill": {
     "duration": 0.039965,
     "end_time": "2022-03-14T14:09:42.189453",
     "exception": false,
     "start_time": "2022-03-14T14:09:42.149488",
     "status": "completed"
    },
    "tags": []
   },
   "outputs": [
    {
     "name": "stdout",
     "output_type": "stream",
     "text": [
      "Splitting 91 candies\n",
      "Splitting 1 candy\n"
     ]
    },
    {
     "data": {
      "text/plain": [
       "1"
      ]
     },
     "execution_count": 6,
     "metadata": {},
     "output_type": "execute_result"
    }
   ],
   "source": [
    "def to_smash(total_candies):\n",
    "    \"\"\"Return the number of leftover candies that must be smashed after distributing\n",
    "    the given number of candies evenly between 3 friends.\n",
    "    \n",
    "    >>> to_smash(91)\n",
    "    1\n",
    "    \"\"\"\n",
    "    if total_candies == 1:\n",
    "        print(\"Splitting\", total_candies, \"candy\")\n",
    "    else:\n",
    "        print(\"Splitting\", total_candies, \"candies\")\n",
    "\n",
    "    return total_candies % 3\n",
    "\n",
    "to_smash(91)\n",
    "to_smash(1)"
   ]
  },
  {
   "cell_type": "markdown",
   "id": "a668c575",
   "metadata": {
    "papermill": {
     "duration": 0.028124,
     "end_time": "2022-03-14T14:09:42.246391",
     "exception": false,
     "start_time": "2022-03-14T14:09:42.218267",
     "status": "completed"
    },
    "tags": []
   },
   "source": [
    "To get credit for completing this problem, and to see the official answer, run the code cell below."
   ]
  },
  {
   "cell_type": "code",
   "execution_count": 7,
   "id": "80a2f759",
   "metadata": {
    "execution": {
     "iopub.execute_input": "2022-03-14T14:09:42.306627Z",
     "iopub.status.busy": "2022-03-14T14:09:42.305968Z",
     "iopub.status.idle": "2022-03-14T14:09:42.311427Z",
     "shell.execute_reply": "2022-03-14T14:09:42.311947Z"
    },
    "papermill": {
     "duration": 0.037109,
     "end_time": "2022-03-14T14:09:42.312116",
     "exception": false,
     "start_time": "2022-03-14T14:09:42.275007",
     "status": "completed"
    },
    "tags": []
   },
   "outputs": [
    {
     "data": {
      "application/javascript": [
       "parent.postMessage({\"jupyterEvent\": \"custom.exercise_interaction\", \"data\": {\"interactionType\": 3, \"questionType\": 4, \"questionId\": \"2_PluralizationProblem\", \"learnToolsVersion\": \"0.3.4\", \"valueTowardsCompletion\": 0.0, \"failureMessage\": \"\", \"exceptionClass\": \"\", \"trace\": \"\", \"outcomeType\": 4}}, \"*\")"
      ],
      "text/plain": [
       "<IPython.core.display.Javascript object>"
      ]
     },
     "metadata": {},
     "output_type": "display_data"
    },
    {
     "data": {
      "text/markdown": [
       "<span style=\"color:#33cc99\">Solution:</span> A straightforward (and totally fine) solution is to replace the original `print` call with:\n",
       "\n",
       "```python\n",
       "if total_candies == 1:\n",
       "    print(\"Splitting 1 candy\")\n",
       "else:\n",
       "    print(\"Splitting\", total_candies, \"candies\")\n",
       "```\n",
       "\n",
       "Here's a slightly more succinct solution using a conditional expression:\n",
       "\n",
       "```python\n",
       "print(\"Splitting\", total_candies, \"candy\" if total_candies == 1 else \"candies\")\n",
       "```"
      ],
      "text/plain": [
       "Solution: A straightforward (and totally fine) solution is to replace the original `print` call with:\n",
       "\n",
       "```python\n",
       "if total_candies == 1:\n",
       "    print(\"Splitting 1 candy\")\n",
       "else:\n",
       "    print(\"Splitting\", total_candies, \"candies\")\n",
       "```\n",
       "\n",
       "Here's a slightly more succinct solution using a conditional expression:\n",
       "\n",
       "```python\n",
       "print(\"Splitting\", total_candies, \"candy\" if total_candies == 1 else \"candies\")\n",
       "```"
      ]
     },
     "metadata": {},
     "output_type": "display_data"
    }
   ],
   "source": [
    "# Check your answer (Run this code cell to receive credit!)\n",
    "q2.solution()"
   ]
  },
  {
   "cell_type": "markdown",
   "id": "4b1d5788",
   "metadata": {
    "papermill": {
     "duration": 0.035555,
     "end_time": "2022-03-14T14:09:42.379782",
     "exception": false,
     "start_time": "2022-03-14T14:09:42.344227",
     "status": "completed"
    },
    "tags": []
   },
   "source": [
    "# 3. <span title=\"A bit spicy\" style=\"color: darkgreen \">🌶️</span>\n",
    "\n",
    "In the tutorial, we talked about deciding whether we're prepared for the weather. I said that I'm safe from today's weather if...\n",
    "- I have an umbrella...\n",
    "- or if the rain isn't too heavy and I have a hood...\n",
    "- otherwise, I'm still fine unless it's raining *and* it's a workday\n",
    "\n",
    "The function below uses our first attempt at turning this logic into a Python expression. I claimed that there was a bug in that code. Can you find it?\n",
    "\n",
    "To prove that `prepared_for_weather` is buggy, come up with a set of inputs where either:\n",
    "- the function returns `False` (but should have returned `True`), or\n",
    "- the function returned `True` (but should have returned `False`).\n",
    "\n",
    "To get credit for completing this question, your code should return a <font color='#33cc33'>Correct</font> result."
   ]
  },
  {
   "cell_type": "code",
   "execution_count": 8,
   "id": "c03a9e14",
   "metadata": {
    "execution": {
     "iopub.execute_input": "2022-03-14T14:09:42.448821Z",
     "iopub.status.busy": "2022-03-14T14:09:42.447915Z",
     "iopub.status.idle": "2022-03-14T14:09:42.457734Z",
     "shell.execute_reply": "2022-03-14T14:09:42.458210Z",
     "shell.execute_reply.started": "2022-03-14T13:06:26.900632Z"
    },
    "papermill": {
     "duration": 0.046416,
     "end_time": "2022-03-14T14:09:42.458393",
     "exception": false,
     "start_time": "2022-03-14T14:09:42.411977",
     "status": "completed"
    },
    "tags": []
   },
   "outputs": [
    {
     "name": "stdout",
     "output_type": "stream",
     "text": [
      "False\n"
     ]
    },
    {
     "data": {
      "application/javascript": [
       "parent.postMessage({\"jupyterEvent\": \"custom.exercise_interaction\", \"data\": {\"outcomeType\": 1, \"valueTowardsCompletion\": 0.2, \"interactionType\": 1, \"questionType\": 1, \"questionId\": \"3_WeatherDebug\", \"learnToolsVersion\": \"0.3.4\", \"failureMessage\": \"\", \"exceptionClass\": \"\", \"trace\": \"\"}}, \"*\")"
      ],
      "text/plain": [
       "<IPython.core.display.Javascript object>"
      ]
     },
     "metadata": {},
     "output_type": "display_data"
    },
    {
     "data": {
      "text/markdown": [
       "<span style=\"color:#33cc33\">Correct:</span> \n",
       "\n",
       "One example of a failing test case is:\n",
       "\n",
       "```python\n",
       "have_umbrella = False\n",
       "rain_level = 0.0\n",
       "have_hood = False\n",
       "is_workday = False\n",
       "```\n",
       "\n",
       "Clearly we're prepared for the weather in this case. It's not raining. Not only that, it's not a workday, so we don't even need to leave the house! But our function will return False on these inputs.\n",
       "\n",
       "The key problem is that Python implictly parenthesizes the last part as:\n",
       "\n",
       "```python\n",
       "(not (rain_level > 0)) and is_workday\n",
       "```\n",
       "\n",
       "Whereas what we were trying to express would look more like:\n",
       "\n",
       "```python\n",
       "not (rain_level > 0 and is_workday)\n",
       "```\n"
      ],
      "text/plain": [
       "Correct: \n",
       "\n",
       "One example of a failing test case is:\n",
       "\n",
       "```python\n",
       "have_umbrella = False\n",
       "rain_level = 0.0\n",
       "have_hood = False\n",
       "is_workday = False\n",
       "```\n",
       "\n",
       "Clearly we're prepared for the weather in this case. It's not raining. Not only that, it's not a workday, so we don't even need to leave the house! But our function will return False on these inputs.\n",
       "\n",
       "The key problem is that Python implictly parenthesizes the last part as:\n",
       "\n",
       "```python\n",
       "(not (rain_level > 0)) and is_workday\n",
       "```\n",
       "\n",
       "Whereas what we were trying to express would look more like:\n",
       "\n",
       "```python\n",
       "not (rain_level > 0 and is_workday)\n",
       "```"
      ]
     },
     "metadata": {},
     "output_type": "display_data"
    }
   ],
   "source": [
    "def prepared_for_weather(have_umbrella, rain_level, have_hood, is_workday):\n",
    "    # Don't change this code. Our goal is just to find the bug, not fix it!\n",
    "    return have_umbrella or rain_level < 5 and have_hood or not rain_level > 0 and is_workday\n",
    "\n",
    "# Change the values of these inputs so they represent a case where prepared_for_weather\n",
    "# returns the wrong answer.\n",
    "have_umbrella = False\n",
    "rain_level = 5.0\n",
    "have_hood = False\n",
    "is_workday = False\n",
    "\n",
    "# Check what the function returns given the current values of the variables above\n",
    "actual = prepared_for_weather(have_umbrella, rain_level, have_hood, is_workday)\n",
    "print(actual)\n",
    "\n",
    "# Check your answer\n",
    "q3.check()"
   ]
  },
  {
   "cell_type": "code",
   "execution_count": 9,
   "id": "b630e315",
   "metadata": {
    "execution": {
     "iopub.execute_input": "2022-03-14T14:09:42.524348Z",
     "iopub.status.busy": "2022-03-14T14:09:42.523722Z",
     "iopub.status.idle": "2022-03-14T14:09:42.526661Z",
     "shell.execute_reply": "2022-03-14T14:09:42.527202Z"
    },
    "papermill": {
     "duration": 0.037477,
     "end_time": "2022-03-14T14:09:42.527365",
     "exception": false,
     "start_time": "2022-03-14T14:09:42.489888",
     "status": "completed"
    },
    "tags": []
   },
   "outputs": [],
   "source": [
    "#q3.hint()\n",
    "#q3.solution()"
   ]
  },
  {
   "cell_type": "markdown",
   "id": "a8a2ec2f",
   "metadata": {
    "papermill": {
     "duration": 0.031324,
     "end_time": "2022-03-14T14:09:42.590337",
     "exception": false,
     "start_time": "2022-03-14T14:09:42.559013",
     "status": "completed"
    },
    "tags": []
   },
   "source": [
    "# 4.\n",
    "\n",
    "The function `is_negative` below is implemented correctly - it returns True if the given number is negative and False otherwise.\n",
    "\n",
    "However, it's more verbose than it needs to be. We can actually reduce the number of lines of code in this function by *75%* while keeping the same behaviour. \n",
    "\n",
    "See if you can come up with an equivalent body that uses just **one line** of code, and put it in the function `concise_is_negative`. (HINT: you don't even need Python's ternary syntax)"
   ]
  },
  {
   "cell_type": "code",
   "execution_count": 10,
   "id": "4c7ce77f",
   "metadata": {
    "execution": {
     "iopub.execute_input": "2022-03-14T14:09:42.659673Z",
     "iopub.status.busy": "2022-03-14T14:09:42.656820Z",
     "iopub.status.idle": "2022-03-14T14:09:42.663224Z",
     "shell.execute_reply": "2022-03-14T14:09:42.663652Z",
     "shell.execute_reply.started": "2022-03-14T13:08:28.740817Z"
    },
    "papermill": {
     "duration": 0.04183,
     "end_time": "2022-03-14T14:09:42.663804",
     "exception": false,
     "start_time": "2022-03-14T14:09:42.621974",
     "status": "completed"
    },
    "tags": []
   },
   "outputs": [
    {
     "data": {
      "application/javascript": [
       "parent.postMessage({\"jupyterEvent\": \"custom.exercise_interaction\", \"data\": {\"outcomeType\": 1, \"valueTowardsCompletion\": 0.2, \"interactionType\": 1, \"questionType\": 2, \"questionId\": \"4_ConciseIsNegative\", \"learnToolsVersion\": \"0.3.4\", \"failureMessage\": \"\", \"exceptionClass\": \"\", \"trace\": \"\"}}, \"*\")"
      ],
      "text/plain": [
       "<IPython.core.display.Javascript object>"
      ]
     },
     "metadata": {},
     "output_type": "display_data"
    },
    {
     "data": {
      "text/markdown": [
       "<span style=\"color:#33cc33\">Correct</span>"
      ],
      "text/plain": [
       "Correct"
      ]
     },
     "metadata": {},
     "output_type": "display_data"
    }
   ],
   "source": [
    "def is_negative(number):\n",
    "    if number < 0:\n",
    "        return True\n",
    "    else:\n",
    "        return False\n",
    "\n",
    "def concise_is_negative(number):\n",
    "    return number < 0 # Your code goes here (try to keep it to one line!)\n",
    "\n",
    "# Check your answer\n",
    "q4.check()"
   ]
  },
  {
   "cell_type": "code",
   "execution_count": 11,
   "id": "c088565a",
   "metadata": {
    "execution": {
     "iopub.execute_input": "2022-03-14T14:09:42.731466Z",
     "iopub.status.busy": "2022-03-14T14:09:42.730790Z",
     "iopub.status.idle": "2022-03-14T14:09:42.733223Z",
     "shell.execute_reply": "2022-03-14T14:09:42.733650Z"
    },
    "papermill": {
     "duration": 0.037745,
     "end_time": "2022-03-14T14:09:42.733806",
     "exception": false,
     "start_time": "2022-03-14T14:09:42.696061",
     "status": "completed"
    },
    "tags": []
   },
   "outputs": [],
   "source": [
    "#q4.hint()\n",
    "#q4.solution()"
   ]
  },
  {
   "cell_type": "markdown",
   "id": "a2650245",
   "metadata": {
    "papermill": {
     "duration": 0.032284,
     "end_time": "2022-03-14T14:09:42.798462",
     "exception": false,
     "start_time": "2022-03-14T14:09:42.766178",
     "status": "completed"
    },
    "tags": []
   },
   "source": [
    "# 5a.\n",
    "\n",
    "The boolean variables `ketchup`, `mustard` and `onion` represent whether a customer wants a particular topping on their hot dog. We want to implement a number of boolean functions that correspond to some yes-or-no questions about the customer's order. For example:"
   ]
  },
  {
   "cell_type": "code",
   "execution_count": 12,
   "id": "69bd4e02",
   "metadata": {
    "execution": {
     "iopub.execute_input": "2022-03-14T14:09:42.883401Z",
     "iopub.status.busy": "2022-03-14T14:09:42.882550Z",
     "iopub.status.idle": "2022-03-14T14:09:42.886199Z",
     "shell.execute_reply": "2022-03-14T14:09:42.886923Z"
    },
    "papermill": {
     "duration": 0.050889,
     "end_time": "2022-03-14T14:09:42.887153",
     "exception": false,
     "start_time": "2022-03-14T14:09:42.836264",
     "status": "completed"
    },
    "tags": []
   },
   "outputs": [],
   "source": [
    "def onionless(ketchup, mustard, onion):\n",
    "    \"\"\"Return whether the customer doesn't want onions.\n",
    "    \"\"\"\n",
    "    return not onion"
   ]
  },
  {
   "cell_type": "code",
   "execution_count": 13,
   "id": "83caba0a",
   "metadata": {
    "execution": {
     "iopub.execute_input": "2022-03-14T14:09:42.975612Z",
     "iopub.status.busy": "2022-03-14T14:09:42.974862Z",
     "iopub.status.idle": "2022-03-14T14:09:42.982280Z",
     "shell.execute_reply": "2022-03-14T14:09:42.982760Z",
     "shell.execute_reply.started": "2022-03-14T13:11:12.288619Z"
    },
    "papermill": {
     "duration": 0.046184,
     "end_time": "2022-03-14T14:09:42.983054",
     "exception": false,
     "start_time": "2022-03-14T14:09:42.936870",
     "status": "completed"
    },
    "tags": []
   },
   "outputs": [
    {
     "data": {
      "application/javascript": [
       "parent.postMessage({\"jupyterEvent\": \"custom.exercise_interaction\", \"data\": {\"outcomeType\": 1, \"valueTowardsCompletion\": 0.2, \"interactionType\": 1, \"questionType\": 2, \"questionId\": \"5.1_AllToppings\", \"learnToolsVersion\": \"0.3.4\", \"failureMessage\": \"\", \"exceptionClass\": \"\", \"trace\": \"\"}}, \"*\")"
      ],
      "text/plain": [
       "<IPython.core.display.Javascript object>"
      ]
     },
     "metadata": {},
     "output_type": "display_data"
    },
    {
     "data": {
      "text/markdown": [
       "<span style=\"color:#33cc33\">Correct</span>"
      ],
      "text/plain": [
       "Correct"
      ]
     },
     "metadata": {},
     "output_type": "display_data"
    }
   ],
   "source": [
    "def wants_all_toppings(ketchup, mustard, onion):\n",
    "    \"\"\"Return whether the customer wants \"the works\" (all 3 toppings)\n",
    "    \"\"\"\n",
    "    return (ketchup and mustard and onion)\n",
    "\n",
    "# Check your answer\n",
    "q5.a.check()"
   ]
  },
  {
   "cell_type": "code",
   "execution_count": 14,
   "id": "47adae18",
   "metadata": {
    "execution": {
     "iopub.execute_input": "2022-03-14T14:09:43.060788Z",
     "iopub.status.busy": "2022-03-14T14:09:43.060126Z",
     "iopub.status.idle": "2022-03-14T14:09:43.063010Z",
     "shell.execute_reply": "2022-03-14T14:09:43.063523Z"
    },
    "papermill": {
     "duration": 0.044215,
     "end_time": "2022-03-14T14:09:43.063690",
     "exception": false,
     "start_time": "2022-03-14T14:09:43.019475",
     "status": "completed"
    },
    "tags": []
   },
   "outputs": [],
   "source": [
    "#q5.a.hint()\n",
    "#q5.a.solution()"
   ]
  },
  {
   "cell_type": "markdown",
   "id": "f7be54e3",
   "metadata": {
    "papermill": {
     "duration": 0.03586,
     "end_time": "2022-03-14T14:09:43.136484",
     "exception": false,
     "start_time": "2022-03-14T14:09:43.100624",
     "status": "completed"
    },
    "tags": []
   },
   "source": [
    "# 5b.\n",
    "\n",
    "For the next function, fill in the body to match the English description in the docstring. "
   ]
  },
  {
   "cell_type": "code",
   "execution_count": 15,
   "id": "a3989157",
   "metadata": {
    "execution": {
     "iopub.execute_input": "2022-03-14T14:09:43.211259Z",
     "iopub.status.busy": "2022-03-14T14:09:43.210634Z",
     "iopub.status.idle": "2022-03-14T14:09:43.217798Z",
     "shell.execute_reply": "2022-03-14T14:09:43.218321Z",
     "shell.execute_reply.started": "2022-03-14T13:20:46.959139Z"
    },
    "papermill": {
     "duration": 0.046089,
     "end_time": "2022-03-14T14:09:43.218503",
     "exception": false,
     "start_time": "2022-03-14T14:09:43.172414",
     "status": "completed"
    },
    "tags": []
   },
   "outputs": [
    {
     "data": {
      "application/javascript": [
       "parent.postMessage({\"jupyterEvent\": \"custom.exercise_interaction\", \"data\": {\"outcomeType\": 1, \"valueTowardsCompletion\": 0.2, \"interactionType\": 1, \"questionType\": 2, \"questionId\": \"5.2_PlainDog\", \"learnToolsVersion\": \"0.3.4\", \"failureMessage\": \"\", \"exceptionClass\": \"\", \"trace\": \"\"}}, \"*\")"
      ],
      "text/plain": [
       "<IPython.core.display.Javascript object>"
      ]
     },
     "metadata": {},
     "output_type": "display_data"
    },
    {
     "data": {
      "text/markdown": [
       "<span style=\"color:#33cc33\">Correct:</span> \n",
       "\n",
       "One solution looks like:\n",
       "```python\n",
       "return not ketchup and not mustard and not onion\n",
       "```\n",
       "\n",
       "We can also [\"factor out\" the nots](https://en.wikipedia.org/wiki/De_Morgan%27s_laws) to get:\n",
       "\n",
       "```python\n",
       "return not (ketchup or mustard or onion)\n",
       "```"
      ],
      "text/plain": [
       "Correct: \n",
       "\n",
       "One solution looks like:\n",
       "```python\n",
       "return not ketchup and not mustard and not onion\n",
       "```\n",
       "\n",
       "We can also [\"factor out\" the nots](https://en.wikipedia.org/wiki/De_Morgan%27s_laws) to get:\n",
       "\n",
       "```python\n",
       "return not (ketchup or mustard or onion)\n",
       "```"
      ]
     },
     "metadata": {},
     "output_type": "display_data"
    }
   ],
   "source": [
    "def wants_plain_hotdog(ketchup, mustard, onion):\n",
    "    \"\"\"Return whether the customer wants a plain hot dog with no toppings.\n",
    "    \"\"\"\n",
    "    return not (ketchup or mustard or onion)\n",
    "\n",
    "# Check your answer\n",
    "q5.b.check()"
   ]
  },
  {
   "cell_type": "code",
   "execution_count": 16,
   "id": "8e8130a8",
   "metadata": {
    "execution": {
     "iopub.execute_input": "2022-03-14T14:09:43.294264Z",
     "iopub.status.busy": "2022-03-14T14:09:43.293630Z",
     "iopub.status.idle": "2022-03-14T14:09:43.301634Z",
     "shell.execute_reply": "2022-03-14T14:09:43.302169Z",
     "shell.execute_reply.started": "2022-03-14T13:18:59.231137Z"
    },
    "papermill": {
     "duration": 0.046752,
     "end_time": "2022-03-14T14:09:43.302369",
     "exception": false,
     "start_time": "2022-03-14T14:09:43.255617",
     "status": "completed"
    },
    "tags": []
   },
   "outputs": [
    {
     "data": {
      "application/javascript": [
       "parent.postMessage({\"jupyterEvent\": \"custom.exercise_interaction\", \"data\": {\"interactionType\": 2, \"questionType\": 2, \"questionId\": \"5.2_PlainDog\", \"learnToolsVersion\": \"0.3.4\", \"valueTowardsCompletion\": 0.0, \"failureMessage\": \"\", \"exceptionClass\": \"\", \"trace\": \"\", \"outcomeType\": 4}}, \"*\")"
      ],
      "text/plain": [
       "<IPython.core.display.Javascript object>"
      ]
     },
     "metadata": {},
     "output_type": "display_data"
    },
    {
     "data": {
      "text/markdown": [
       "<span style=\"color:#3366cc\">Hint:</span> You'll need to use the `not` operator."
      ],
      "text/plain": [
       "Hint: You'll need to use the `not` operator."
      ]
     },
     "metadata": {},
     "output_type": "display_data"
    },
    {
     "data": {
      "application/javascript": [
       "parent.postMessage({\"jupyterEvent\": \"custom.exercise_interaction\", \"data\": {\"interactionType\": 3, \"questionType\": 2, \"questionId\": \"5.2_PlainDog\", \"learnToolsVersion\": \"0.3.4\", \"valueTowardsCompletion\": 0.0, \"failureMessage\": \"\", \"exceptionClass\": \"\", \"trace\": \"\", \"outcomeType\": 4}}, \"*\")"
      ],
      "text/plain": [
       "<IPython.core.display.Javascript object>"
      ]
     },
     "metadata": {},
     "output_type": "display_data"
    },
    {
     "data": {
      "text/markdown": [
       "<span style=\"color:#33cc99\">Solution:</span> One solution looks like:\n",
       "```python\n",
       "return not ketchup and not mustard and not onion\n",
       "```\n",
       "\n",
       "We can also [\"factor out\" the nots](https://en.wikipedia.org/wiki/De_Morgan%27s_laws) to get:\n",
       "\n",
       "```python\n",
       "return not (ketchup or mustard or onion)\n",
       "```"
      ],
      "text/plain": [
       "Solution: One solution looks like:\n",
       "```python\n",
       "return not ketchup and not mustard and not onion\n",
       "```\n",
       "\n",
       "We can also [\"factor out\" the nots](https://en.wikipedia.org/wiki/De_Morgan%27s_laws) to get:\n",
       "\n",
       "```python\n",
       "return not (ketchup or mustard or onion)\n",
       "```"
      ]
     },
     "metadata": {},
     "output_type": "display_data"
    }
   ],
   "source": [
    "q5.b.hint()\n",
    "q5.b.solution()"
   ]
  },
  {
   "cell_type": "markdown",
   "id": "0f28675b",
   "metadata": {
    "papermill": {
     "duration": 0.036184,
     "end_time": "2022-03-14T14:09:43.375609",
     "exception": false,
     "start_time": "2022-03-14T14:09:43.339425",
     "status": "completed"
    },
    "tags": []
   },
   "source": [
    "# 5c.\n",
    "\n",
    "You know what to do: for the next function, fill in the body to match the English description in the docstring."
   ]
  },
  {
   "cell_type": "code",
   "execution_count": 17,
   "id": "7fdd76eb",
   "metadata": {
    "execution": {
     "iopub.execute_input": "2022-03-14T14:09:43.452401Z",
     "iopub.status.busy": "2022-03-14T14:09:43.451486Z",
     "iopub.status.idle": "2022-03-14T14:09:43.458568Z",
     "shell.execute_reply": "2022-03-14T14:09:43.459041Z",
     "shell.execute_reply.started": "2022-03-14T13:24:27.658841Z"
    },
    "papermill": {
     "duration": 0.047148,
     "end_time": "2022-03-14T14:09:43.459199",
     "exception": false,
     "start_time": "2022-03-14T14:09:43.412051",
     "status": "completed"
    },
    "tags": []
   },
   "outputs": [
    {
     "data": {
      "application/javascript": [
       "parent.postMessage({\"jupyterEvent\": \"custom.exercise_interaction\", \"data\": {\"outcomeType\": 1, \"valueTowardsCompletion\": 0.2, \"interactionType\": 1, \"questionType\": 2, \"questionId\": \"5.3_OneSauce\", \"learnToolsVersion\": \"0.3.4\", \"failureMessage\": \"\", \"exceptionClass\": \"\", \"trace\": \"\"}}, \"*\")"
      ],
      "text/plain": [
       "<IPython.core.display.Javascript object>"
      ]
     },
     "metadata": {},
     "output_type": "display_data"
    },
    {
     "data": {
      "text/markdown": [
       "<span style=\"color:#33cc33\">Correct</span>"
      ],
      "text/plain": [
       "Correct"
      ]
     },
     "metadata": {},
     "output_type": "display_data"
    }
   ],
   "source": [
    "def exactly_one_sauce(ketchup, mustard, onion):\n",
    "    \"\"\"Return whether the customer wants either ketchup or mustard, but not both.\n",
    "    (You may be familiar with this operation under the name \"exclusive or\")\n",
    "    \"\"\"\n",
    "    return ketchup ^ mustard\n",
    "\n",
    "# Check your answer\n",
    "q5.c.check()"
   ]
  },
  {
   "cell_type": "code",
   "execution_count": 18,
   "id": "268adcd6",
   "metadata": {
    "execution": {
     "iopub.execute_input": "2022-03-14T14:09:43.541705Z",
     "iopub.status.busy": "2022-03-14T14:09:43.541138Z",
     "iopub.status.idle": "2022-03-14T14:09:43.544086Z",
     "shell.execute_reply": "2022-03-14T14:09:43.544745Z"
    },
    "papermill": {
     "duration": 0.047262,
     "end_time": "2022-03-14T14:09:43.544934",
     "exception": false,
     "start_time": "2022-03-14T14:09:43.497672",
     "status": "completed"
    },
    "tags": []
   },
   "outputs": [],
   "source": [
    "#q5.c.hint()\n",
    "#q5.c.solution()"
   ]
  },
  {
   "cell_type": "markdown",
   "id": "77600eb7",
   "metadata": {
    "papermill": {
     "duration": 0.038833,
     "end_time": "2022-03-14T14:09:43.624980",
     "exception": false,
     "start_time": "2022-03-14T14:09:43.586147",
     "status": "completed"
    },
    "tags": []
   },
   "source": [
    "# 6. <span title=\"A bit spicy\" style=\"color: darkgreen \">🌶️</span>\n",
    "\n",
    "We’ve seen that calling `bool()` on an integer returns `False` if it’s equal to 0 and `True` otherwise. What happens if we call `int()` on a bool? Try it out in the notebook cell below.\n",
    "\n",
    "Can you take advantage of this to write a succinct function that corresponds to the English sentence \"does the customer want exactly one topping?\"?"
   ]
  },
  {
   "cell_type": "code",
   "execution_count": 19,
   "id": "94f18c3b",
   "metadata": {
    "execution": {
     "iopub.execute_input": "2022-03-14T14:09:43.708098Z",
     "iopub.status.busy": "2022-03-14T14:09:43.707153Z",
     "iopub.status.idle": "2022-03-14T14:09:43.715153Z",
     "shell.execute_reply": "2022-03-14T14:09:43.715549Z",
     "shell.execute_reply.started": "2022-03-14T13:36:01.559329Z"
    },
    "papermill": {
     "duration": 0.05041,
     "end_time": "2022-03-14T14:09:43.715713",
     "exception": false,
     "start_time": "2022-03-14T14:09:43.665303",
     "status": "completed"
    },
    "tags": []
   },
   "outputs": [
    {
     "data": {
      "application/javascript": [
       "parent.postMessage({\"jupyterEvent\": \"custom.exercise_interaction\", \"data\": {\"outcomeType\": 1, \"valueTowardsCompletion\": 0.2, \"interactionType\": 1, \"questionType\": 2, \"questionId\": \"6_OneTopping\", \"learnToolsVersion\": \"0.3.4\", \"failureMessage\": \"\", \"exceptionClass\": \"\", \"trace\": \"\"}}, \"*\")"
      ],
      "text/plain": [
       "<IPython.core.display.Javascript object>"
      ]
     },
     "metadata": {},
     "output_type": "display_data"
    },
    {
     "data": {
      "text/markdown": [
       "<span style=\"color:#33cc33\">Correct:</span> \n",
       "\n",
       "This condition would be pretty complicated to express using just `and`, `or` and `not`, but using boolean-to-integer conversion gives us this short solution:\n",
       "```python\n",
       "return (int(ketchup) + int(mustard) + int(onion)) == 1\n",
       "```\n",
       "\n",
       "Fun fact: we don't technically need to call `int` on the arguments. Just by doing addition with booleans, Python implicitly does the integer conversion. So we could also write...\n",
       "\n",
       "```python\n",
       "return (ketchup + mustard + onion) == 1\n",
       "```"
      ],
      "text/plain": [
       "Correct: \n",
       "\n",
       "This condition would be pretty complicated to express using just `and`, `or` and `not`, but using boolean-to-integer conversion gives us this short solution:\n",
       "```python\n",
       "return (int(ketchup) + int(mustard) + int(onion)) == 1\n",
       "```\n",
       "\n",
       "Fun fact: we don't technically need to call `int` on the arguments. Just by doing addition with booleans, Python implicitly does the integer conversion. So we could also write...\n",
       "\n",
       "```python\n",
       "return (ketchup + mustard + onion) == 1\n",
       "```"
      ]
     },
     "metadata": {},
     "output_type": "display_data"
    }
   ],
   "source": [
    "def exactly_one_topping(ketchup, mustard, onion):\n",
    "    \"\"\"Return whether the customer wants exactly one of the three available toppings\n",
    "    on their hot dog.\n",
    "    \"\"\"\n",
    "    return int(ketchup) + int(mustard) + int(onion) == 1\n",
    "\n",
    "# Check your answer\n",
    "q6.check()"
   ]
  },
  {
   "cell_type": "code",
   "execution_count": 20,
   "id": "2d52293d",
   "metadata": {
    "execution": {
     "iopub.execute_input": "2022-03-14T14:09:43.802643Z",
     "iopub.status.busy": "2022-03-14T14:09:43.801747Z",
     "iopub.status.idle": "2022-03-14T14:09:43.805612Z",
     "shell.execute_reply": "2022-03-14T14:09:43.806389Z",
     "shell.execute_reply.started": "2022-03-14T13:28:52.626825Z"
    },
    "papermill": {
     "duration": 0.050932,
     "end_time": "2022-03-14T14:09:43.806615",
     "exception": false,
     "start_time": "2022-03-14T14:09:43.755683",
     "status": "completed"
    },
    "tags": []
   },
   "outputs": [
    {
     "name": "stdout",
     "output_type": "stream",
     "text": [
      "True\n",
      "True\n"
     ]
    }
   ],
   "source": [
    "print(bool(2))\n",
    "print(bool(-1))"
   ]
  },
  {
   "cell_type": "code",
   "execution_count": 21,
   "id": "c2bed3d3",
   "metadata": {
    "execution": {
     "iopub.execute_input": "2022-03-14T14:09:43.907694Z",
     "iopub.status.busy": "2022-03-14T14:09:43.906739Z",
     "iopub.status.idle": "2022-03-14T14:09:43.915644Z",
     "shell.execute_reply": "2022-03-14T14:09:43.914930Z",
     "shell.execute_reply.started": "2022-03-14T13:35:02.468788Z"
    },
    "papermill": {
     "duration": 0.062502,
     "end_time": "2022-03-14T14:09:43.915793",
     "exception": false,
     "start_time": "2022-03-14T14:09:43.853291",
     "status": "completed"
    },
    "tags": []
   },
   "outputs": [
    {
     "data": {
      "application/javascript": [
       "parent.postMessage({\"jupyterEvent\": \"custom.exercise_interaction\", \"data\": {\"interactionType\": 2, \"questionType\": 2, \"questionId\": \"6_OneTopping\", \"learnToolsVersion\": \"0.3.4\", \"valueTowardsCompletion\": 0.0, \"failureMessage\": \"\", \"exceptionClass\": \"\", \"trace\": \"\", \"outcomeType\": 4}}, \"*\")"
      ],
      "text/plain": [
       "<IPython.core.display.Javascript object>"
      ]
     },
     "metadata": {},
     "output_type": "display_data"
    },
    {
     "data": {
      "text/markdown": [
       "<span style=\"color:#3366cc\">Hint:</span> You may have already found that `int(True)` is 1, and `int(False)` is 0. Think about what kinds of basic arithmetic operations you might want to perform on `ketchup`, `mustard`, and `onion` after converting them to integers."
      ],
      "text/plain": [
       "Hint: You may have already found that `int(True)` is 1, and `int(False)` is 0. Think about what kinds of basic arithmetic operations you might want to perform on `ketchup`, `mustard`, and `onion` after converting them to integers."
      ]
     },
     "metadata": {},
     "output_type": "display_data"
    }
   ],
   "source": [
    "q6.hint()\n",
    "#q6.solution()"
   ]
  },
  {
   "cell_type": "markdown",
   "id": "43391138",
   "metadata": {
    "papermill": {
     "duration": 0.043361,
     "end_time": "2022-03-14T14:09:44.010031",
     "exception": false,
     "start_time": "2022-03-14T14:09:43.966670",
     "status": "completed"
    },
    "tags": []
   },
   "source": [
    "# 7. <span title=\"A bit spicy\" style=\"color: darkgreen \">🌶️</span> (Optional)\n",
    "\n",
    "In this problem we'll be working with a simplified version of [blackjack](https://en.wikipedia.org/wiki/Blackjack) (aka twenty-one). In this version there is one player (who you'll control) and a dealer. Play proceeds as follows:\n",
    "\n",
    "- The player is dealt two face-up cards. The dealer is dealt one face-up card.\n",
    "- The player may ask to be dealt another card ('hit') as many times as they wish. If the sum of their cards exceeds 21, they lose the round immediately.\n",
    "- The dealer then deals additional cards to himself until either:\n",
    "    - the sum of the dealer's cards exceeds 21, in which case the player wins the round\n",
    "    - the sum of the dealer's cards is greater than or equal to 17. If the player's total is greater than the dealer's, the player wins. Otherwise, the dealer wins (even in case of a tie).\n",
    "    \n",
    "When calculating the sum of cards, Jack, Queen, and King count for 10. Aces can count as 1 or 11 (when referring to a player's \"total\" above, we mean the largest total that can be made without exceeding 21. So e.g. A+8 = 19, A+8+8 = 17)\n",
    "\n",
    "For this problem, you'll write a function representing the player's decision-making strategy in this game. We've provided a very unintelligent implementation below:"
   ]
  },
  {
   "cell_type": "code",
   "execution_count": 22,
   "id": "57cc082d",
   "metadata": {
    "execution": {
     "iopub.execute_input": "2022-03-14T14:09:44.101286Z",
     "iopub.status.busy": "2022-03-14T14:09:44.100602Z",
     "iopub.status.idle": "2022-03-14T14:09:44.104407Z",
     "shell.execute_reply": "2022-03-14T14:09:44.104916Z",
     "shell.execute_reply.started": "2022-03-14T14:06:43.170488Z"
    },
    "papermill": {
     "duration": 0.050563,
     "end_time": "2022-03-14T14:09:44.105085",
     "exception": false,
     "start_time": "2022-03-14T14:09:44.054522",
     "status": "completed"
    },
    "tags": []
   },
   "outputs": [],
   "source": [
    "def should_hit(dealer_total, player_total, player_low_aces, player_high_aces):\n",
    "    \"\"\"Return True if the player should hit (request another card) given the current game\n",
    "    state, or False if the player should stay.\n",
    "    When calculating a hand's total value, we count aces as \"high\" (with value 11) if doing so\n",
    "    doesn't bring the total above 21, otherwise we count them as low (with value 1). \n",
    "    For example, if the player's hand is {A, A, A, 7}, we will count it as 11 + 1 + 1 + 7,\n",
    "    and therefore set player_total=20, player_low_aces=2, player_high_aces=1.\n",
    "    \"\"\"\n",
    "    if dealer_total <= 6:\n",
    "        if player_total > 12:\n",
    "            return False\n",
    "        else:\n",
    "            return True\n",
    "    else:\n",
    "        if player_total < 17:\n",
    "            return True"
   ]
  },
  {
   "cell_type": "markdown",
   "id": "ae0ad178",
   "metadata": {
    "papermill": {
     "duration": 0.042026,
     "end_time": "2022-03-14T14:09:44.191428",
     "exception": false,
     "start_time": "2022-03-14T14:09:44.149402",
     "status": "completed"
    },
    "tags": []
   },
   "source": [
    "This very conservative agent *always* sticks with the hand of two cards that they're dealt.\n",
    "\n",
    "We'll be simulating games between your player agent and our own dealer agent by calling your function.\n",
    "\n",
    "Try running the function below to see an example of a simulated game:"
   ]
  },
  {
   "cell_type": "code",
   "execution_count": 23,
   "id": "d73a8430",
   "metadata": {
    "execution": {
     "iopub.execute_input": "2022-03-14T14:09:44.280727Z",
     "iopub.status.busy": "2022-03-14T14:09:44.278493Z",
     "iopub.status.idle": "2022-03-14T14:09:44.283509Z",
     "shell.execute_reply": "2022-03-14T14:09:44.284108Z",
     "shell.execute_reply.started": "2022-03-14T14:00:35.450085Z"
    },
    "papermill": {
     "duration": 0.049818,
     "end_time": "2022-03-14T14:09:44.284281",
     "exception": false,
     "start_time": "2022-03-14T14:09:44.234463",
     "status": "completed"
    },
    "tags": []
   },
   "outputs": [
    {
     "name": "stdout",
     "output_type": "stream",
     "text": [
      "Player starts with 2 and K (total = 12)\n",
      "Dealer starts with K\n",
      "\n",
      "__Player's turn__\n",
      "Player hits and receives J. (total = 22)\n",
      "Player busts! Dealer wins.\n"
     ]
    }
   ],
   "source": [
    "q7.simulate_one_game()"
   ]
  },
  {
   "cell_type": "markdown",
   "id": "243551fc",
   "metadata": {
    "papermill": {
     "duration": 0.041167,
     "end_time": "2022-03-14T14:09:44.366794",
     "exception": false,
     "start_time": "2022-03-14T14:09:44.325627",
     "status": "completed"
    },
    "tags": []
   },
   "source": [
    "The real test of your agent's mettle is their average win rate over many games. Try calling the function below to simulate 50000 games of blackjack (it may take a couple seconds):"
   ]
  },
  {
   "cell_type": "code",
   "execution_count": 24,
   "id": "d8ff59ce",
   "metadata": {
    "execution": {
     "iopub.execute_input": "2022-03-14T14:09:44.456729Z",
     "iopub.status.busy": "2022-03-14T14:09:44.455940Z",
     "iopub.status.idle": "2022-03-14T14:09:45.843554Z",
     "shell.execute_reply": "2022-03-14T14:09:45.844133Z",
     "shell.execute_reply.started": "2022-03-14T14:06:47.350624Z"
    },
    "papermill": {
     "duration": 1.434257,
     "end_time": "2022-03-14T14:09:45.844311",
     "exception": false,
     "start_time": "2022-03-14T14:09:44.410054",
     "status": "completed"
    },
    "tags": []
   },
   "outputs": [
    {
     "name": "stdout",
     "output_type": "stream",
     "text": [
      "Player won 21249 out of 50000 games (win rate = 42.5%)\n"
     ]
    }
   ],
   "source": [
    "q7.simulate(n_games=50000)"
   ]
  },
  {
   "cell_type": "markdown",
   "id": "4fb7df46",
   "metadata": {
    "papermill": {
     "duration": 0.040733,
     "end_time": "2022-03-14T14:09:45.927637",
     "exception": false,
     "start_time": "2022-03-14T14:09:45.886904",
     "status": "completed"
    },
    "tags": []
   },
   "source": [
    "Our dumb agent that completely ignores the game state still manages to win shockingly often!\n",
    "\n",
    "Try adding some more smarts to the `should_hit` function and see how it affects the results."
   ]
  },
  {
   "cell_type": "code",
   "execution_count": 25,
   "id": "5ea39aee",
   "metadata": {
    "execution": {
     "iopub.execute_input": "2022-03-14T14:09:46.011821Z",
     "iopub.status.busy": "2022-03-14T14:09:46.011273Z",
     "iopub.status.idle": "2022-03-14T14:09:47.258415Z",
     "shell.execute_reply": "2022-03-14T14:09:47.259205Z",
     "shell.execute_reply.started": "2022-03-14T13:55:38.332595Z"
    },
    "papermill": {
     "duration": 1.291194,
     "end_time": "2022-03-14T14:09:47.259432",
     "exception": false,
     "start_time": "2022-03-14T14:09:45.968238",
     "status": "completed"
    },
    "tags": []
   },
   "outputs": [
    {
     "name": "stdout",
     "output_type": "stream",
     "text": [
      "Player won 19179 out of 50000 games (win rate = 38.4%)\n"
     ]
    }
   ],
   "source": [
    "def should_hit(dealer_total, player_total, player_low_aces, player_high_aces):\n",
    "    \"\"\"Return True if the player should hit (request another card) given the current game\n",
    "    state, or False if the player should stay.\n",
    "    When calculating a hand's total value, we count aces as \"high\" (with value 11) if doing so\n",
    "    doesn't bring the total above 21, otherwise we count them as low (with value 1). \n",
    "    For example, if the player's hand is {A, A, A, 7}, we will count it as 11 + 1 + 1 + 7,\n",
    "    and therefore set player_total=20, player_low_aces=2, player_high_aces=1.\n",
    "    \"\"\"\n",
    "    return False\n",
    "\n",
    "q7.simulate(n_games=50000)"
   ]
  },
  {
   "cell_type": "markdown",
   "id": "5ccf7485",
   "metadata": {
    "papermill": {
     "duration": 0.040969,
     "end_time": "2022-03-14T14:09:47.342497",
     "exception": false,
     "start_time": "2022-03-14T14:09:47.301528",
     "status": "completed"
    },
    "tags": []
   },
   "source": [
    "# Keep Going\n",
    "\n",
    "Learn about **[lists and tuples](https://www.kaggle.com/colinmorris/lists)** to handle multiple items of data in a systematic way."
   ]
  },
  {
   "cell_type": "markdown",
   "id": "0e732d3b",
   "metadata": {
    "papermill": {
     "duration": 0.040238,
     "end_time": "2022-03-14T14:09:47.423004",
     "exception": false,
     "start_time": "2022-03-14T14:09:47.382766",
     "status": "completed"
    },
    "tags": []
   },
   "source": [
    "---\n",
    "\n",
    "\n",
    "\n",
    "\n",
    "*Have questions or comments? Visit the [course discussion forum](https://www.kaggle.com/learn/python/discussion) to chat with other learners.*"
   ]
  }
 ],
 "metadata": {
  "kernelspec": {
   "display_name": "Python 3",
   "language": "python",
   "name": "python3"
  },
  "language_info": {
   "codemirror_mode": {
    "name": "ipython",
    "version": 3
   },
   "file_extension": ".py",
   "mimetype": "text/x-python",
   "name": "python",
   "nbconvert_exporter": "python",
   "pygments_lexer": "ipython3",
   "version": "3.7.12"
  },
  "papermill": {
   "default_parameters": {},
   "duration": 14.989659,
   "end_time": "2022-03-14T14:09:48.073350",
   "environment_variables": {},
   "exception": null,
   "input_path": "__notebook__.ipynb",
   "output_path": "__notebook__.ipynb",
   "parameters": {},
   "start_time": "2022-03-14T14:09:33.083691",
   "version": "2.3.3"
  }
 },
 "nbformat": 4,
 "nbformat_minor": 5
}
